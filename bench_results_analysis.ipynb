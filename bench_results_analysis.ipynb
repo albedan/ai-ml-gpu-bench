{
 "cells": [
  {
   "cell_type": "code",
   "execution_count": 9,
   "id": "421a7b3f",
   "metadata": {},
   "outputs": [],
   "source": [
    "import pandas as pd\n",
    "import plotly.graph_objects as go\n",
    "import plotly.express as px\n",
    "import re\n",
    "import os\n",
    "\n",
    "# Load the CSV files\n",
    "xgb_df = pd.read_csv('results/xgb.csv')\n",
    "ollama_df = pd.read_csv('results/ollama.csv')"
   ]
  },
  {
   "cell_type": "code",
   "execution_count": 10,
   "id": "e2ac4ca2",
   "metadata": {},
   "outputs": [
    {
     "data": {
      "text/html": [
       "<div>\n",
       "<style scoped>\n",
       "    .dataframe tbody tr th:only-of-type {\n",
       "        vertical-align: middle;\n",
       "    }\n",
       "\n",
       "    .dataframe tbody tr th {\n",
       "        vertical-align: top;\n",
       "    }\n",
       "\n",
       "    .dataframe thead th {\n",
       "        text-align: right;\n",
       "    }\n",
       "</style>\n",
       "<table border=\"1\" class=\"dataframe\">\n",
       "  <thead>\n",
       "    <tr style=\"text-align: right;\">\n",
       "      <th></th>\n",
       "      <th>machine</th>\n",
       "      <th>CPU</th>\n",
       "      <th>GPU</th>\n",
       "      <th>python</th>\n",
       "      <th>platform</th>\n",
       "      <th>bench</th>\n",
       "      <th>dataset_rows</th>\n",
       "      <th>gpu</th>\n",
       "      <th>train_median_s</th>\n",
       "      <th>infer_median_s</th>\n",
       "      <th>auc</th>\n",
       "      <th>seed</th>\n",
       "      <th>timestamp</th>\n",
       "    </tr>\n",
       "  </thead>\n",
       "  <tbody>\n",
       "    <tr>\n",
       "      <th>0</th>\n",
       "      <td>PC_AL_2025</td>\n",
       "      <td>AMD Ryzen 5 9600X</td>\n",
       "      <td>Nvidia RTX 5060 Ti 16GB</td>\n",
       "      <td>3.13.5</td>\n",
       "      <td>Windows-11-10.0.26100-SP0</td>\n",
       "      <td>xgboost</td>\n",
       "      <td>100000</td>\n",
       "      <td>True</td>\n",
       "      <td>0.80</td>\n",
       "      <td>0.01</td>\n",
       "      <td>0.81023</td>\n",
       "      <td>42</td>\n",
       "      <td>2025-07-23T21:02:39</td>\n",
       "    </tr>\n",
       "    <tr>\n",
       "      <th>1</th>\n",
       "      <td>PC_AL_2025</td>\n",
       "      <td>AMD Ryzen 5 9600X</td>\n",
       "      <td>Nvidia RTX 5060 Ti 16GB</td>\n",
       "      <td>3.13.5</td>\n",
       "      <td>Windows-11-10.0.26100-SP0</td>\n",
       "      <td>xgboost</td>\n",
       "      <td>100000</td>\n",
       "      <td>False</td>\n",
       "      <td>0.59</td>\n",
       "      <td>0.01</td>\n",
       "      <td>0.81072</td>\n",
       "      <td>42</td>\n",
       "      <td>2025-07-23T21:02:43</td>\n",
       "    </tr>\n",
       "    <tr>\n",
       "      <th>2</th>\n",
       "      <td>PC_AL_2025</td>\n",
       "      <td>AMD Ryzen 5 9600X</td>\n",
       "      <td>Nvidia RTX 5060 Ti 16GB</td>\n",
       "      <td>3.13.5</td>\n",
       "      <td>Windows-11-10.0.26100-SP0</td>\n",
       "      <td>xgboost</td>\n",
       "      <td>1000000</td>\n",
       "      <td>True</td>\n",
       "      <td>1.60</td>\n",
       "      <td>0.01</td>\n",
       "      <td>0.82277</td>\n",
       "      <td>42</td>\n",
       "      <td>2025-07-23T21:02:54</td>\n",
       "    </tr>\n",
       "    <tr>\n",
       "      <th>3</th>\n",
       "      <td>PC_AL_2025</td>\n",
       "      <td>AMD Ryzen 5 9600X</td>\n",
       "      <td>Nvidia RTX 5060 Ti 16GB</td>\n",
       "      <td>3.13.5</td>\n",
       "      <td>Windows-11-10.0.26100-SP0</td>\n",
       "      <td>xgboost</td>\n",
       "      <td>1000000</td>\n",
       "      <td>False</td>\n",
       "      <td>3.99</td>\n",
       "      <td>0.10</td>\n",
       "      <td>0.82276</td>\n",
       "      <td>42</td>\n",
       "      <td>2025-07-23T21:03:11</td>\n",
       "    </tr>\n",
       "    <tr>\n",
       "      <th>4</th>\n",
       "      <td>PC_AL_2025</td>\n",
       "      <td>AMD Ryzen 5 9600X</td>\n",
       "      <td>Nvidia RTX 5060 Ti 16GB</td>\n",
       "      <td>3.13.5</td>\n",
       "      <td>Windows-11-10.0.26100-SP0</td>\n",
       "      <td>xgboost</td>\n",
       "      <td>full</td>\n",
       "      <td>True</td>\n",
       "      <td>9.93</td>\n",
       "      <td>0.06</td>\n",
       "      <td>0.82486</td>\n",
       "      <td>42</td>\n",
       "      <td>2025-07-23T21:04:25</td>\n",
       "    </tr>\n",
       "    <tr>\n",
       "      <th>5</th>\n",
       "      <td>PC_AL_2025</td>\n",
       "      <td>AMD Ryzen 5 9600X</td>\n",
       "      <td>Nvidia RTX 5060 Ti 16GB</td>\n",
       "      <td>3.13.5</td>\n",
       "      <td>Windows-11-10.0.26100-SP0</td>\n",
       "      <td>xgboost</td>\n",
       "      <td>full</td>\n",
       "      <td>False</td>\n",
       "      <td>50.37</td>\n",
       "      <td>1.04</td>\n",
       "      <td>0.82495</td>\n",
       "      <td>42</td>\n",
       "      <td>2025-07-23T21:07:42</td>\n",
       "    </tr>\n",
       "    <tr>\n",
       "      <th>6</th>\n",
       "      <td>PC_AL_2015</td>\n",
       "      <td>Intel i5-4690K</td>\n",
       "      <td>Nvidia GTX 1060 6GB</td>\n",
       "      <td>3.13.5</td>\n",
       "      <td>Windows-10-10.0.19045-SP0</td>\n",
       "      <td>xgboost</td>\n",
       "      <td>100000</td>\n",
       "      <td>True</td>\n",
       "      <td>1.66</td>\n",
       "      <td>0.01</td>\n",
       "      <td>0.80975</td>\n",
       "      <td>42</td>\n",
       "      <td>2025-07-23T23:13:28</td>\n",
       "    </tr>\n",
       "    <tr>\n",
       "      <th>7</th>\n",
       "      <td>PC_AL_2015</td>\n",
       "      <td>Intel i5-4690K</td>\n",
       "      <td>Nvidia GTX 1060 6GB</td>\n",
       "      <td>3.13.5</td>\n",
       "      <td>Windows-10-10.0.19045-SP0</td>\n",
       "      <td>xgboost</td>\n",
       "      <td>100000</td>\n",
       "      <td>False</td>\n",
       "      <td>1.79</td>\n",
       "      <td>0.03</td>\n",
       "      <td>0.80892</td>\n",
       "      <td>42</td>\n",
       "      <td>2025-07-23T23:13:36</td>\n",
       "    </tr>\n",
       "    <tr>\n",
       "      <th>8</th>\n",
       "      <td>PC_AL_2015</td>\n",
       "      <td>Intel i5-4690K</td>\n",
       "      <td>Nvidia GTX 1060 6GB</td>\n",
       "      <td>3.13.5</td>\n",
       "      <td>Windows-10-10.0.19045-SP0</td>\n",
       "      <td>xgboost</td>\n",
       "      <td>1000000</td>\n",
       "      <td>True</td>\n",
       "      <td>5.80</td>\n",
       "      <td>0.04</td>\n",
       "      <td>0.82262</td>\n",
       "      <td>42</td>\n",
       "      <td>2025-07-23T23:14:04</td>\n",
       "    </tr>\n",
       "    <tr>\n",
       "      <th>9</th>\n",
       "      <td>PC_AL_2015</td>\n",
       "      <td>Intel i5-4690K</td>\n",
       "      <td>Nvidia GTX 1060 6GB</td>\n",
       "      <td>3.13.5</td>\n",
       "      <td>Windows-10-10.0.19045-SP0</td>\n",
       "      <td>xgboost</td>\n",
       "      <td>1000000</td>\n",
       "      <td>False</td>\n",
       "      <td>13.69</td>\n",
       "      <td>0.32</td>\n",
       "      <td>0.82227</td>\n",
       "      <td>42</td>\n",
       "      <td>2025-07-23T23:14:57</td>\n",
       "    </tr>\n",
       "    <tr>\n",
       "      <th>10</th>\n",
       "      <td>PC_AL_2015</td>\n",
       "      <td>Intel i5-4690K</td>\n",
       "      <td>Nvidia GTX 1060 6GB</td>\n",
       "      <td>3.13.5</td>\n",
       "      <td>Windows-10-10.0.19045-SP0</td>\n",
       "      <td>xgboost</td>\n",
       "      <td>full</td>\n",
       "      <td>True</td>\n",
       "      <td>45.20</td>\n",
       "      <td>0.38</td>\n",
       "      <td>0.82495</td>\n",
       "      <td>42</td>\n",
       "      <td>2025-07-23T23:18:54</td>\n",
       "    </tr>\n",
       "    <tr>\n",
       "      <th>11</th>\n",
       "      <td>PC_AL_2015</td>\n",
       "      <td>Intel i5-4690K</td>\n",
       "      <td>Nvidia GTX 1060 6GB</td>\n",
       "      <td>3.13.5</td>\n",
       "      <td>Windows-10-10.0.19045-SP0</td>\n",
       "      <td>xgboost</td>\n",
       "      <td>full</td>\n",
       "      <td>False</td>\n",
       "      <td>147.38</td>\n",
       "      <td>3.46</td>\n",
       "      <td>0.82489</td>\n",
       "      <td>42</td>\n",
       "      <td>2025-07-23T23:28:06</td>\n",
       "    </tr>\n",
       "    <tr>\n",
       "      <th>12</th>\n",
       "      <td>Mark1</td>\n",
       "      <td>AMD Ryzen 7 9800X3D</td>\n",
       "      <td>Nvidia GTX 4080 SUPER</td>\n",
       "      <td>3.13.5</td>\n",
       "      <td>Linux-5.15.167.4-microsoft-standard-WSL2-x86_6...</td>\n",
       "      <td>xgboost</td>\n",
       "      <td>100000</td>\n",
       "      <td>True</td>\n",
       "      <td>0.88</td>\n",
       "      <td>0.01</td>\n",
       "      <td>0.81023</td>\n",
       "      <td>42</td>\n",
       "      <td>2025-07-26T12:04:36</td>\n",
       "    </tr>\n",
       "    <tr>\n",
       "      <th>13</th>\n",
       "      <td>Mark1</td>\n",
       "      <td>AMD Ryzen 7 9800X3D</td>\n",
       "      <td>Nvidia GTX 4080 SUPER</td>\n",
       "      <td>3.13.5</td>\n",
       "      <td>Linux-5.15.167.4-microsoft-standard-WSL2-x86_6...</td>\n",
       "      <td>xgboost</td>\n",
       "      <td>100000</td>\n",
       "      <td>False</td>\n",
       "      <td>1.66</td>\n",
       "      <td>0.01</td>\n",
       "      <td>0.80963</td>\n",
       "      <td>42</td>\n",
       "      <td>2025-07-26T12:04:42</td>\n",
       "    </tr>\n",
       "    <tr>\n",
       "      <th>14</th>\n",
       "      <td>Mark1</td>\n",
       "      <td>AMD Ryzen 7 9800X3D</td>\n",
       "      <td>Nvidia GTX 4080 SUPER</td>\n",
       "      <td>3.13.5</td>\n",
       "      <td>Linux-5.15.167.4-microsoft-standard-WSL2-x86_6...</td>\n",
       "      <td>xgboost</td>\n",
       "      <td>1000000</td>\n",
       "      <td>True</td>\n",
       "      <td>1.15</td>\n",
       "      <td>0.01</td>\n",
       "      <td>0.82277</td>\n",
       "      <td>42</td>\n",
       "      <td>2025-07-26T12:04:51</td>\n",
       "    </tr>\n",
       "    <tr>\n",
       "      <th>15</th>\n",
       "      <td>Mark1</td>\n",
       "      <td>AMD Ryzen 7 9800X3D</td>\n",
       "      <td>Nvidia GTX 4080 SUPER</td>\n",
       "      <td>3.13.5</td>\n",
       "      <td>Linux-5.15.167.4-microsoft-standard-WSL2-x86_6...</td>\n",
       "      <td>xgboost</td>\n",
       "      <td>1000000</td>\n",
       "      <td>False</td>\n",
       "      <td>1.67</td>\n",
       "      <td>0.06</td>\n",
       "      <td>0.82306</td>\n",
       "      <td>42</td>\n",
       "      <td>2025-07-26T12:05:03</td>\n",
       "    </tr>\n",
       "    <tr>\n",
       "      <th>16</th>\n",
       "      <td>Mark1</td>\n",
       "      <td>AMD Ryzen 7 9800X3D</td>\n",
       "      <td>Nvidia GTX 4080 SUPER</td>\n",
       "      <td>3.13.5</td>\n",
       "      <td>Linux-5.15.167.4-microsoft-standard-WSL2-x86_6...</td>\n",
       "      <td>xgboost</td>\n",
       "      <td>full</td>\n",
       "      <td>True</td>\n",
       "      <td>5.42</td>\n",
       "      <td>0.03</td>\n",
       "      <td>0.82486</td>\n",
       "      <td>42</td>\n",
       "      <td>2025-07-26T12:06:10</td>\n",
       "    </tr>\n",
       "    <tr>\n",
       "      <th>17</th>\n",
       "      <td>Mark1</td>\n",
       "      <td>AMD Ryzen 7 9800X3D</td>\n",
       "      <td>Nvidia GTX 4080 SUPER</td>\n",
       "      <td>3.13.5</td>\n",
       "      <td>Linux-5.15.167.4-microsoft-standard-WSL2-x86_6...</td>\n",
       "      <td>xgboost</td>\n",
       "      <td>full</td>\n",
       "      <td>False</td>\n",
       "      <td>31.07</td>\n",
       "      <td>0.62</td>\n",
       "      <td>0.82495</td>\n",
       "      <td>42</td>\n",
       "      <td>2025-07-26T12:08:42</td>\n",
       "    </tr>\n",
       "    <tr>\n",
       "      <th>18</th>\n",
       "      <td>PC_AL_2025_6000</td>\n",
       "      <td>AMD Ryzen 5 9600X mem-opt</td>\n",
       "      <td>Nvidia RTX 5060 Ti 16GB</td>\n",
       "      <td>3.13.5</td>\n",
       "      <td>Windows-11-10.0.26100-SP0</td>\n",
       "      <td>xgboost</td>\n",
       "      <td>100000</td>\n",
       "      <td>True</td>\n",
       "      <td>0.77</td>\n",
       "      <td>0.01</td>\n",
       "      <td>0.81023</td>\n",
       "      <td>42</td>\n",
       "      <td>2025-07-27T14:22:19</td>\n",
       "    </tr>\n",
       "    <tr>\n",
       "      <th>19</th>\n",
       "      <td>PC_AL_2025_6000</td>\n",
       "      <td>AMD Ryzen 5 9600X mem-opt</td>\n",
       "      <td>Nvidia RTX 5060 Ti 16GB</td>\n",
       "      <td>3.13.5</td>\n",
       "      <td>Windows-11-10.0.26100-SP0</td>\n",
       "      <td>xgboost</td>\n",
       "      <td>100000</td>\n",
       "      <td>False</td>\n",
       "      <td>0.55</td>\n",
       "      <td>0.01</td>\n",
       "      <td>0.81072</td>\n",
       "      <td>42</td>\n",
       "      <td>2025-07-27T14:22:23</td>\n",
       "    </tr>\n",
       "    <tr>\n",
       "      <th>20</th>\n",
       "      <td>PC_AL_2025_6000</td>\n",
       "      <td>AMD Ryzen 5 9600X mem-opt</td>\n",
       "      <td>Nvidia RTX 5060 Ti 16GB</td>\n",
       "      <td>3.13.5</td>\n",
       "      <td>Windows-11-10.0.26100-SP0</td>\n",
       "      <td>xgboost</td>\n",
       "      <td>1000000</td>\n",
       "      <td>True</td>\n",
       "      <td>1.47</td>\n",
       "      <td>0.01</td>\n",
       "      <td>0.82277</td>\n",
       "      <td>42</td>\n",
       "      <td>2025-07-27T14:22:36</td>\n",
       "    </tr>\n",
       "    <tr>\n",
       "      <th>21</th>\n",
       "      <td>PC_AL_2025_6000</td>\n",
       "      <td>AMD Ryzen 5 9600X mem-opt</td>\n",
       "      <td>Nvidia RTX 5060 Ti 16GB</td>\n",
       "      <td>3.13.5</td>\n",
       "      <td>Windows-11-10.0.26100-SP0</td>\n",
       "      <td>xgboost</td>\n",
       "      <td>1000000</td>\n",
       "      <td>False</td>\n",
       "      <td>3.87</td>\n",
       "      <td>0.10</td>\n",
       "      <td>0.82276</td>\n",
       "      <td>42</td>\n",
       "      <td>2025-07-27T14:23:00</td>\n",
       "    </tr>\n",
       "    <tr>\n",
       "      <th>22</th>\n",
       "      <td>PC_AL_2025_6000</td>\n",
       "      <td>AMD Ryzen 5 9600X mem-opt</td>\n",
       "      <td>Nvidia RTX 5060 Ti 16GB</td>\n",
       "      <td>3.13.5</td>\n",
       "      <td>Windows-11-10.0.26100-SP0</td>\n",
       "      <td>xgboost</td>\n",
       "      <td>full</td>\n",
       "      <td>True</td>\n",
       "      <td>9.83</td>\n",
       "      <td>0.05</td>\n",
       "      <td>0.82486</td>\n",
       "      <td>42</td>\n",
       "      <td>2025-07-27T14:24:33</td>\n",
       "    </tr>\n",
       "    <tr>\n",
       "      <th>23</th>\n",
       "      <td>PC_AL_2025_6000</td>\n",
       "      <td>AMD Ryzen 5 9600X mem-opt</td>\n",
       "      <td>Nvidia RTX 5060 Ti 16GB</td>\n",
       "      <td>3.13.5</td>\n",
       "      <td>Windows-11-10.0.26100-SP0</td>\n",
       "      <td>xgboost</td>\n",
       "      <td>full</td>\n",
       "      <td>False</td>\n",
       "      <td>47.16</td>\n",
       "      <td>1.03</td>\n",
       "      <td>0.82495</td>\n",
       "      <td>42</td>\n",
       "      <td>2025-07-27T14:29:17</td>\n",
       "    </tr>\n",
       "  </tbody>\n",
       "</table>\n",
       "</div>"
      ],
      "text/plain": [
       "            machine                        CPU                      GPU  \\\n",
       "0        PC_AL_2025          AMD Ryzen 5 9600X  Nvidia RTX 5060 Ti 16GB   \n",
       "1        PC_AL_2025          AMD Ryzen 5 9600X  Nvidia RTX 5060 Ti 16GB   \n",
       "2        PC_AL_2025          AMD Ryzen 5 9600X  Nvidia RTX 5060 Ti 16GB   \n",
       "3        PC_AL_2025          AMD Ryzen 5 9600X  Nvidia RTX 5060 Ti 16GB   \n",
       "4        PC_AL_2025          AMD Ryzen 5 9600X  Nvidia RTX 5060 Ti 16GB   \n",
       "5        PC_AL_2025          AMD Ryzen 5 9600X  Nvidia RTX 5060 Ti 16GB   \n",
       "6        PC_AL_2015             Intel i5-4690K      Nvidia GTX 1060 6GB   \n",
       "7        PC_AL_2015             Intel i5-4690K      Nvidia GTX 1060 6GB   \n",
       "8        PC_AL_2015             Intel i5-4690K      Nvidia GTX 1060 6GB   \n",
       "9        PC_AL_2015             Intel i5-4690K      Nvidia GTX 1060 6GB   \n",
       "10       PC_AL_2015             Intel i5-4690K      Nvidia GTX 1060 6GB   \n",
       "11       PC_AL_2015             Intel i5-4690K      Nvidia GTX 1060 6GB   \n",
       "12            Mark1        AMD Ryzen 7 9800X3D    Nvidia GTX 4080 SUPER   \n",
       "13            Mark1        AMD Ryzen 7 9800X3D    Nvidia GTX 4080 SUPER   \n",
       "14            Mark1        AMD Ryzen 7 9800X3D    Nvidia GTX 4080 SUPER   \n",
       "15            Mark1        AMD Ryzen 7 9800X3D    Nvidia GTX 4080 SUPER   \n",
       "16            Mark1        AMD Ryzen 7 9800X3D    Nvidia GTX 4080 SUPER   \n",
       "17            Mark1        AMD Ryzen 7 9800X3D    Nvidia GTX 4080 SUPER   \n",
       "18  PC_AL_2025_6000  AMD Ryzen 5 9600X mem-opt  Nvidia RTX 5060 Ti 16GB   \n",
       "19  PC_AL_2025_6000  AMD Ryzen 5 9600X mem-opt  Nvidia RTX 5060 Ti 16GB   \n",
       "20  PC_AL_2025_6000  AMD Ryzen 5 9600X mem-opt  Nvidia RTX 5060 Ti 16GB   \n",
       "21  PC_AL_2025_6000  AMD Ryzen 5 9600X mem-opt  Nvidia RTX 5060 Ti 16GB   \n",
       "22  PC_AL_2025_6000  AMD Ryzen 5 9600X mem-opt  Nvidia RTX 5060 Ti 16GB   \n",
       "23  PC_AL_2025_6000  AMD Ryzen 5 9600X mem-opt  Nvidia RTX 5060 Ti 16GB   \n",
       "\n",
       "    python                                           platform    bench  \\\n",
       "0   3.13.5                          Windows-11-10.0.26100-SP0  xgboost   \n",
       "1   3.13.5                          Windows-11-10.0.26100-SP0  xgboost   \n",
       "2   3.13.5                          Windows-11-10.0.26100-SP0  xgboost   \n",
       "3   3.13.5                          Windows-11-10.0.26100-SP0  xgboost   \n",
       "4   3.13.5                          Windows-11-10.0.26100-SP0  xgboost   \n",
       "5   3.13.5                          Windows-11-10.0.26100-SP0  xgboost   \n",
       "6   3.13.5                          Windows-10-10.0.19045-SP0  xgboost   \n",
       "7   3.13.5                          Windows-10-10.0.19045-SP0  xgboost   \n",
       "8   3.13.5                          Windows-10-10.0.19045-SP0  xgboost   \n",
       "9   3.13.5                          Windows-10-10.0.19045-SP0  xgboost   \n",
       "10  3.13.5                          Windows-10-10.0.19045-SP0  xgboost   \n",
       "11  3.13.5                          Windows-10-10.0.19045-SP0  xgboost   \n",
       "12  3.13.5  Linux-5.15.167.4-microsoft-standard-WSL2-x86_6...  xgboost   \n",
       "13  3.13.5  Linux-5.15.167.4-microsoft-standard-WSL2-x86_6...  xgboost   \n",
       "14  3.13.5  Linux-5.15.167.4-microsoft-standard-WSL2-x86_6...  xgboost   \n",
       "15  3.13.5  Linux-5.15.167.4-microsoft-standard-WSL2-x86_6...  xgboost   \n",
       "16  3.13.5  Linux-5.15.167.4-microsoft-standard-WSL2-x86_6...  xgboost   \n",
       "17  3.13.5  Linux-5.15.167.4-microsoft-standard-WSL2-x86_6...  xgboost   \n",
       "18  3.13.5                          Windows-11-10.0.26100-SP0  xgboost   \n",
       "19  3.13.5                          Windows-11-10.0.26100-SP0  xgboost   \n",
       "20  3.13.5                          Windows-11-10.0.26100-SP0  xgboost   \n",
       "21  3.13.5                          Windows-11-10.0.26100-SP0  xgboost   \n",
       "22  3.13.5                          Windows-11-10.0.26100-SP0  xgboost   \n",
       "23  3.13.5                          Windows-11-10.0.26100-SP0  xgboost   \n",
       "\n",
       "   dataset_rows    gpu  train_median_s  infer_median_s      auc  seed  \\\n",
       "0        100000   True            0.80            0.01  0.81023    42   \n",
       "1        100000  False            0.59            0.01  0.81072    42   \n",
       "2       1000000   True            1.60            0.01  0.82277    42   \n",
       "3       1000000  False            3.99            0.10  0.82276    42   \n",
       "4          full   True            9.93            0.06  0.82486    42   \n",
       "5          full  False           50.37            1.04  0.82495    42   \n",
       "6        100000   True            1.66            0.01  0.80975    42   \n",
       "7        100000  False            1.79            0.03  0.80892    42   \n",
       "8       1000000   True            5.80            0.04  0.82262    42   \n",
       "9       1000000  False           13.69            0.32  0.82227    42   \n",
       "10         full   True           45.20            0.38  0.82495    42   \n",
       "11         full  False          147.38            3.46  0.82489    42   \n",
       "12       100000   True            0.88            0.01  0.81023    42   \n",
       "13       100000  False            1.66            0.01  0.80963    42   \n",
       "14      1000000   True            1.15            0.01  0.82277    42   \n",
       "15      1000000  False            1.67            0.06  0.82306    42   \n",
       "16         full   True            5.42            0.03  0.82486    42   \n",
       "17         full  False           31.07            0.62  0.82495    42   \n",
       "18       100000   True            0.77            0.01  0.81023    42   \n",
       "19       100000  False            0.55            0.01  0.81072    42   \n",
       "20      1000000   True            1.47            0.01  0.82277    42   \n",
       "21      1000000  False            3.87            0.10  0.82276    42   \n",
       "22         full   True            9.83            0.05  0.82486    42   \n",
       "23         full  False           47.16            1.03  0.82495    42   \n",
       "\n",
       "              timestamp  \n",
       "0   2025-07-23T21:02:39  \n",
       "1   2025-07-23T21:02:43  \n",
       "2   2025-07-23T21:02:54  \n",
       "3   2025-07-23T21:03:11  \n",
       "4   2025-07-23T21:04:25  \n",
       "5   2025-07-23T21:07:42  \n",
       "6   2025-07-23T23:13:28  \n",
       "7   2025-07-23T23:13:36  \n",
       "8   2025-07-23T23:14:04  \n",
       "9   2025-07-23T23:14:57  \n",
       "10  2025-07-23T23:18:54  \n",
       "11  2025-07-23T23:28:06  \n",
       "12  2025-07-26T12:04:36  \n",
       "13  2025-07-26T12:04:42  \n",
       "14  2025-07-26T12:04:51  \n",
       "15  2025-07-26T12:05:03  \n",
       "16  2025-07-26T12:06:10  \n",
       "17  2025-07-26T12:08:42  \n",
       "18  2025-07-27T14:22:19  \n",
       "19  2025-07-27T14:22:23  \n",
       "20  2025-07-27T14:22:36  \n",
       "21  2025-07-27T14:23:00  \n",
       "22  2025-07-27T14:24:33  \n",
       "23  2025-07-27T14:29:17  "
      ]
     },
     "metadata": {},
     "output_type": "display_data"
    }
   ],
   "source": [
    "# Show xgb_df in a sortable, interactive table\n",
    "display(xgb_df)"
   ]
  },
  {
   "cell_type": "code",
   "execution_count": 11,
   "id": "c47207d9",
   "metadata": {},
   "outputs": [
    {
     "data": {
      "application/vnd.plotly.v1+json": {
       "config": {
        "plotlyServerURL": "https://plot.ly"
       },
       "data": [
        {
         "hovertemplate": "AMD Ryzen 5 9600X + Nvidia RTX 5060 Ti 16GB<br>%{y} righe · GPU<br>%{x:.2f} s<extra></extra>",
         "marker": {
          "color": "rgb(102, 197, 204)",
          "pattern": {
           "shape": ""
          }
         },
         "orientation": "h",
         "showlegend": false,
         "text": [
          "0.80",
          "1.60",
          "9.93"
         ],
         "textposition": "outside",
         "type": "bar",
         "x": {
          "bdata": "mpmZmZmZ6T+amZmZmZn5P1yPwvUo3CNA",
          "dtype": "f8"
         },
         "y": [
          "100.000",
          "1.000.000",
          "full"
         ]
        },
        {
         "hovertemplate": "AMD Ryzen 5 9600X + Nvidia RTX 5060 Ti 16GB<br>%{y} righe · CPU<br>%{x:.2f} s<extra></extra>",
         "marker": {
          "color": "rgb(246, 207, 113)",
          "pattern": {
           "shape": ""
          }
         },
         "orientation": "h",
         "showlegend": false,
         "text": [
          "0.59",
          "3.99",
          "50.37"
         ],
         "textposition": "outside",
         "type": "bar",
         "x": {
          "bdata": "4XoUrkfh4j/sUbgehesPQI/C9ShcL0lA",
          "dtype": "f8"
         },
         "y": [
          "100.000",
          "1.000.000",
          "full"
         ]
        },
        {
         "hovertemplate": "AMD Ryzen 5 9600X mem-opt + Nvidia RTX 5060 Ti 16GB<br>%{y} righe · GPU<br>%{x:.2f} s<extra></extra>",
         "marker": {
          "color": "rgb(102, 197, 204)",
          "pattern": {
           "shape": "/"
          }
         },
         "orientation": "h",
         "showlegend": false,
         "text": [
          "0.77",
          "1.47",
          "9.83"
         ],
         "textposition": "outside",
         "type": "bar",
         "x": {
          "bdata": "pHA9Ctej6D+F61G4HoX3Pylcj8L1qCNA",
          "dtype": "f8"
         },
         "y": [
          "100.000",
          "1.000.000",
          "full"
         ]
        },
        {
         "hovertemplate": "AMD Ryzen 5 9600X mem-opt + Nvidia RTX 5060 Ti 16GB<br>%{y} righe · CPU<br>%{x:.2f} s<extra></extra>",
         "marker": {
          "color": "rgb(246, 207, 113)",
          "pattern": {
           "shape": "/"
          }
         },
         "orientation": "h",
         "showlegend": false,
         "text": [
          "0.55",
          "3.87",
          "47.16"
         ],
         "textposition": "outside",
         "type": "bar",
         "x": {
          "bdata": "mpmZmZmZ4T/2KFyPwvUOQBSuR+F6lEdA",
          "dtype": "f8"
         },
         "y": [
          "100.000",
          "1.000.000",
          "full"
         ]
        },
        {
         "hovertemplate": "AMD Ryzen 7 9800X3D + Nvidia GTX 4080 SUPER<br>%{y} righe · GPU<br>%{x:.2f} s<extra></extra>",
         "marker": {
          "color": "rgb(102, 197, 204)",
          "pattern": {
           "shape": "x"
          }
         },
         "orientation": "h",
         "showlegend": false,
         "text": [
          "0.88",
          "1.15",
          "5.42"
         ],
         "textposition": "outside",
         "type": "bar",
         "x": {
          "bdata": "KVyPwvUo7D9mZmZmZmbyP65H4XoUrhVA",
          "dtype": "f8"
         },
         "y": [
          "100.000",
          "1.000.000",
          "full"
         ]
        },
        {
         "hovertemplate": "AMD Ryzen 7 9800X3D + Nvidia GTX 4080 SUPER<br>%{y} righe · CPU<br>%{x:.2f} s<extra></extra>",
         "marker": {
          "color": "rgb(246, 207, 113)",
          "pattern": {
           "shape": "x"
          }
         },
         "orientation": "h",
         "showlegend": false,
         "text": [
          "1.66",
          "1.67",
          "31.07"
         ],
         "textposition": "outside",
         "type": "bar",
         "x": {
          "bdata": "j8L1KFyP+j+4HoXrUbj6P1K4HoXrET9A",
          "dtype": "f8"
         },
         "y": [
          "100.000",
          "1.000.000",
          "full"
         ]
        },
        {
         "hovertemplate": "Intel i5-4690K + Nvidia GTX 1060 6GB<br>%{y} righe · GPU<br>%{x:.2f} s<extra></extra>",
         "marker": {
          "color": "rgb(102, 197, 204)",
          "pattern": {
           "shape": "\\"
          }
         },
         "orientation": "h",
         "showlegend": false,
         "text": [
          "1.66",
          "5.80",
          "45.20"
         ],
         "textposition": "outside",
         "type": "bar",
         "x": {
          "bdata": "j8L1KFyP+j8zMzMzMzMXQJqZmZmZmUZA",
          "dtype": "f8"
         },
         "y": [
          "100.000",
          "1.000.000",
          "full"
         ]
        },
        {
         "hovertemplate": "Intel i5-4690K + Nvidia GTX 1060 6GB<br>%{y} righe · CPU<br>%{x:.2f} s<extra></extra>",
         "marker": {
          "color": "rgb(246, 207, 113)",
          "pattern": {
           "shape": "\\"
          }
         },
         "orientation": "h",
         "showlegend": false,
         "text": [
          "1.79",
          "13.69",
          "147.38"
         ],
         "textposition": "outside",
         "type": "bar",
         "x": {
          "bdata": "pHA9Ctej/D/hehSuR2ErQFyPwvUobGJA",
          "dtype": "f8"
         },
         "y": [
          "100.000",
          "1.000.000",
          "full"
         ]
        }
       ],
       "layout": {
        "barmode": "group",
        "height": 960,
        "margin": {
         "r": 200
        },
        "template": {
         "data": {
          "bar": [
           {
            "error_x": {
             "color": "#2a3f5f"
            },
            "error_y": {
             "color": "#2a3f5f"
            },
            "marker": {
             "line": {
              "color": "#E5ECF6",
              "width": 0.5
             },
             "pattern": {
              "fillmode": "overlay",
              "size": 10,
              "solidity": 0.2
             }
            },
            "type": "bar"
           }
          ],
          "barpolar": [
           {
            "marker": {
             "line": {
              "color": "#E5ECF6",
              "width": 0.5
             },
             "pattern": {
              "fillmode": "overlay",
              "size": 10,
              "solidity": 0.2
             }
            },
            "type": "barpolar"
           }
          ],
          "carpet": [
           {
            "aaxis": {
             "endlinecolor": "#2a3f5f",
             "gridcolor": "white",
             "linecolor": "white",
             "minorgridcolor": "white",
             "startlinecolor": "#2a3f5f"
            },
            "baxis": {
             "endlinecolor": "#2a3f5f",
             "gridcolor": "white",
             "linecolor": "white",
             "minorgridcolor": "white",
             "startlinecolor": "#2a3f5f"
            },
            "type": "carpet"
           }
          ],
          "choropleth": [
           {
            "colorbar": {
             "outlinewidth": 0,
             "ticks": ""
            },
            "type": "choropleth"
           }
          ],
          "contour": [
           {
            "colorbar": {
             "outlinewidth": 0,
             "ticks": ""
            },
            "colorscale": [
             [
              0,
              "#0d0887"
             ],
             [
              0.1111111111111111,
              "#46039f"
             ],
             [
              0.2222222222222222,
              "#7201a8"
             ],
             [
              0.3333333333333333,
              "#9c179e"
             ],
             [
              0.4444444444444444,
              "#bd3786"
             ],
             [
              0.5555555555555556,
              "#d8576b"
             ],
             [
              0.6666666666666666,
              "#ed7953"
             ],
             [
              0.7777777777777778,
              "#fb9f3a"
             ],
             [
              0.8888888888888888,
              "#fdca26"
             ],
             [
              1,
              "#f0f921"
             ]
            ],
            "type": "contour"
           }
          ],
          "contourcarpet": [
           {
            "colorbar": {
             "outlinewidth": 0,
             "ticks": ""
            },
            "type": "contourcarpet"
           }
          ],
          "heatmap": [
           {
            "colorbar": {
             "outlinewidth": 0,
             "ticks": ""
            },
            "colorscale": [
             [
              0,
              "#0d0887"
             ],
             [
              0.1111111111111111,
              "#46039f"
             ],
             [
              0.2222222222222222,
              "#7201a8"
             ],
             [
              0.3333333333333333,
              "#9c179e"
             ],
             [
              0.4444444444444444,
              "#bd3786"
             ],
             [
              0.5555555555555556,
              "#d8576b"
             ],
             [
              0.6666666666666666,
              "#ed7953"
             ],
             [
              0.7777777777777778,
              "#fb9f3a"
             ],
             [
              0.8888888888888888,
              "#fdca26"
             ],
             [
              1,
              "#f0f921"
             ]
            ],
            "type": "heatmap"
           }
          ],
          "histogram": [
           {
            "marker": {
             "pattern": {
              "fillmode": "overlay",
              "size": 10,
              "solidity": 0.2
             }
            },
            "type": "histogram"
           }
          ],
          "histogram2d": [
           {
            "colorbar": {
             "outlinewidth": 0,
             "ticks": ""
            },
            "colorscale": [
             [
              0,
              "#0d0887"
             ],
             [
              0.1111111111111111,
              "#46039f"
             ],
             [
              0.2222222222222222,
              "#7201a8"
             ],
             [
              0.3333333333333333,
              "#9c179e"
             ],
             [
              0.4444444444444444,
              "#bd3786"
             ],
             [
              0.5555555555555556,
              "#d8576b"
             ],
             [
              0.6666666666666666,
              "#ed7953"
             ],
             [
              0.7777777777777778,
              "#fb9f3a"
             ],
             [
              0.8888888888888888,
              "#fdca26"
             ],
             [
              1,
              "#f0f921"
             ]
            ],
            "type": "histogram2d"
           }
          ],
          "histogram2dcontour": [
           {
            "colorbar": {
             "outlinewidth": 0,
             "ticks": ""
            },
            "colorscale": [
             [
              0,
              "#0d0887"
             ],
             [
              0.1111111111111111,
              "#46039f"
             ],
             [
              0.2222222222222222,
              "#7201a8"
             ],
             [
              0.3333333333333333,
              "#9c179e"
             ],
             [
              0.4444444444444444,
              "#bd3786"
             ],
             [
              0.5555555555555556,
              "#d8576b"
             ],
             [
              0.6666666666666666,
              "#ed7953"
             ],
             [
              0.7777777777777778,
              "#fb9f3a"
             ],
             [
              0.8888888888888888,
              "#fdca26"
             ],
             [
              1,
              "#f0f921"
             ]
            ],
            "type": "histogram2dcontour"
           }
          ],
          "mesh3d": [
           {
            "colorbar": {
             "outlinewidth": 0,
             "ticks": ""
            },
            "type": "mesh3d"
           }
          ],
          "parcoords": [
           {
            "line": {
             "colorbar": {
              "outlinewidth": 0,
              "ticks": ""
             }
            },
            "type": "parcoords"
           }
          ],
          "pie": [
           {
            "automargin": true,
            "type": "pie"
           }
          ],
          "scatter": [
           {
            "fillpattern": {
             "fillmode": "overlay",
             "size": 10,
             "solidity": 0.2
            },
            "type": "scatter"
           }
          ],
          "scatter3d": [
           {
            "line": {
             "colorbar": {
              "outlinewidth": 0,
              "ticks": ""
             }
            },
            "marker": {
             "colorbar": {
              "outlinewidth": 0,
              "ticks": ""
             }
            },
            "type": "scatter3d"
           }
          ],
          "scattercarpet": [
           {
            "marker": {
             "colorbar": {
              "outlinewidth": 0,
              "ticks": ""
             }
            },
            "type": "scattercarpet"
           }
          ],
          "scattergeo": [
           {
            "marker": {
             "colorbar": {
              "outlinewidth": 0,
              "ticks": ""
             }
            },
            "type": "scattergeo"
           }
          ],
          "scattergl": [
           {
            "marker": {
             "colorbar": {
              "outlinewidth": 0,
              "ticks": ""
             }
            },
            "type": "scattergl"
           }
          ],
          "scattermap": [
           {
            "marker": {
             "colorbar": {
              "outlinewidth": 0,
              "ticks": ""
             }
            },
            "type": "scattermap"
           }
          ],
          "scattermapbox": [
           {
            "marker": {
             "colorbar": {
              "outlinewidth": 0,
              "ticks": ""
             }
            },
            "type": "scattermapbox"
           }
          ],
          "scatterpolar": [
           {
            "marker": {
             "colorbar": {
              "outlinewidth": 0,
              "ticks": ""
             }
            },
            "type": "scatterpolar"
           }
          ],
          "scatterpolargl": [
           {
            "marker": {
             "colorbar": {
              "outlinewidth": 0,
              "ticks": ""
             }
            },
            "type": "scatterpolargl"
           }
          ],
          "scatterternary": [
           {
            "marker": {
             "colorbar": {
              "outlinewidth": 0,
              "ticks": ""
             }
            },
            "type": "scatterternary"
           }
          ],
          "surface": [
           {
            "colorbar": {
             "outlinewidth": 0,
             "ticks": ""
            },
            "colorscale": [
             [
              0,
              "#0d0887"
             ],
             [
              0.1111111111111111,
              "#46039f"
             ],
             [
              0.2222222222222222,
              "#7201a8"
             ],
             [
              0.3333333333333333,
              "#9c179e"
             ],
             [
              0.4444444444444444,
              "#bd3786"
             ],
             [
              0.5555555555555556,
              "#d8576b"
             ],
             [
              0.6666666666666666,
              "#ed7953"
             ],
             [
              0.7777777777777778,
              "#fb9f3a"
             ],
             [
              0.8888888888888888,
              "#fdca26"
             ],
             [
              1,
              "#f0f921"
             ]
            ],
            "type": "surface"
           }
          ],
          "table": [
           {
            "cells": {
             "fill": {
              "color": "#EBF0F8"
             },
             "line": {
              "color": "white"
             }
            },
            "header": {
             "fill": {
              "color": "#C8D4E3"
             },
             "line": {
              "color": "white"
             }
            },
            "type": "table"
           }
          ]
         },
         "layout": {
          "annotationdefaults": {
           "arrowcolor": "#2a3f5f",
           "arrowhead": 0,
           "arrowwidth": 1
          },
          "autotypenumbers": "strict",
          "coloraxis": {
           "colorbar": {
            "outlinewidth": 0,
            "ticks": ""
           }
          },
          "colorscale": {
           "diverging": [
            [
             0,
             "#8e0152"
            ],
            [
             0.1,
             "#c51b7d"
            ],
            [
             0.2,
             "#de77ae"
            ],
            [
             0.3,
             "#f1b6da"
            ],
            [
             0.4,
             "#fde0ef"
            ],
            [
             0.5,
             "#f7f7f7"
            ],
            [
             0.6,
             "#e6f5d0"
            ],
            [
             0.7,
             "#b8e186"
            ],
            [
             0.8,
             "#7fbc41"
            ],
            [
             0.9,
             "#4d9221"
            ],
            [
             1,
             "#276419"
            ]
           ],
           "sequential": [
            [
             0,
             "#0d0887"
            ],
            [
             0.1111111111111111,
             "#46039f"
            ],
            [
             0.2222222222222222,
             "#7201a8"
            ],
            [
             0.3333333333333333,
             "#9c179e"
            ],
            [
             0.4444444444444444,
             "#bd3786"
            ],
            [
             0.5555555555555556,
             "#d8576b"
            ],
            [
             0.6666666666666666,
             "#ed7953"
            ],
            [
             0.7777777777777778,
             "#fb9f3a"
            ],
            [
             0.8888888888888888,
             "#fdca26"
            ],
            [
             1,
             "#f0f921"
            ]
           ],
           "sequentialminus": [
            [
             0,
             "#0d0887"
            ],
            [
             0.1111111111111111,
             "#46039f"
            ],
            [
             0.2222222222222222,
             "#7201a8"
            ],
            [
             0.3333333333333333,
             "#9c179e"
            ],
            [
             0.4444444444444444,
             "#bd3786"
            ],
            [
             0.5555555555555556,
             "#d8576b"
            ],
            [
             0.6666666666666666,
             "#ed7953"
            ],
            [
             0.7777777777777778,
             "#fb9f3a"
            ],
            [
             0.8888888888888888,
             "#fdca26"
            ],
            [
             1,
             "#f0f921"
            ]
           ]
          },
          "colorway": [
           "#636efa",
           "#EF553B",
           "#00cc96",
           "#ab63fa",
           "#FFA15A",
           "#19d3f3",
           "#FF6692",
           "#B6E880",
           "#FF97FF",
           "#FECB52"
          ],
          "font": {
           "color": "#2a3f5f"
          },
          "geo": {
           "bgcolor": "white",
           "lakecolor": "white",
           "landcolor": "#E5ECF6",
           "showlakes": true,
           "showland": true,
           "subunitcolor": "white"
          },
          "hoverlabel": {
           "align": "left"
          },
          "hovermode": "closest",
          "mapbox": {
           "style": "light"
          },
          "paper_bgcolor": "white",
          "plot_bgcolor": "#E5ECF6",
          "polar": {
           "angularaxis": {
            "gridcolor": "white",
            "linecolor": "white",
            "ticks": ""
           },
           "bgcolor": "#E5ECF6",
           "radialaxis": {
            "gridcolor": "white",
            "linecolor": "white",
            "ticks": ""
           }
          },
          "scene": {
           "xaxis": {
            "backgroundcolor": "#E5ECF6",
            "gridcolor": "white",
            "gridwidth": 2,
            "linecolor": "white",
            "showbackground": true,
            "ticks": "",
            "zerolinecolor": "white"
           },
           "yaxis": {
            "backgroundcolor": "#E5ECF6",
            "gridcolor": "white",
            "gridwidth": 2,
            "linecolor": "white",
            "showbackground": true,
            "ticks": "",
            "zerolinecolor": "white"
           },
           "zaxis": {
            "backgroundcolor": "#E5ECF6",
            "gridcolor": "white",
            "gridwidth": 2,
            "linecolor": "white",
            "showbackground": true,
            "ticks": "",
            "zerolinecolor": "white"
           }
          },
          "shapedefaults": {
           "line": {
            "color": "#2a3f5f"
           }
          },
          "ternary": {
           "aaxis": {
            "gridcolor": "white",
            "linecolor": "white",
            "ticks": ""
           },
           "baxis": {
            "gridcolor": "white",
            "linecolor": "white",
            "ticks": ""
           },
           "bgcolor": "#E5ECF6",
           "caxis": {
            "gridcolor": "white",
            "linecolor": "white",
            "ticks": ""
           }
          },
          "title": {
           "x": 0.05
          },
          "xaxis": {
           "automargin": true,
           "gridcolor": "white",
           "linecolor": "white",
           "ticks": "",
           "title": {
            "standoff": 15
           },
           "zerolinecolor": "white",
           "zerolinewidth": 2
          },
          "yaxis": {
           "automargin": true,
           "gridcolor": "white",
           "linecolor": "white",
           "ticks": "",
           "title": {
            "standoff": 15
           },
           "zerolinecolor": "white",
           "zerolinewidth": 2
          }
         }
        },
        "title": {
         "text": "Tempo di training – tutte le accelerazioni e macchine"
        },
        "updatemenus": [
         {
          "bgcolor": "white",
          "bordercolor": "lightgray",
          "buttons": [
           {
            "args": [
             {
              "visible": [
               true,
               true,
               true,
               true,
               true,
               true,
               true,
               true
              ]
             },
             {
              "title": "Tempo di training – tutte le accelerazioni"
             }
            ],
            "label": "Tutte le accelerazioni",
            "method": "update"
           },
           {
            "args": [
             {
              "visible": [
               true,
               false,
               true,
               false,
               true,
               false,
               true,
               false
              ]
             },
             {
              "title": "Tempo di training – solo GPU"
             }
            ],
            "label": "Solo GPU",
            "method": "update"
           },
           {
            "args": [
             {
              "visible": [
               false,
               true,
               false,
               true,
               false,
               true,
               false,
               true
              ]
             },
             {
              "title": "Tempo di training – solo CPU"
             }
            ],
            "label": "Solo CPU",
            "method": "update"
           }
          ],
          "direction": "down",
          "showactive": true,
          "x": 1.02,
          "xanchor": "left",
          "y": 1,
          "yanchor": "top"
         },
         {
          "bgcolor": "white",
          "bordercolor": "lightgray",
          "buttons": [
           {
            "args": [
             {
              "visible": [
               true,
               true,
               true,
               true,
               true,
               true,
               true,
               true
              ]
             },
             {
              "title": "Tempo di training – tutte le macchine"
             }
            ],
            "label": "Tutte le macchine",
            "method": "update"
           },
           {
            "args": [
             {
              "visible": [
               true,
               true,
               false,
               false,
               false,
               false,
               false,
               false
              ]
             },
             {
              "title": "Tempo di training – AMD Ryzen 5 9600X + Nvidia RTX 5060 Ti 16GB"
             }
            ],
            "label": "AMD Ryzen 5 9600X + Nvidia RTX 5060 Ti 16GB",
            "method": "update"
           },
           {
            "args": [
             {
              "visible": [
               false,
               false,
               true,
               true,
               false,
               false,
               false,
               false
              ]
             },
             {
              "title": "Tempo di training – AMD Ryzen 5 9600X mem-opt + Nvidia RTX 5060 Ti 16GB"
             }
            ],
            "label": "AMD Ryzen 5 9600X mem-opt + Nvidia RTX 5060 Ti 16GB",
            "method": "update"
           },
           {
            "args": [
             {
              "visible": [
               false,
               false,
               false,
               false,
               true,
               true,
               false,
               false
              ]
             },
             {
              "title": "Tempo di training – AMD Ryzen 7 9800X3D + Nvidia GTX 4080 SUPER"
             }
            ],
            "label": "AMD Ryzen 7 9800X3D + Nvidia GTX 4080 SUPER",
            "method": "update"
           },
           {
            "args": [
             {
              "visible": [
               false,
               false,
               false,
               false,
               false,
               false,
               true,
               true
              ]
             },
             {
              "title": "Tempo di training – Intel i5-4690K + Nvidia GTX 1060 6GB"
             }
            ],
            "label": "Intel i5-4690K + Nvidia GTX 1060 6GB",
            "method": "update"
           }
          ],
          "direction": "down",
          "showactive": true,
          "x": 1.02,
          "xanchor": "left",
          "y": 0.8,
          "yanchor": "top"
         }
        ],
        "xaxis": {
         "title": {
          "text": "Train time [s]"
         }
        },
        "yaxis": {
         "categoryarray": [
          "100.000",
          "1.000.000",
          "full"
         ],
         "categoryorder": "array",
         "title": {
          "text": "Numero di righe del dataset"
         }
        }
       }
      }
     },
     "metadata": {},
     "output_type": "display_data"
    }
   ],
   "source": [
    "# Build machine label dynamically (CPU + GPU)\n",
    "xgb_df[\"machine_label\"] = xgb_df[\"CPU\"] + \" + \" + xgb_df[\"GPU\"]\n",
    "\n",
    "# Acceleration label\n",
    "xgb_df[\"acc_label\"] = xgb_df[\"gpu\"].astype(str).replace({\"True\": \"GPU\", \"False\": \"CPU\"})\n",
    "\n",
    "# ------------------ Build dynamic and formatted dataset_rows labels -------------\n",
    "def format_thousands(s: str) -> str:\n",
    "    n = int(s)\n",
    "    # thousands separator '.'\n",
    "    return f\"{n:,}\".replace(\",\", \".\")\n",
    "\n",
    "unique_rows = xgb_df[\"dataset_rows\"].astype(str).unique()\n",
    "\n",
    "numeric_vals = sorted([int(v) for v in unique_rows if re.fullmatch(r\"\\d+\", v)])\n",
    "labels_formatted = [format_thousands(str(v)) for v in numeric_vals]\n",
    "\n",
    "# ensure 'full' appears last\n",
    "if \"full\" in unique_rows:\n",
    "    labels_formatted.append(\"full\")\n",
    "\n",
    "# Map original rows to formatted label\n",
    "mapping_label = {str(v): format_thousands(str(v)) for v in numeric_vals}\n",
    "mapping_label[\"full\"] = \"full\"\n",
    "\n",
    "xgb_df[\"rows_label\"] = xgb_df[\"dataset_rows\"].astype(str).map(mapping_label)\n",
    "\n",
    "# Make categorical for ordering (ascending numeric then 'full')\n",
    "xgb_df[\"rows_label\"] = pd.Categorical(xgb_df[\"rows_label\"], categories=labels_formatted, ordered=True)\n",
    "\n",
    "# ------------------ Machine-related dynamic parts ------------------\n",
    "machine_labels = sorted(xgb_df[\"machine_label\"].unique())\n",
    "\n",
    "# pattern shapes cycled\n",
    "patterns_cycle = [\"\", \"/\", \"x\", \"\\\\\", \"-\", \"|\", \"+\", \".\"]\n",
    "pattern_map = {machine: patterns_cycle[i % len(patterns_cycle)]\n",
    "               for i, machine in enumerate(machine_labels)}\n",
    "\n",
    "# Color map for acceleration\n",
    "color_map = {\"GPU\": px.colors.qualitative.Pastel[0],\n",
    "             \"CPU\": px.colors.qualitative.Pastel[1]}\n",
    "\n",
    "# ------------------ Build traces ------------------\n",
    "traces = []\n",
    "meta = []  # store metadata per trace\n",
    "\n",
    "for machine in machine_labels:\n",
    "    for acc in [\"GPU\", \"CPU\"]:\n",
    "        subset = xgb_df[(xgb_df[\"machine_label\"] == machine) & (xgb_df[\"acc_label\"] == acc)]\n",
    "        if subset.empty:\n",
    "            continue\n",
    "        traces.append(\n",
    "            go.Bar(\n",
    "                y=subset[\"rows_label\"],\n",
    "                x=subset[\"train_median_s\"],\n",
    "                orientation=\"h\",\n",
    "                showlegend=False,\n",
    "                marker=dict(color=color_map[acc], pattern=dict(shape=pattern_map[machine])),\n",
    "                text=[f\"{t:.2f}\" for t in subset[\"train_median_s\"]],\n",
    "                textposition=\"outside\",\n",
    "                hovertemplate=(\n",
    "                    f\"{machine}<br>%{{y}} righe · {acc}<br>%{{x:.2f}} s\"\n",
    "                    \"<extra></extra>\"\n",
    "                ),\n",
    "            )\n",
    "        )\n",
    "        meta.append({\"machine\": machine, \"acc\": acc})\n",
    "\n",
    "fig = go.Figure(data=traces)\n",
    "\n",
    "# ------------------ Visibility masks ------------------\n",
    "n = len(traces)\n",
    "vis_all = [True]*n\n",
    "vis_gpu_only = [m[\"acc\"] == \"GPU\" for m in meta]\n",
    "vis_cpu_only = [m[\"acc\"] == \"CPU\" for m in meta]\n",
    "\n",
    "machine_vis_dict = {machine: [m[\"machine\"] == machine for m in meta]\n",
    "                    for machine in machine_labels}\n",
    "\n",
    "# ------------------ Dropdowns ------------------\n",
    "dropdown_acc = dict(\n",
    "    buttons=[\n",
    "        dict(label=\"Tutte le accelerazioni\", method=\"update\",\n",
    "             args=[{\"visible\": vis_all},\n",
    "                   {\"title\": \"Tempo di training – tutte le accelerazioni\"}]),\n",
    "        dict(label=\"Solo GPU\", method=\"update\",\n",
    "             args=[{\"visible\": vis_gpu_only},\n",
    "                   {\"title\": \"Tempo di training – solo GPU\"}]),\n",
    "        dict(label=\"Solo CPU\", method=\"update\",\n",
    "             args=[{\"visible\": vis_cpu_only},\n",
    "                   {\"title\": \"Tempo di training – solo CPU\"}]),\n",
    "    ],\n",
    "    direction=\"down\",\n",
    "    x=1.02,\n",
    "    y=1,\n",
    "    xanchor=\"left\",\n",
    "    yanchor=\"top\",\n",
    "    showactive=True,\n",
    "    bgcolor=\"white\",\n",
    "    bordercolor=\"lightgray\"\n",
    ")\n",
    "\n",
    "machine_buttons = [\n",
    "    dict(label=\"Tutte le macchine\", method=\"update\",\n",
    "         args=[{\"visible\": vis_all},\n",
    "               {\"title\": \"Tempo di training – tutte le macchine\"}])\n",
    "]\n",
    "for machine in machine_labels:\n",
    "    machine_buttons.append(\n",
    "        dict(label=machine, method=\"update\",\n",
    "             args=[{\"visible\": machine_vis_dict[machine]},\n",
    "                   {\"title\": f\"Tempo di training – {machine}\"}])\n",
    "    )\n",
    "\n",
    "dropdown_machine = dict(\n",
    "    buttons=machine_buttons,\n",
    "    direction=\"down\",\n",
    "    x=1.02,\n",
    "    y=0.8,\n",
    "    xanchor=\"left\",\n",
    "    yanchor=\"top\",\n",
    "    showactive=True,\n",
    "    bgcolor=\"white\",\n",
    "    bordercolor=\"lightgray\"\n",
    ")\n",
    "\n",
    "# ------------------ Layout updates ------------------\n",
    "fig.update_layout(\n",
    "    barmode=\"group\",\n",
    "    title=\"Tempo di training – tutte le accelerazioni e macchine\",\n",
    "    xaxis_title=\"Train time [s]\",\n",
    "    yaxis_title=\"Numero di righe del dataset\",\n",
    "    updatemenus=[dropdown_acc, dropdown_machine],\n",
    "    height = len(xgb_df) * 40,\n",
    "    margin=dict(r=200)  # space for menus\n",
    ")\n",
    "\n",
    "fig.update_yaxes(categoryorder='array', categoryarray=labels_formatted)\n",
    "\n",
    "os.makedirs(\"images\", exist_ok=True)   # crea la cartella se manca\n",
    "fig.write_image(\n",
    "    \"images/xgboost_train_time.png\",\n",
    "    scale=2\n",
    ")\n",
    "\n",
    "fig.show()"
   ]
  },
  {
   "cell_type": "code",
   "execution_count": 12,
   "id": "c7f6ed91",
   "metadata": {},
   "outputs": [
    {
     "data": {
      "text/html": [
       "<div>\n",
       "<style scoped>\n",
       "    .dataframe tbody tr th:only-of-type {\n",
       "        vertical-align: middle;\n",
       "    }\n",
       "\n",
       "    .dataframe tbody tr th {\n",
       "        vertical-align: top;\n",
       "    }\n",
       "\n",
       "    .dataframe thead th {\n",
       "        text-align: right;\n",
       "    }\n",
       "</style>\n",
       "<table border=\"1\" class=\"dataframe\">\n",
       "  <thead>\n",
       "    <tr style=\"text-align: right;\">\n",
       "      <th></th>\n",
       "      <th>machine</th>\n",
       "      <th>CPU</th>\n",
       "      <th>GPU</th>\n",
       "      <th>python</th>\n",
       "      <th>platform</th>\n",
       "      <th>bench</th>\n",
       "      <th>model</th>\n",
       "      <th>gpu</th>\n",
       "      <th>wall_min_s</th>\n",
       "      <th>wall_med_s</th>\n",
       "      <th>wall_max_s</th>\n",
       "      <th>tok_min_s</th>\n",
       "      <th>tok_med_s</th>\n",
       "      <th>tok_max_s</th>\n",
       "      <th>seed</th>\n",
       "      <th>timestamp</th>\n",
       "    </tr>\n",
       "  </thead>\n",
       "  <tbody>\n",
       "    <tr>\n",
       "      <th>0</th>\n",
       "      <td>PC_AL_2025</td>\n",
       "      <td>AMD Ryzen 5 9600X</td>\n",
       "      <td>Nvidia RTX 5060 Ti 16GB</td>\n",
       "      <td>3.13.5</td>\n",
       "      <td>Windows-11-10.0.26100-SP0</td>\n",
       "      <td>ollama</td>\n",
       "      <td>phi3:3.8b</td>\n",
       "      <td>True</td>\n",
       "      <td>6.37</td>\n",
       "      <td>6.45</td>\n",
       "      <td>14.81</td>\n",
       "      <td>133.99</td>\n",
       "      <td>136.25</td>\n",
       "      <td>136.62</td>\n",
       "      <td>42</td>\n",
       "      <td>2025-07-23T21:08:10</td>\n",
       "    </tr>\n",
       "    <tr>\n",
       "      <th>1</th>\n",
       "      <td>PC_AL_2025</td>\n",
       "      <td>AMD Ryzen 5 9600X</td>\n",
       "      <td>Nvidia RTX 5060 Ti 16GB</td>\n",
       "      <td>3.13.5</td>\n",
       "      <td>Windows-11-10.0.26100-SP0</td>\n",
       "      <td>ollama</td>\n",
       "      <td>phi3:3.8b</td>\n",
       "      <td>False</td>\n",
       "      <td>31.59</td>\n",
       "      <td>34.68</td>\n",
       "      <td>34.70</td>\n",
       "      <td>21.43</td>\n",
       "      <td>21.44</td>\n",
       "      <td>21.55</td>\n",
       "      <td>42</td>\n",
       "      <td>2025-07-23T21:09:52</td>\n",
       "    </tr>\n",
       "    <tr>\n",
       "      <th>2</th>\n",
       "      <td>PC_AL_2025</td>\n",
       "      <td>AMD Ryzen 5 9600X</td>\n",
       "      <td>Nvidia RTX 5060 Ti 16GB</td>\n",
       "      <td>3.13.5</td>\n",
       "      <td>Windows-11-10.0.26100-SP0</td>\n",
       "      <td>ollama</td>\n",
       "      <td>qwen3:4b</td>\n",
       "      <td>True</td>\n",
       "      <td>13.93</td>\n",
       "      <td>14.19</td>\n",
       "      <td>19.01</td>\n",
       "      <td>105.24</td>\n",
       "      <td>106.41</td>\n",
       "      <td>107.55</td>\n",
       "      <td>42</td>\n",
       "      <td>2025-07-23T21:10:39</td>\n",
       "    </tr>\n",
       "    <tr>\n",
       "      <th>3</th>\n",
       "      <td>PC_AL_2025</td>\n",
       "      <td>AMD Ryzen 5 9600X</td>\n",
       "      <td>Nvidia RTX 5060 Ti 16GB</td>\n",
       "      <td>3.13.5</td>\n",
       "      <td>Windows-11-10.0.26100-SP0</td>\n",
       "      <td>ollama</td>\n",
       "      <td>qwen3:4b</td>\n",
       "      <td>False</td>\n",
       "      <td>92.86</td>\n",
       "      <td>92.92</td>\n",
       "      <td>142.73</td>\n",
       "      <td>12.89</td>\n",
       "      <td>13.18</td>\n",
       "      <td>13.19</td>\n",
       "      <td>42</td>\n",
       "      <td>2025-07-23T21:16:08</td>\n",
       "    </tr>\n",
       "    <tr>\n",
       "      <th>4</th>\n",
       "      <td>PC_AL_2025</td>\n",
       "      <td>AMD Ryzen 5 9600X</td>\n",
       "      <td>Nvidia RTX 5060 Ti 16GB</td>\n",
       "      <td>3.13.5</td>\n",
       "      <td>Windows-11-10.0.26100-SP0</td>\n",
       "      <td>ollama</td>\n",
       "      <td>qwen3:14b</td>\n",
       "      <td>True</td>\n",
       "      <td>26.28</td>\n",
       "      <td>26.34</td>\n",
       "      <td>29.25</td>\n",
       "      <td>40.56</td>\n",
       "      <td>40.74</td>\n",
       "      <td>40.75</td>\n",
       "      <td>42</td>\n",
       "      <td>2025-07-23T21:17:30</td>\n",
       "    </tr>\n",
       "    <tr>\n",
       "      <th>...</th>\n",
       "      <td>...</td>\n",
       "      <td>...</td>\n",
       "      <td>...</td>\n",
       "      <td>...</td>\n",
       "      <td>...</td>\n",
       "      <td>...</td>\n",
       "      <td>...</td>\n",
       "      <td>...</td>\n",
       "      <td>...</td>\n",
       "      <td>...</td>\n",
       "      <td>...</td>\n",
       "      <td>...</td>\n",
       "      <td>...</td>\n",
       "      <td>...</td>\n",
       "      <td>...</td>\n",
       "      <td>...</td>\n",
       "    </tr>\n",
       "    <tr>\n",
       "      <th>59</th>\n",
       "      <td>PC_AL_2025_6000</td>\n",
       "      <td>AMD Ryzen 5 9600X mem-opt</td>\n",
       "      <td>Nvidia RTX 5060 Ti 16GB</td>\n",
       "      <td>3.13.5</td>\n",
       "      <td>Windows-11-10.0.26100-SP0</td>\n",
       "      <td>ollama</td>\n",
       "      <td>gemma3n:e2b</td>\n",
       "      <td>False</td>\n",
       "      <td>10.59</td>\n",
       "      <td>10.62</td>\n",
       "      <td>12.10</td>\n",
       "      <td>31.21</td>\n",
       "      <td>31.34</td>\n",
       "      <td>31.40</td>\n",
       "      <td>42</td>\n",
       "      <td>2025-07-27T15:09:52</td>\n",
       "    </tr>\n",
       "    <tr>\n",
       "      <th>60</th>\n",
       "      <td>PC_AL_2025_6000</td>\n",
       "      <td>AMD Ryzen 5 9600X mem-opt</td>\n",
       "      <td>Nvidia RTX 5060 Ti 16GB</td>\n",
       "      <td>3.13.5</td>\n",
       "      <td>Windows-11-10.0.26100-SP0</td>\n",
       "      <td>ollama</td>\n",
       "      <td>deepseek-r1:8b</td>\n",
       "      <td>True</td>\n",
       "      <td>19.55</td>\n",
       "      <td>20.60</td>\n",
       "      <td>20.68</td>\n",
       "      <td>66.85</td>\n",
       "      <td>67.15</td>\n",
       "      <td>67.28</td>\n",
       "      <td>42</td>\n",
       "      <td>2025-07-27T15:11:34</td>\n",
       "    </tr>\n",
       "    <tr>\n",
       "      <th>61</th>\n",
       "      <td>PC_AL_2025_6000</td>\n",
       "      <td>AMD Ryzen 5 9600X mem-opt</td>\n",
       "      <td>Nvidia RTX 5060 Ti 16GB</td>\n",
       "      <td>3.13.5</td>\n",
       "      <td>Windows-11-10.0.26100-SP0</td>\n",
       "      <td>ollama</td>\n",
       "      <td>deepseek-r1:8b</td>\n",
       "      <td>False</td>\n",
       "      <td>98.82</td>\n",
       "      <td>98.94</td>\n",
       "      <td>141.58</td>\n",
       "      <td>9.58</td>\n",
       "      <td>9.65</td>\n",
       "      <td>9.66</td>\n",
       "      <td>42</td>\n",
       "      <td>2025-07-27T15:20:33</td>\n",
       "    </tr>\n",
       "    <tr>\n",
       "      <th>62</th>\n",
       "      <td>PC_AL_2025_6000</td>\n",
       "      <td>AMD Ryzen 5 9600X mem-opt</td>\n",
       "      <td>Nvidia RTX 5060 Ti 16GB</td>\n",
       "      <td>3.13.5</td>\n",
       "      <td>Windows-11-10.0.26100-SP0</td>\n",
       "      <td>ollama</td>\n",
       "      <td>deepseek-r1:14b</td>\n",
       "      <td>True</td>\n",
       "      <td>15.84</td>\n",
       "      <td>15.86</td>\n",
       "      <td>23.47</td>\n",
       "      <td>39.88</td>\n",
       "      <td>40.14</td>\n",
       "      <td>40.14</td>\n",
       "      <td>42</td>\n",
       "      <td>2025-07-27T15:22:00</td>\n",
       "    </tr>\n",
       "    <tr>\n",
       "      <th>63</th>\n",
       "      <td>PC_AL_2025_6000</td>\n",
       "      <td>AMD Ryzen 5 9600X mem-opt</td>\n",
       "      <td>Nvidia RTX 5060 Ti 16GB</td>\n",
       "      <td>3.13.5</td>\n",
       "      <td>Windows-11-10.0.26100-SP0</td>\n",
       "      <td>ollama</td>\n",
       "      <td>deepseek-r1:14b</td>\n",
       "      <td>False</td>\n",
       "      <td>82.42</td>\n",
       "      <td>82.44</td>\n",
       "      <td>111.48</td>\n",
       "      <td>6.78</td>\n",
       "      <td>6.80</td>\n",
       "      <td>6.81</td>\n",
       "      <td>42</td>\n",
       "      <td>2025-07-27T15:29:22</td>\n",
       "    </tr>\n",
       "  </tbody>\n",
       "</table>\n",
       "<p>64 rows × 16 columns</p>\n",
       "</div>"
      ],
      "text/plain": [
       "            machine                        CPU                      GPU  \\\n",
       "0        PC_AL_2025          AMD Ryzen 5 9600X  Nvidia RTX 5060 Ti 16GB   \n",
       "1        PC_AL_2025          AMD Ryzen 5 9600X  Nvidia RTX 5060 Ti 16GB   \n",
       "2        PC_AL_2025          AMD Ryzen 5 9600X  Nvidia RTX 5060 Ti 16GB   \n",
       "3        PC_AL_2025          AMD Ryzen 5 9600X  Nvidia RTX 5060 Ti 16GB   \n",
       "4        PC_AL_2025          AMD Ryzen 5 9600X  Nvidia RTX 5060 Ti 16GB   \n",
       "..              ...                        ...                      ...   \n",
       "59  PC_AL_2025_6000  AMD Ryzen 5 9600X mem-opt  Nvidia RTX 5060 Ti 16GB   \n",
       "60  PC_AL_2025_6000  AMD Ryzen 5 9600X mem-opt  Nvidia RTX 5060 Ti 16GB   \n",
       "61  PC_AL_2025_6000  AMD Ryzen 5 9600X mem-opt  Nvidia RTX 5060 Ti 16GB   \n",
       "62  PC_AL_2025_6000  AMD Ryzen 5 9600X mem-opt  Nvidia RTX 5060 Ti 16GB   \n",
       "63  PC_AL_2025_6000  AMD Ryzen 5 9600X mem-opt  Nvidia RTX 5060 Ti 16GB   \n",
       "\n",
       "    python                   platform   bench            model    gpu  \\\n",
       "0   3.13.5  Windows-11-10.0.26100-SP0  ollama        phi3:3.8b   True   \n",
       "1   3.13.5  Windows-11-10.0.26100-SP0  ollama        phi3:3.8b  False   \n",
       "2   3.13.5  Windows-11-10.0.26100-SP0  ollama         qwen3:4b   True   \n",
       "3   3.13.5  Windows-11-10.0.26100-SP0  ollama         qwen3:4b  False   \n",
       "4   3.13.5  Windows-11-10.0.26100-SP0  ollama        qwen3:14b   True   \n",
       "..     ...                        ...     ...              ...    ...   \n",
       "59  3.13.5  Windows-11-10.0.26100-SP0  ollama      gemma3n:e2b  False   \n",
       "60  3.13.5  Windows-11-10.0.26100-SP0  ollama   deepseek-r1:8b   True   \n",
       "61  3.13.5  Windows-11-10.0.26100-SP0  ollama   deepseek-r1:8b  False   \n",
       "62  3.13.5  Windows-11-10.0.26100-SP0  ollama  deepseek-r1:14b   True   \n",
       "63  3.13.5  Windows-11-10.0.26100-SP0  ollama  deepseek-r1:14b  False   \n",
       "\n",
       "    wall_min_s  wall_med_s  wall_max_s  tok_min_s  tok_med_s  tok_max_s  seed  \\\n",
       "0         6.37        6.45       14.81     133.99     136.25     136.62    42   \n",
       "1        31.59       34.68       34.70      21.43      21.44      21.55    42   \n",
       "2        13.93       14.19       19.01     105.24     106.41     107.55    42   \n",
       "3        92.86       92.92      142.73      12.89      13.18      13.19    42   \n",
       "4        26.28       26.34       29.25      40.56      40.74      40.75    42   \n",
       "..         ...         ...         ...        ...        ...        ...   ...   \n",
       "59       10.59       10.62       12.10      31.21      31.34      31.40    42   \n",
       "60       19.55       20.60       20.68      66.85      67.15      67.28    42   \n",
       "61       98.82       98.94      141.58       9.58       9.65       9.66    42   \n",
       "62       15.84       15.86       23.47      39.88      40.14      40.14    42   \n",
       "63       82.42       82.44      111.48       6.78       6.80       6.81    42   \n",
       "\n",
       "              timestamp  \n",
       "0   2025-07-23T21:08:10  \n",
       "1   2025-07-23T21:09:52  \n",
       "2   2025-07-23T21:10:39  \n",
       "3   2025-07-23T21:16:08  \n",
       "4   2025-07-23T21:17:30  \n",
       "..                  ...  \n",
       "59  2025-07-27T15:09:52  \n",
       "60  2025-07-27T15:11:34  \n",
       "61  2025-07-27T15:20:33  \n",
       "62  2025-07-27T15:22:00  \n",
       "63  2025-07-27T15:29:22  \n",
       "\n",
       "[64 rows x 16 columns]"
      ]
     },
     "metadata": {},
     "output_type": "display_data"
    }
   ],
   "source": [
    "# Show ollama_df with tabulate\n",
    "display(ollama_df)"
   ]
  },
  {
   "cell_type": "code",
   "execution_count": 13,
   "id": "66c00c3c",
   "metadata": {},
   "outputs": [
    {
     "data": {
      "application/vnd.plotly.v1+json": {
       "config": {
        "plotlyServerURL": "https://plot.ly"
       },
       "data": [
        {
         "hovertemplate": "AMD Ryzen 5 9600X + Nvidia RTX 5060 Ti 16GB<br>Modello: %{y} · GPU<br>%{x:.2f} token/s<extra></extra>",
         "marker": {
          "color": "rgb(102, 197, 204)",
          "pattern": {
           "shape": ""
          }
         },
         "orientation": "h",
         "showlegend": false,
         "text": [
          "136.25",
          "106.41",
          "40.74",
          "109.05",
          "44.31",
          "49.05",
          "67.28",
          "39.83"
         ],
         "textposition": "outside",
         "type": "bar",
         "x": {
          "bdata": "AAAAAAAIYUAK16NwPZpaQB+F61G4XkRAMzMzMzNDW0BI4XoUridGQGZmZmZmhkhAUrgehevRUEAK16NwPepDQA==",
          "dtype": "f8"
         },
         "y": [
          "phi3:3.8b",
          "qwen3:4b",
          "qwen3:14b",
          "gemma3:4b",
          "gemma3:12b",
          "gemma3n:e2b",
          "deepseek-r1:8b",
          "deepseek-r1:14b"
         ]
        },
        {
         "hovertemplate": "AMD Ryzen 5 9600X + Nvidia RTX 5060 Ti 16GB<br>Modello: %{y} · CPU<br>%{x:.2f} token/s<extra></extra>",
         "marker": {
          "color": "rgb(246, 207, 113)",
          "pattern": {
           "shape": ""
          }
         },
         "orientation": "h",
         "showlegend": false,
         "text": [
          "21.44",
          "13.18",
          "4.85",
          "18.60",
          "6.75",
          "27.65",
          "8.57",
          "5.89"
         ],
         "textposition": "outside",
         "type": "bar",
         "x": {
          "bdata": "cT0K16NwNUBcj8L1KFwqQGZmZmZmZhNAmpmZmZmZMkAAAAAAAAAbQGZmZmZmpjtApHA9CtcjIUCPwvUoXI8XQA==",
          "dtype": "f8"
         },
         "y": [
          "phi3:3.8b",
          "qwen3:4b",
          "qwen3:14b",
          "gemma3:4b",
          "gemma3:12b",
          "gemma3n:e2b",
          "deepseek-r1:8b",
          "deepseek-r1:14b"
         ]
        },
        {
         "hovertemplate": "AMD Ryzen 5 9600X mem-opt + Nvidia RTX 5060 Ti 16GB<br>Modello: %{y} · GPU<br>%{x:.2f} token/s<extra></extra>",
         "marker": {
          "color": "rgb(102, 197, 204)",
          "pattern": {
           "shape": "/"
          }
         },
         "orientation": "h",
         "showlegend": false,
         "text": [
          "136.70",
          "108.56",
          "40.67",
          "110.73",
          "44.46",
          "51.03",
          "67.15",
          "40.14"
         ],
         "textposition": "outside",
         "type": "bar",
         "x": {
          "bdata": "ZmZmZmYWYUCkcD0K1yNbQPYoXI/CVURAH4XrUbiuW0B7FK5H4TpGQKRwPQrXg0lAmpmZmZnJUEBSuB6F6xFEQA==",
          "dtype": "f8"
         },
         "y": [
          "phi3:3.8b",
          "qwen3:4b",
          "qwen3:14b",
          "gemma3:4b",
          "gemma3:12b",
          "gemma3n:e2b",
          "deepseek-r1:8b",
          "deepseek-r1:14b"
         ]
        },
        {
         "hovertemplate": "AMD Ryzen 5 9600X mem-opt + Nvidia RTX 5060 Ti 16GB<br>Modello: %{y} · CPU<br>%{x:.2f} token/s<extra></extra>",
         "marker": {
          "color": "rgb(246, 207, 113)",
          "pattern": {
           "shape": "/"
          }
         },
         "orientation": "h",
         "showlegend": false,
         "text": [
          "23.89",
          "15.25",
          "5.74",
          "21.77",
          "7.74",
          "31.34",
          "9.65",
          "6.80"
         ],
         "textposition": "outside",
         "type": "bar",
         "x": {
          "bdata": "pHA9CtfjN0AAAAAAAIAuQPYoXI/C9RZAhetRuB7FNUD2KFyPwvUeQNejcD0KVz9AzczMzMxMI0AzMzMzMzMbQA==",
          "dtype": "f8"
         },
         "y": [
          "phi3:3.8b",
          "qwen3:4b",
          "qwen3:14b",
          "gemma3:4b",
          "gemma3:12b",
          "gemma3n:e2b",
          "deepseek-r1:8b",
          "deepseek-r1:14b"
         ]
        },
        {
         "hovertemplate": "AMD Ryzen 7 9800X3D + Nvidia GTX 4080 SUPER<br>Modello: %{y} · GPU<br>%{x:.2f} token/s<extra></extra>",
         "marker": {
          "color": "rgb(102, 197, 204)",
          "pattern": {
           "shape": "x"
          }
         },
         "orientation": "h",
         "showlegend": false,
         "text": [
          "210.74",
          "167.86",
          "68.82",
          "171.22",
          "75.85",
          "63.48",
          "109.16",
          "67.43"
         ],
         "textposition": "outside",
         "type": "bar",
         "x": {
          "bdata": "SOF6FK5XakDsUbgehftkQBSuR+F6NFFA16NwPQpnZUBmZmZmZvZSQD0K16NwvU9ACtejcD1KW0DsUbgehdtQQA==",
          "dtype": "f8"
         },
         "y": [
          "phi3:3.8b",
          "qwen3:4b",
          "qwen3:14b",
          "gemma3:4b",
          "gemma3:12b",
          "gemma3n:e2b",
          "deepseek-r1:8b",
          "deepseek-r1:14b"
         ]
        },
        {
         "hovertemplate": "AMD Ryzen 7 9800X3D + Nvidia GTX 4080 SUPER<br>Modello: %{y} · CPU<br>%{x:.2f} token/s<extra></extra>",
         "marker": {
          "color": "rgb(246, 207, 113)",
          "pattern": {
           "shape": "x"
          }
         },
         "orientation": "h",
         "showlegend": false,
         "text": [
          "22.35",
          "13.53",
          "4.53",
          "19.71",
          "7.32",
          "26.90",
          "7.67",
          "5.67"
         ],
         "textposition": "outside",
         "type": "bar",
         "x": {
          "bdata": "mpmZmZlZNkCPwvUoXA8rQB+F61G4HhJA9ihcj8K1M0BI4XoUrkcdQGZmZmZm5jpArkfhehSuHkCuR+F6FK4WQA==",
          "dtype": "f8"
         },
         "y": [
          "phi3:3.8b",
          "qwen3:4b",
          "qwen3:14b",
          "gemma3:4b",
          "gemma3:12b",
          "gemma3n:e2b",
          "deepseek-r1:8b",
          "deepseek-r1:14b"
         ]
        },
        {
         "hovertemplate": "Intel i5-4690K + Nvidia GTX 1060 6GB<br>Modello: %{y} · GPU<br>%{x:.2f} token/s<extra></extra>",
         "marker": {
          "color": "rgb(102, 197, 204)",
          "pattern": {
           "shape": "\\"
          }
         },
         "orientation": "h",
         "showlegend": false,
         "text": [
          "38.54",
          "23.10",
          "3.73",
          "20.50",
          "5.01",
          "18.97",
          "11.05",
          "4.07"
         ],
         "textposition": "outside",
         "type": "bar",
         "x": {
          "bdata": "hetRuB5FQ0CamZmZmRk3QNejcD0K1w1AAAAAAACANEAK16NwPQoUQLgehetR+DJAmpmZmZkZJkBI4XoUrkcQQA==",
          "dtype": "f8"
         },
         "y": [
          "phi3:3.8b",
          "qwen3:4b",
          "qwen3:14b",
          "gemma3:4b",
          "gemma3:12b",
          "gemma3n:e2b",
          "deepseek-r1:8b",
          "deepseek-r1:14b"
         ]
        },
        {
         "hovertemplate": "Intel i5-4690K + Nvidia GTX 1060 6GB<br>Modello: %{y} · CPU<br>%{x:.2f} token/s<extra></extra>",
         "marker": {
          "color": "rgb(246, 207, 113)",
          "pattern": {
           "shape": "\\"
          }
         },
         "orientation": "h",
         "showlegend": false,
         "text": [
          "11.34",
          "7.25",
          "2.83",
          "10.96",
          "3.94",
          "15.87",
          "4.77",
          "3.40"
         ],
         "textposition": "outside",
         "type": "bar",
         "x": {
          "bdata": "rkfhehSuJkAAAAAAAAAdQKRwPQrXowZA7FG4HoXrJUCF61G4HoUPQD0K16NwvS9AFK5H4XoUE0AzMzMzMzMLQA==",
          "dtype": "f8"
         },
         "y": [
          "phi3:3.8b",
          "qwen3:4b",
          "qwen3:14b",
          "gemma3:4b",
          "gemma3:12b",
          "gemma3n:e2b",
          "deepseek-r1:8b",
          "deepseek-r1:14b"
         ]
        }
       ],
       "layout": {
        "barmode": "group",
        "height": 2560,
        "margin": {
         "r": 220
        },
        "template": {
         "data": {
          "bar": [
           {
            "error_x": {
             "color": "#2a3f5f"
            },
            "error_y": {
             "color": "#2a3f5f"
            },
            "marker": {
             "line": {
              "color": "#E5ECF6",
              "width": 0.5
             },
             "pattern": {
              "fillmode": "overlay",
              "size": 10,
              "solidity": 0.2
             }
            },
            "type": "bar"
           }
          ],
          "barpolar": [
           {
            "marker": {
             "line": {
              "color": "#E5ECF6",
              "width": 0.5
             },
             "pattern": {
              "fillmode": "overlay",
              "size": 10,
              "solidity": 0.2
             }
            },
            "type": "barpolar"
           }
          ],
          "carpet": [
           {
            "aaxis": {
             "endlinecolor": "#2a3f5f",
             "gridcolor": "white",
             "linecolor": "white",
             "minorgridcolor": "white",
             "startlinecolor": "#2a3f5f"
            },
            "baxis": {
             "endlinecolor": "#2a3f5f",
             "gridcolor": "white",
             "linecolor": "white",
             "minorgridcolor": "white",
             "startlinecolor": "#2a3f5f"
            },
            "type": "carpet"
           }
          ],
          "choropleth": [
           {
            "colorbar": {
             "outlinewidth": 0,
             "ticks": ""
            },
            "type": "choropleth"
           }
          ],
          "contour": [
           {
            "colorbar": {
             "outlinewidth": 0,
             "ticks": ""
            },
            "colorscale": [
             [
              0,
              "#0d0887"
             ],
             [
              0.1111111111111111,
              "#46039f"
             ],
             [
              0.2222222222222222,
              "#7201a8"
             ],
             [
              0.3333333333333333,
              "#9c179e"
             ],
             [
              0.4444444444444444,
              "#bd3786"
             ],
             [
              0.5555555555555556,
              "#d8576b"
             ],
             [
              0.6666666666666666,
              "#ed7953"
             ],
             [
              0.7777777777777778,
              "#fb9f3a"
             ],
             [
              0.8888888888888888,
              "#fdca26"
             ],
             [
              1,
              "#f0f921"
             ]
            ],
            "type": "contour"
           }
          ],
          "contourcarpet": [
           {
            "colorbar": {
             "outlinewidth": 0,
             "ticks": ""
            },
            "type": "contourcarpet"
           }
          ],
          "heatmap": [
           {
            "colorbar": {
             "outlinewidth": 0,
             "ticks": ""
            },
            "colorscale": [
             [
              0,
              "#0d0887"
             ],
             [
              0.1111111111111111,
              "#46039f"
             ],
             [
              0.2222222222222222,
              "#7201a8"
             ],
             [
              0.3333333333333333,
              "#9c179e"
             ],
             [
              0.4444444444444444,
              "#bd3786"
             ],
             [
              0.5555555555555556,
              "#d8576b"
             ],
             [
              0.6666666666666666,
              "#ed7953"
             ],
             [
              0.7777777777777778,
              "#fb9f3a"
             ],
             [
              0.8888888888888888,
              "#fdca26"
             ],
             [
              1,
              "#f0f921"
             ]
            ],
            "type": "heatmap"
           }
          ],
          "histogram": [
           {
            "marker": {
             "pattern": {
              "fillmode": "overlay",
              "size": 10,
              "solidity": 0.2
             }
            },
            "type": "histogram"
           }
          ],
          "histogram2d": [
           {
            "colorbar": {
             "outlinewidth": 0,
             "ticks": ""
            },
            "colorscale": [
             [
              0,
              "#0d0887"
             ],
             [
              0.1111111111111111,
              "#46039f"
             ],
             [
              0.2222222222222222,
              "#7201a8"
             ],
             [
              0.3333333333333333,
              "#9c179e"
             ],
             [
              0.4444444444444444,
              "#bd3786"
             ],
             [
              0.5555555555555556,
              "#d8576b"
             ],
             [
              0.6666666666666666,
              "#ed7953"
             ],
             [
              0.7777777777777778,
              "#fb9f3a"
             ],
             [
              0.8888888888888888,
              "#fdca26"
             ],
             [
              1,
              "#f0f921"
             ]
            ],
            "type": "histogram2d"
           }
          ],
          "histogram2dcontour": [
           {
            "colorbar": {
             "outlinewidth": 0,
             "ticks": ""
            },
            "colorscale": [
             [
              0,
              "#0d0887"
             ],
             [
              0.1111111111111111,
              "#46039f"
             ],
             [
              0.2222222222222222,
              "#7201a8"
             ],
             [
              0.3333333333333333,
              "#9c179e"
             ],
             [
              0.4444444444444444,
              "#bd3786"
             ],
             [
              0.5555555555555556,
              "#d8576b"
             ],
             [
              0.6666666666666666,
              "#ed7953"
             ],
             [
              0.7777777777777778,
              "#fb9f3a"
             ],
             [
              0.8888888888888888,
              "#fdca26"
             ],
             [
              1,
              "#f0f921"
             ]
            ],
            "type": "histogram2dcontour"
           }
          ],
          "mesh3d": [
           {
            "colorbar": {
             "outlinewidth": 0,
             "ticks": ""
            },
            "type": "mesh3d"
           }
          ],
          "parcoords": [
           {
            "line": {
             "colorbar": {
              "outlinewidth": 0,
              "ticks": ""
             }
            },
            "type": "parcoords"
           }
          ],
          "pie": [
           {
            "automargin": true,
            "type": "pie"
           }
          ],
          "scatter": [
           {
            "fillpattern": {
             "fillmode": "overlay",
             "size": 10,
             "solidity": 0.2
            },
            "type": "scatter"
           }
          ],
          "scatter3d": [
           {
            "line": {
             "colorbar": {
              "outlinewidth": 0,
              "ticks": ""
             }
            },
            "marker": {
             "colorbar": {
              "outlinewidth": 0,
              "ticks": ""
             }
            },
            "type": "scatter3d"
           }
          ],
          "scattercarpet": [
           {
            "marker": {
             "colorbar": {
              "outlinewidth": 0,
              "ticks": ""
             }
            },
            "type": "scattercarpet"
           }
          ],
          "scattergeo": [
           {
            "marker": {
             "colorbar": {
              "outlinewidth": 0,
              "ticks": ""
             }
            },
            "type": "scattergeo"
           }
          ],
          "scattergl": [
           {
            "marker": {
             "colorbar": {
              "outlinewidth": 0,
              "ticks": ""
             }
            },
            "type": "scattergl"
           }
          ],
          "scattermap": [
           {
            "marker": {
             "colorbar": {
              "outlinewidth": 0,
              "ticks": ""
             }
            },
            "type": "scattermap"
           }
          ],
          "scattermapbox": [
           {
            "marker": {
             "colorbar": {
              "outlinewidth": 0,
              "ticks": ""
             }
            },
            "type": "scattermapbox"
           }
          ],
          "scatterpolar": [
           {
            "marker": {
             "colorbar": {
              "outlinewidth": 0,
              "ticks": ""
             }
            },
            "type": "scatterpolar"
           }
          ],
          "scatterpolargl": [
           {
            "marker": {
             "colorbar": {
              "outlinewidth": 0,
              "ticks": ""
             }
            },
            "type": "scatterpolargl"
           }
          ],
          "scatterternary": [
           {
            "marker": {
             "colorbar": {
              "outlinewidth": 0,
              "ticks": ""
             }
            },
            "type": "scatterternary"
           }
          ],
          "surface": [
           {
            "colorbar": {
             "outlinewidth": 0,
             "ticks": ""
            },
            "colorscale": [
             [
              0,
              "#0d0887"
             ],
             [
              0.1111111111111111,
              "#46039f"
             ],
             [
              0.2222222222222222,
              "#7201a8"
             ],
             [
              0.3333333333333333,
              "#9c179e"
             ],
             [
              0.4444444444444444,
              "#bd3786"
             ],
             [
              0.5555555555555556,
              "#d8576b"
             ],
             [
              0.6666666666666666,
              "#ed7953"
             ],
             [
              0.7777777777777778,
              "#fb9f3a"
             ],
             [
              0.8888888888888888,
              "#fdca26"
             ],
             [
              1,
              "#f0f921"
             ]
            ],
            "type": "surface"
           }
          ],
          "table": [
           {
            "cells": {
             "fill": {
              "color": "#EBF0F8"
             },
             "line": {
              "color": "white"
             }
            },
            "header": {
             "fill": {
              "color": "#C8D4E3"
             },
             "line": {
              "color": "white"
             }
            },
            "type": "table"
           }
          ]
         },
         "layout": {
          "annotationdefaults": {
           "arrowcolor": "#2a3f5f",
           "arrowhead": 0,
           "arrowwidth": 1
          },
          "autotypenumbers": "strict",
          "coloraxis": {
           "colorbar": {
            "outlinewidth": 0,
            "ticks": ""
           }
          },
          "colorscale": {
           "diverging": [
            [
             0,
             "#8e0152"
            ],
            [
             0.1,
             "#c51b7d"
            ],
            [
             0.2,
             "#de77ae"
            ],
            [
             0.3,
             "#f1b6da"
            ],
            [
             0.4,
             "#fde0ef"
            ],
            [
             0.5,
             "#f7f7f7"
            ],
            [
             0.6,
             "#e6f5d0"
            ],
            [
             0.7,
             "#b8e186"
            ],
            [
             0.8,
             "#7fbc41"
            ],
            [
             0.9,
             "#4d9221"
            ],
            [
             1,
             "#276419"
            ]
           ],
           "sequential": [
            [
             0,
             "#0d0887"
            ],
            [
             0.1111111111111111,
             "#46039f"
            ],
            [
             0.2222222222222222,
             "#7201a8"
            ],
            [
             0.3333333333333333,
             "#9c179e"
            ],
            [
             0.4444444444444444,
             "#bd3786"
            ],
            [
             0.5555555555555556,
             "#d8576b"
            ],
            [
             0.6666666666666666,
             "#ed7953"
            ],
            [
             0.7777777777777778,
             "#fb9f3a"
            ],
            [
             0.8888888888888888,
             "#fdca26"
            ],
            [
             1,
             "#f0f921"
            ]
           ],
           "sequentialminus": [
            [
             0,
             "#0d0887"
            ],
            [
             0.1111111111111111,
             "#46039f"
            ],
            [
             0.2222222222222222,
             "#7201a8"
            ],
            [
             0.3333333333333333,
             "#9c179e"
            ],
            [
             0.4444444444444444,
             "#bd3786"
            ],
            [
             0.5555555555555556,
             "#d8576b"
            ],
            [
             0.6666666666666666,
             "#ed7953"
            ],
            [
             0.7777777777777778,
             "#fb9f3a"
            ],
            [
             0.8888888888888888,
             "#fdca26"
            ],
            [
             1,
             "#f0f921"
            ]
           ]
          },
          "colorway": [
           "#636efa",
           "#EF553B",
           "#00cc96",
           "#ab63fa",
           "#FFA15A",
           "#19d3f3",
           "#FF6692",
           "#B6E880",
           "#FF97FF",
           "#FECB52"
          ],
          "font": {
           "color": "#2a3f5f"
          },
          "geo": {
           "bgcolor": "white",
           "lakecolor": "white",
           "landcolor": "#E5ECF6",
           "showlakes": true,
           "showland": true,
           "subunitcolor": "white"
          },
          "hoverlabel": {
           "align": "left"
          },
          "hovermode": "closest",
          "mapbox": {
           "style": "light"
          },
          "paper_bgcolor": "white",
          "plot_bgcolor": "#E5ECF6",
          "polar": {
           "angularaxis": {
            "gridcolor": "white",
            "linecolor": "white",
            "ticks": ""
           },
           "bgcolor": "#E5ECF6",
           "radialaxis": {
            "gridcolor": "white",
            "linecolor": "white",
            "ticks": ""
           }
          },
          "scene": {
           "xaxis": {
            "backgroundcolor": "#E5ECF6",
            "gridcolor": "white",
            "gridwidth": 2,
            "linecolor": "white",
            "showbackground": true,
            "ticks": "",
            "zerolinecolor": "white"
           },
           "yaxis": {
            "backgroundcolor": "#E5ECF6",
            "gridcolor": "white",
            "gridwidth": 2,
            "linecolor": "white",
            "showbackground": true,
            "ticks": "",
            "zerolinecolor": "white"
           },
           "zaxis": {
            "backgroundcolor": "#E5ECF6",
            "gridcolor": "white",
            "gridwidth": 2,
            "linecolor": "white",
            "showbackground": true,
            "ticks": "",
            "zerolinecolor": "white"
           }
          },
          "shapedefaults": {
           "line": {
            "color": "#2a3f5f"
           }
          },
          "ternary": {
           "aaxis": {
            "gridcolor": "white",
            "linecolor": "white",
            "ticks": ""
           },
           "baxis": {
            "gridcolor": "white",
            "linecolor": "white",
            "ticks": ""
           },
           "bgcolor": "#E5ECF6",
           "caxis": {
            "gridcolor": "white",
            "linecolor": "white",
            "ticks": ""
           }
          },
          "title": {
           "x": 0.05
          },
          "xaxis": {
           "automargin": true,
           "gridcolor": "white",
           "linecolor": "white",
           "ticks": "",
           "title": {
            "standoff": 15
           },
           "zerolinecolor": "white",
           "zerolinewidth": 2
          },
          "yaxis": {
           "automargin": true,
           "gridcolor": "white",
           "linecolor": "white",
           "ticks": "",
           "title": {
            "standoff": 15
           },
           "zerolinecolor": "white",
           "zerolinewidth": 2
          }
         }
        },
        "title": {
         "text": "Token al secondo – tutte le accelerazioni e macchine"
        },
        "updatemenus": [
         {
          "bgcolor": "white",
          "bordercolor": "lightgray",
          "buttons": [
           {
            "args": [
             {
              "visible": [
               true,
               true,
               true,
               true,
               true,
               true,
               true,
               true
              ]
             },
             {
              "title": "Token al secondo – tutte le accelerazioni"
             }
            ],
            "label": "Tutte le accelerazioni",
            "method": "update"
           },
           {
            "args": [
             {
              "visible": [
               true,
               false,
               true,
               false,
               true,
               false,
               true,
               false
              ]
             },
             {
              "title": "Token al secondo – solo GPU"
             }
            ],
            "label": "Solo GPU",
            "method": "update"
           },
           {
            "args": [
             {
              "visible": [
               false,
               true,
               false,
               true,
               false,
               true,
               false,
               true
              ]
             },
             {
              "title": "Token al secondo – solo CPU"
             }
            ],
            "label": "Solo CPU",
            "method": "update"
           }
          ],
          "direction": "down",
          "showactive": true,
          "x": 1.02,
          "xanchor": "left",
          "y": 1,
          "yanchor": "top"
         },
         {
          "bgcolor": "white",
          "bordercolor": "lightgray",
          "buttons": [
           {
            "args": [
             {
              "visible": [
               true,
               true,
               true,
               true,
               true,
               true,
               true,
               true
              ]
             },
             {
              "title": "Token al secondo – tutte le macchine"
             }
            ],
            "label": "Tutte le macchine",
            "method": "update"
           },
           {
            "args": [
             {
              "visible": [
               true,
               true,
               false,
               false,
               false,
               false,
               false,
               false
              ]
             },
             {
              "title": "Token al secondo – AMD Ryzen 5 9600X + Nvidia RTX 5060 Ti 16GB"
             }
            ],
            "label": "AMD Ryzen 5 9600X + Nvidia RTX 5060 Ti 16GB",
            "method": "update"
           },
           {
            "args": [
             {
              "visible": [
               false,
               false,
               true,
               true,
               false,
               false,
               false,
               false
              ]
             },
             {
              "title": "Token al secondo – AMD Ryzen 5 9600X mem-opt + Nvidia RTX 5060 Ti 16GB"
             }
            ],
            "label": "AMD Ryzen 5 9600X mem-opt + Nvidia RTX 5060 Ti 16GB",
            "method": "update"
           },
           {
            "args": [
             {
              "visible": [
               false,
               false,
               false,
               false,
               true,
               true,
               false,
               false
              ]
             },
             {
              "title": "Token al secondo – AMD Ryzen 7 9800X3D + Nvidia GTX 4080 SUPER"
             }
            ],
            "label": "AMD Ryzen 7 9800X3D + Nvidia GTX 4080 SUPER",
            "method": "update"
           },
           {
            "args": [
             {
              "visible": [
               false,
               false,
               false,
               false,
               false,
               false,
               true,
               true
              ]
             },
             {
              "title": "Token al secondo – Intel i5-4690K + Nvidia GTX 1060 6GB"
             }
            ],
            "label": "Intel i5-4690K + Nvidia GTX 1060 6GB",
            "method": "update"
           }
          ],
          "direction": "down",
          "showactive": true,
          "x": 1.02,
          "xanchor": "left",
          "y": 0.8,
          "yanchor": "top"
         }
        ],
        "xaxis": {
         "title": {
          "text": "Token/s"
         }
        },
        "yaxis": {
         "title": {
          "text": "Modello LLM"
         }
        }
       }
      }
     },
     "metadata": {},
     "output_type": "display_data"
    }
   ],
   "source": [
    "# Acceleration label\n",
    "ollama_df[\"acc_label\"] = ollama_df[\"gpu\"].astype(str).replace({\"True\": \"GPU\", \"False\": \"CPU\"})\n",
    "\n",
    "# Machine label = CPU + GPU (dynamic)\n",
    "ollama_df[\"machine_label\"] = ollama_df[\"CPU\"] + \" + \" + ollama_df[\"GPU\"]\n",
    "\n",
    "# Sorted list of unique models (appearance order preserved)\n",
    "model_order = list(dict.fromkeys(ollama_df[\"model\"].tolist()))  # preserve first appearance order\n",
    "ollama_df[\"model\"] = pd.Categorical(ollama_df[\"model\"], categories=model_order, ordered=True)\n",
    "\n",
    "# Sorted list of unique machines\n",
    "#machine_labels = list(dict.fromkeys(ollama_df[\"machine_label\"].tolist()))\n",
    "machine_labels = sorted(ollama_df[\"machine_label\"].unique())\n",
    "\n",
    "# Pattern shapes (cycle if more machines)\n",
    "patterns_cycle = [\"\", \"/\", \"x\", \"\\\\\", \"-\", \"|\", \"+\", \".\"]\n",
    "pattern_map = {\n",
    "    machine: patterns_cycle[i % len(patterns_cycle)]\n",
    "    for i, machine in enumerate(machine_labels)\n",
    "}\n",
    "\n",
    "# Colour mapping for GPU/CPU\n",
    "color_map = {\"GPU\": px.colors.qualitative.Pastel[0], \"CPU\": px.colors.qualitative.Pastel[1]}\n",
    "\n",
    "# ------------------ Build traces ------------------\n",
    "traces = []\n",
    "meta = []\n",
    "\n",
    "for machine in machine_labels:\n",
    "    for acc in [\"GPU\", \"CPU\"]:  # fixed order\n",
    "        subset = ollama_df[(ollama_df[\"machine_label\"] == machine) & (ollama_df[\"acc_label\"] == acc)]\n",
    "        if subset.empty:\n",
    "            continue\n",
    "        traces.append(\n",
    "            go.Bar(\n",
    "                y=subset[\"model\"],\n",
    "                x=subset[\"tok_med_s\"],   # average tokens per second\n",
    "                orientation=\"h\",\n",
    "                showlegend=False,\n",
    "                marker=dict(color=color_map[acc], pattern=dict(shape=pattern_map[machine])),\n",
    "                text=[f\"{t:.2f}\" for t in subset[\"tok_med_s\"]],\n",
    "                textposition=\"outside\",\n",
    "                hovertemplate=(\n",
    "                    f\"{machine}<br>Modello: %{{y}} · {acc}<br>%{{x:.2f}} token/s\"\n",
    "                    \"<extra></extra>\"\n",
    "                ),\n",
    "            )\n",
    "        )\n",
    "        meta.append({\"machine\": machine, \"acc\": acc})\n",
    "\n",
    "fig = go.Figure(data=traces)\n",
    "\n",
    "# ------------------ Visibility masks ------------------\n",
    "n = len(traces)\n",
    "vis_all = [True]*n\n",
    "vis_gpu_only = [m[\"acc\"] == \"GPU\" for m in meta]\n",
    "vis_cpu_only = [m[\"acc\"] == \"CPU\" for m in meta]\n",
    "\n",
    "machine_vis_dict = {machine: [m[\"machine\"] == machine for m in meta]\n",
    "                    for machine in machine_labels}\n",
    "\n",
    "# ------------------ Dropdowns ------------------\n",
    "dropdown_acc = dict(\n",
    "    buttons=[\n",
    "        dict(label=\"Tutte le accelerazioni\", method=\"update\",\n",
    "             args=[{\"visible\": vis_all},\n",
    "                   {\"title\": \"Token al secondo – tutte le accelerazioni\"}]),\n",
    "        dict(label=\"Solo GPU\", method=\"update\",\n",
    "             args=[{\"visible\": vis_gpu_only},\n",
    "                   {\"title\": \"Token al secondo – solo GPU\"}]),\n",
    "        dict(label=\"Solo CPU\", method=\"update\",\n",
    "             args=[{\"visible\": vis_cpu_only},\n",
    "                   {\"title\": \"Token al secondo – solo CPU\"}]),\n",
    "    ],\n",
    "    direction=\"down\",\n",
    "    x=1.02,\n",
    "    y=1,\n",
    "    xanchor=\"left\",\n",
    "    yanchor=\"top\",\n",
    "    showactive=True,\n",
    "    bgcolor=\"white\",\n",
    "    bordercolor=\"lightgray\"\n",
    ")\n",
    "\n",
    "machine_buttons = [\n",
    "    dict(label=\"Tutte le macchine\", method=\"update\",\n",
    "         args=[{\"visible\": vis_all},\n",
    "               {\"title\": \"Token al secondo – tutte le macchine\"}])\n",
    "]\n",
    "for machine in machine_labels:\n",
    "    machine_buttons.append(\n",
    "        dict(label=machine, method=\"update\",\n",
    "             args=[{\"visible\": machine_vis_dict[machine]},\n",
    "                   {\"title\": f\"Token al secondo – {machine}\"}])\n",
    "    )\n",
    "\n",
    "dropdown_machine = dict(\n",
    "    buttons=machine_buttons,\n",
    "    direction=\"down\",\n",
    "    x=1.02,\n",
    "    y=0.8,\n",
    "    xanchor=\"left\",\n",
    "    yanchor=\"top\",\n",
    "    showactive=True,\n",
    "    bgcolor=\"white\",\n",
    "    bordercolor=\"lightgray\"\n",
    ")\n",
    "\n",
    "# ------------------ Layout ------------------\n",
    "fig.update_layout(\n",
    "    barmode=\"group\",\n",
    "    title=\"Token al secondo – tutte le accelerazioni e macchine\",\n",
    "    xaxis_title=\"Token/s\",\n",
    "    yaxis_title=\"Modello LLM\",\n",
    "    updatemenus=[dropdown_acc, dropdown_machine],\n",
    "    height = len(ollama_df) * 40,\n",
    "    margin=dict(r=220)\n",
    ")\n",
    "\n",
    "os.makedirs(\"images\", exist_ok=True)   # crea la cartella se manca\n",
    "fig.write_image(\n",
    "    \"images/ollama_tokens_per_second.png\",\n",
    "    scale=2\n",
    ")\n",
    "\n",
    "fig.show()"
   ]
  }
 ],
 "metadata": {
  "kernelspec": {
   "display_name": "ai-ml-gpu-bench",
   "language": "python",
   "name": "python3"
  },
  "language_info": {
   "codemirror_mode": {
    "name": "ipython",
    "version": 3
   },
   "file_extension": ".py",
   "mimetype": "text/x-python",
   "name": "python",
   "nbconvert_exporter": "python",
   "pygments_lexer": "ipython3",
   "version": "3.13.5"
  }
 },
 "nbformat": 4,
 "nbformat_minor": 5
}
