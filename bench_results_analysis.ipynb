{
 "cells": [
  {
   "cell_type": "code",
   "execution_count": 16,
   "id": "421a7b3f",
   "metadata": {},
   "outputs": [],
   "source": [
    "import pandas as pd\n",
    "import plotly.graph_objects as go\n",
    "import plotly.express as px\n",
    "import re\n",
    "\n",
    "# Load the CSV files\n",
    "xgb_df = pd.read_csv('results/xgb.csv')\n",
    "ollama_df = pd.read_csv('results/ollama.csv')"
   ]
  },
  {
   "cell_type": "code",
   "execution_count": 17,
   "id": "e2ac4ca2",
   "metadata": {},
   "outputs": [
    {
     "data": {
      "text/html": [
       "<div>\n",
       "<style scoped>\n",
       "    .dataframe tbody tr th:only-of-type {\n",
       "        vertical-align: middle;\n",
       "    }\n",
       "\n",
       "    .dataframe tbody tr th {\n",
       "        vertical-align: top;\n",
       "    }\n",
       "\n",
       "    .dataframe thead th {\n",
       "        text-align: right;\n",
       "    }\n",
       "</style>\n",
       "<table border=\"1\" class=\"dataframe\">\n",
       "  <thead>\n",
       "    <tr style=\"text-align: right;\">\n",
       "      <th></th>\n",
       "      <th>machine</th>\n",
       "      <th>CPU</th>\n",
       "      <th>GPU</th>\n",
       "      <th>python</th>\n",
       "      <th>platform</th>\n",
       "      <th>bench</th>\n",
       "      <th>dataset_rows</th>\n",
       "      <th>gpu</th>\n",
       "      <th>train_median_s</th>\n",
       "      <th>infer_median_s</th>\n",
       "      <th>auc</th>\n",
       "      <th>seed</th>\n",
       "      <th>timestamp</th>\n",
       "    </tr>\n",
       "  </thead>\n",
       "  <tbody>\n",
       "    <tr>\n",
       "      <th>0</th>\n",
       "      <td>PC_AL_2025</td>\n",
       "      <td>AMD Ryzen 5 9600X</td>\n",
       "      <td>Nvidia RTX 5060 16GB</td>\n",
       "      <td>3.13.5</td>\n",
       "      <td>Windows-11-10.0.26100-SP0</td>\n",
       "      <td>xgboost</td>\n",
       "      <td>100000</td>\n",
       "      <td>True</td>\n",
       "      <td>0.80</td>\n",
       "      <td>0.01</td>\n",
       "      <td>0.81023</td>\n",
       "      <td>42</td>\n",
       "      <td>2025-07-23T21:02:39</td>\n",
       "    </tr>\n",
       "    <tr>\n",
       "      <th>1</th>\n",
       "      <td>PC_AL_2025</td>\n",
       "      <td>AMD Ryzen 5 9600X</td>\n",
       "      <td>Nvidia RTX 5060 16GB</td>\n",
       "      <td>3.13.5</td>\n",
       "      <td>Windows-11-10.0.26100-SP0</td>\n",
       "      <td>xgboost</td>\n",
       "      <td>100000</td>\n",
       "      <td>False</td>\n",
       "      <td>0.59</td>\n",
       "      <td>0.01</td>\n",
       "      <td>0.81072</td>\n",
       "      <td>42</td>\n",
       "      <td>2025-07-23T21:02:43</td>\n",
       "    </tr>\n",
       "    <tr>\n",
       "      <th>2</th>\n",
       "      <td>PC_AL_2025</td>\n",
       "      <td>AMD Ryzen 5 9600X</td>\n",
       "      <td>Nvidia RTX 5060 16GB</td>\n",
       "      <td>3.13.5</td>\n",
       "      <td>Windows-11-10.0.26100-SP0</td>\n",
       "      <td>xgboost</td>\n",
       "      <td>1000000</td>\n",
       "      <td>True</td>\n",
       "      <td>1.60</td>\n",
       "      <td>0.01</td>\n",
       "      <td>0.82277</td>\n",
       "      <td>42</td>\n",
       "      <td>2025-07-23T21:02:54</td>\n",
       "    </tr>\n",
       "    <tr>\n",
       "      <th>3</th>\n",
       "      <td>PC_AL_2025</td>\n",
       "      <td>AMD Ryzen 5 9600X</td>\n",
       "      <td>Nvidia RTX 5060 16GB</td>\n",
       "      <td>3.13.5</td>\n",
       "      <td>Windows-11-10.0.26100-SP0</td>\n",
       "      <td>xgboost</td>\n",
       "      <td>1000000</td>\n",
       "      <td>False</td>\n",
       "      <td>3.99</td>\n",
       "      <td>0.10</td>\n",
       "      <td>0.82276</td>\n",
       "      <td>42</td>\n",
       "      <td>2025-07-23T21:03:11</td>\n",
       "    </tr>\n",
       "    <tr>\n",
       "      <th>4</th>\n",
       "      <td>PC_AL_2025</td>\n",
       "      <td>AMD Ryzen 5 9600X</td>\n",
       "      <td>Nvidia RTX 5060 16GB</td>\n",
       "      <td>3.13.5</td>\n",
       "      <td>Windows-11-10.0.26100-SP0</td>\n",
       "      <td>xgboost</td>\n",
       "      <td>full</td>\n",
       "      <td>True</td>\n",
       "      <td>9.93</td>\n",
       "      <td>0.06</td>\n",
       "      <td>0.82486</td>\n",
       "      <td>42</td>\n",
       "      <td>2025-07-23T21:04:25</td>\n",
       "    </tr>\n",
       "    <tr>\n",
       "      <th>5</th>\n",
       "      <td>PC_AL_2025</td>\n",
       "      <td>AMD Ryzen 5 9600X</td>\n",
       "      <td>Nvidia RTX 5060 16GB</td>\n",
       "      <td>3.13.5</td>\n",
       "      <td>Windows-11-10.0.26100-SP0</td>\n",
       "      <td>xgboost</td>\n",
       "      <td>full</td>\n",
       "      <td>False</td>\n",
       "      <td>50.37</td>\n",
       "      <td>1.04</td>\n",
       "      <td>0.82495</td>\n",
       "      <td>42</td>\n",
       "      <td>2025-07-23T21:07:42</td>\n",
       "    </tr>\n",
       "    <tr>\n",
       "      <th>6</th>\n",
       "      <td>PC_AL_2015</td>\n",
       "      <td>Intel i5-4690K</td>\n",
       "      <td>Nvidia GTX 1060 6GB</td>\n",
       "      <td>3.13.5</td>\n",
       "      <td>Windows-10-10.0.19045-SP0</td>\n",
       "      <td>xgboost</td>\n",
       "      <td>100000</td>\n",
       "      <td>True</td>\n",
       "      <td>1.66</td>\n",
       "      <td>0.01</td>\n",
       "      <td>0.80975</td>\n",
       "      <td>42</td>\n",
       "      <td>2025-07-23T23:13:28</td>\n",
       "    </tr>\n",
       "    <tr>\n",
       "      <th>7</th>\n",
       "      <td>PC_AL_2015</td>\n",
       "      <td>Intel i5-4690K</td>\n",
       "      <td>Nvidia GTX 1060 6GB</td>\n",
       "      <td>3.13.5</td>\n",
       "      <td>Windows-10-10.0.19045-SP0</td>\n",
       "      <td>xgboost</td>\n",
       "      <td>100000</td>\n",
       "      <td>False</td>\n",
       "      <td>1.79</td>\n",
       "      <td>0.03</td>\n",
       "      <td>0.80892</td>\n",
       "      <td>42</td>\n",
       "      <td>2025-07-23T23:13:36</td>\n",
       "    </tr>\n",
       "    <tr>\n",
       "      <th>8</th>\n",
       "      <td>PC_AL_2015</td>\n",
       "      <td>Intel i5-4690K</td>\n",
       "      <td>Nvidia GTX 1060 6GB</td>\n",
       "      <td>3.13.5</td>\n",
       "      <td>Windows-10-10.0.19045-SP0</td>\n",
       "      <td>xgboost</td>\n",
       "      <td>1000000</td>\n",
       "      <td>True</td>\n",
       "      <td>5.80</td>\n",
       "      <td>0.04</td>\n",
       "      <td>0.82262</td>\n",
       "      <td>42</td>\n",
       "      <td>2025-07-23T23:14:04</td>\n",
       "    </tr>\n",
       "    <tr>\n",
       "      <th>9</th>\n",
       "      <td>PC_AL_2015</td>\n",
       "      <td>Intel i5-4690K</td>\n",
       "      <td>Nvidia GTX 1060 6GB</td>\n",
       "      <td>3.13.5</td>\n",
       "      <td>Windows-10-10.0.19045-SP0</td>\n",
       "      <td>xgboost</td>\n",
       "      <td>1000000</td>\n",
       "      <td>False</td>\n",
       "      <td>13.69</td>\n",
       "      <td>0.32</td>\n",
       "      <td>0.82227</td>\n",
       "      <td>42</td>\n",
       "      <td>2025-07-23T23:14:57</td>\n",
       "    </tr>\n",
       "    <tr>\n",
       "      <th>10</th>\n",
       "      <td>PC_AL_2015</td>\n",
       "      <td>Intel i5-4690K</td>\n",
       "      <td>Nvidia GTX 1060 6GB</td>\n",
       "      <td>3.13.5</td>\n",
       "      <td>Windows-10-10.0.19045-SP0</td>\n",
       "      <td>xgboost</td>\n",
       "      <td>full</td>\n",
       "      <td>True</td>\n",
       "      <td>45.20</td>\n",
       "      <td>0.38</td>\n",
       "      <td>0.82495</td>\n",
       "      <td>42</td>\n",
       "      <td>2025-07-23T23:18:54</td>\n",
       "    </tr>\n",
       "    <tr>\n",
       "      <th>11</th>\n",
       "      <td>PC_AL_2015</td>\n",
       "      <td>Intel i5-4690K</td>\n",
       "      <td>Nvidia GTX 1060 6GB</td>\n",
       "      <td>3.13.5</td>\n",
       "      <td>Windows-10-10.0.19045-SP0</td>\n",
       "      <td>xgboost</td>\n",
       "      <td>full</td>\n",
       "      <td>False</td>\n",
       "      <td>147.38</td>\n",
       "      <td>3.46</td>\n",
       "      <td>0.82489</td>\n",
       "      <td>42</td>\n",
       "      <td>2025-07-23T23:28:06</td>\n",
       "    </tr>\n",
       "    <tr>\n",
       "      <th>12</th>\n",
       "      <td>Mark1</td>\n",
       "      <td>AMD Ryzen 7 9800X3D</td>\n",
       "      <td>Nvidia GTX 4080 SUPER</td>\n",
       "      <td>3.13.5</td>\n",
       "      <td>Linux-5.15.167.4-microsoft-standard-WSL2-x86_6...</td>\n",
       "      <td>xgboost</td>\n",
       "      <td>100000</td>\n",
       "      <td>True</td>\n",
       "      <td>0.88</td>\n",
       "      <td>0.01</td>\n",
       "      <td>0.81023</td>\n",
       "      <td>42</td>\n",
       "      <td>2025-07-26T12:04:36</td>\n",
       "    </tr>\n",
       "    <tr>\n",
       "      <th>13</th>\n",
       "      <td>Mark1</td>\n",
       "      <td>AMD Ryzen 7 9800X3D</td>\n",
       "      <td>Nvidia GTX 4080 SUPER</td>\n",
       "      <td>3.13.5</td>\n",
       "      <td>Linux-5.15.167.4-microsoft-standard-WSL2-x86_6...</td>\n",
       "      <td>xgboost</td>\n",
       "      <td>100000</td>\n",
       "      <td>False</td>\n",
       "      <td>1.66</td>\n",
       "      <td>0.01</td>\n",
       "      <td>0.80963</td>\n",
       "      <td>42</td>\n",
       "      <td>2025-07-26T12:04:42</td>\n",
       "    </tr>\n",
       "    <tr>\n",
       "      <th>14</th>\n",
       "      <td>Mark1</td>\n",
       "      <td>AMD Ryzen 7 9800X3D</td>\n",
       "      <td>Nvidia GTX 4080 SUPER</td>\n",
       "      <td>3.13.5</td>\n",
       "      <td>Linux-5.15.167.4-microsoft-standard-WSL2-x86_6...</td>\n",
       "      <td>xgboost</td>\n",
       "      <td>1000000</td>\n",
       "      <td>True</td>\n",
       "      <td>1.15</td>\n",
       "      <td>0.01</td>\n",
       "      <td>0.82277</td>\n",
       "      <td>42</td>\n",
       "      <td>2025-07-26T12:04:51</td>\n",
       "    </tr>\n",
       "    <tr>\n",
       "      <th>15</th>\n",
       "      <td>Mark1</td>\n",
       "      <td>AMD Ryzen 7 9800X3D</td>\n",
       "      <td>Nvidia GTX 4080 SUPER</td>\n",
       "      <td>3.13.5</td>\n",
       "      <td>Linux-5.15.167.4-microsoft-standard-WSL2-x86_6...</td>\n",
       "      <td>xgboost</td>\n",
       "      <td>1000000</td>\n",
       "      <td>False</td>\n",
       "      <td>1.67</td>\n",
       "      <td>0.06</td>\n",
       "      <td>0.82306</td>\n",
       "      <td>42</td>\n",
       "      <td>2025-07-26T12:05:03</td>\n",
       "    </tr>\n",
       "    <tr>\n",
       "      <th>16</th>\n",
       "      <td>Mark1</td>\n",
       "      <td>AMD Ryzen 7 9800X3D</td>\n",
       "      <td>Nvidia GTX 4080 SUPER</td>\n",
       "      <td>3.13.5</td>\n",
       "      <td>Linux-5.15.167.4-microsoft-standard-WSL2-x86_6...</td>\n",
       "      <td>xgboost</td>\n",
       "      <td>full</td>\n",
       "      <td>True</td>\n",
       "      <td>5.42</td>\n",
       "      <td>0.03</td>\n",
       "      <td>0.82486</td>\n",
       "      <td>42</td>\n",
       "      <td>2025-07-26T12:06:10</td>\n",
       "    </tr>\n",
       "    <tr>\n",
       "      <th>17</th>\n",
       "      <td>Mark1</td>\n",
       "      <td>AMD Ryzen 7 9800X3D</td>\n",
       "      <td>Nvidia GTX 4080 SUPER</td>\n",
       "      <td>3.13.5</td>\n",
       "      <td>Linux-5.15.167.4-microsoft-standard-WSL2-x86_6...</td>\n",
       "      <td>xgboost</td>\n",
       "      <td>full</td>\n",
       "      <td>False</td>\n",
       "      <td>31.07</td>\n",
       "      <td>0.62</td>\n",
       "      <td>0.82495</td>\n",
       "      <td>42</td>\n",
       "      <td>2025-07-26T12:08:42</td>\n",
       "    </tr>\n",
       "  </tbody>\n",
       "</table>\n",
       "</div>"
      ],
      "text/plain": [
       "       machine                  CPU                    GPU  python  \\\n",
       "0   PC_AL_2025    AMD Ryzen 5 9600X   Nvidia RTX 5060 16GB  3.13.5   \n",
       "1   PC_AL_2025    AMD Ryzen 5 9600X   Nvidia RTX 5060 16GB  3.13.5   \n",
       "2   PC_AL_2025    AMD Ryzen 5 9600X   Nvidia RTX 5060 16GB  3.13.5   \n",
       "3   PC_AL_2025    AMD Ryzen 5 9600X   Nvidia RTX 5060 16GB  3.13.5   \n",
       "4   PC_AL_2025    AMD Ryzen 5 9600X   Nvidia RTX 5060 16GB  3.13.5   \n",
       "5   PC_AL_2025    AMD Ryzen 5 9600X   Nvidia RTX 5060 16GB  3.13.5   \n",
       "6   PC_AL_2015       Intel i5-4690K    Nvidia GTX 1060 6GB  3.13.5   \n",
       "7   PC_AL_2015       Intel i5-4690K    Nvidia GTX 1060 6GB  3.13.5   \n",
       "8   PC_AL_2015       Intel i5-4690K    Nvidia GTX 1060 6GB  3.13.5   \n",
       "9   PC_AL_2015       Intel i5-4690K    Nvidia GTX 1060 6GB  3.13.5   \n",
       "10  PC_AL_2015       Intel i5-4690K    Nvidia GTX 1060 6GB  3.13.5   \n",
       "11  PC_AL_2015       Intel i5-4690K    Nvidia GTX 1060 6GB  3.13.5   \n",
       "12       Mark1  AMD Ryzen 7 9800X3D  Nvidia GTX 4080 SUPER  3.13.5   \n",
       "13       Mark1  AMD Ryzen 7 9800X3D  Nvidia GTX 4080 SUPER  3.13.5   \n",
       "14       Mark1  AMD Ryzen 7 9800X3D  Nvidia GTX 4080 SUPER  3.13.5   \n",
       "15       Mark1  AMD Ryzen 7 9800X3D  Nvidia GTX 4080 SUPER  3.13.5   \n",
       "16       Mark1  AMD Ryzen 7 9800X3D  Nvidia GTX 4080 SUPER  3.13.5   \n",
       "17       Mark1  AMD Ryzen 7 9800X3D  Nvidia GTX 4080 SUPER  3.13.5   \n",
       "\n",
       "                                             platform    bench dataset_rows  \\\n",
       "0                           Windows-11-10.0.26100-SP0  xgboost       100000   \n",
       "1                           Windows-11-10.0.26100-SP0  xgboost       100000   \n",
       "2                           Windows-11-10.0.26100-SP0  xgboost      1000000   \n",
       "3                           Windows-11-10.0.26100-SP0  xgboost      1000000   \n",
       "4                           Windows-11-10.0.26100-SP0  xgboost         full   \n",
       "5                           Windows-11-10.0.26100-SP0  xgboost         full   \n",
       "6                           Windows-10-10.0.19045-SP0  xgboost       100000   \n",
       "7                           Windows-10-10.0.19045-SP0  xgboost       100000   \n",
       "8                           Windows-10-10.0.19045-SP0  xgboost      1000000   \n",
       "9                           Windows-10-10.0.19045-SP0  xgboost      1000000   \n",
       "10                          Windows-10-10.0.19045-SP0  xgboost         full   \n",
       "11                          Windows-10-10.0.19045-SP0  xgboost         full   \n",
       "12  Linux-5.15.167.4-microsoft-standard-WSL2-x86_6...  xgboost       100000   \n",
       "13  Linux-5.15.167.4-microsoft-standard-WSL2-x86_6...  xgboost       100000   \n",
       "14  Linux-5.15.167.4-microsoft-standard-WSL2-x86_6...  xgboost      1000000   \n",
       "15  Linux-5.15.167.4-microsoft-standard-WSL2-x86_6...  xgboost      1000000   \n",
       "16  Linux-5.15.167.4-microsoft-standard-WSL2-x86_6...  xgboost         full   \n",
       "17  Linux-5.15.167.4-microsoft-standard-WSL2-x86_6...  xgboost         full   \n",
       "\n",
       "      gpu  train_median_s  infer_median_s      auc  seed            timestamp  \n",
       "0    True            0.80            0.01  0.81023    42  2025-07-23T21:02:39  \n",
       "1   False            0.59            0.01  0.81072    42  2025-07-23T21:02:43  \n",
       "2    True            1.60            0.01  0.82277    42  2025-07-23T21:02:54  \n",
       "3   False            3.99            0.10  0.82276    42  2025-07-23T21:03:11  \n",
       "4    True            9.93            0.06  0.82486    42  2025-07-23T21:04:25  \n",
       "5   False           50.37            1.04  0.82495    42  2025-07-23T21:07:42  \n",
       "6    True            1.66            0.01  0.80975    42  2025-07-23T23:13:28  \n",
       "7   False            1.79            0.03  0.80892    42  2025-07-23T23:13:36  \n",
       "8    True            5.80            0.04  0.82262    42  2025-07-23T23:14:04  \n",
       "9   False           13.69            0.32  0.82227    42  2025-07-23T23:14:57  \n",
       "10   True           45.20            0.38  0.82495    42  2025-07-23T23:18:54  \n",
       "11  False          147.38            3.46  0.82489    42  2025-07-23T23:28:06  \n",
       "12   True            0.88            0.01  0.81023    42  2025-07-26T12:04:36  \n",
       "13  False            1.66            0.01  0.80963    42  2025-07-26T12:04:42  \n",
       "14   True            1.15            0.01  0.82277    42  2025-07-26T12:04:51  \n",
       "15  False            1.67            0.06  0.82306    42  2025-07-26T12:05:03  \n",
       "16   True            5.42            0.03  0.82486    42  2025-07-26T12:06:10  \n",
       "17  False           31.07            0.62  0.82495    42  2025-07-26T12:08:42  "
      ]
     },
     "metadata": {},
     "output_type": "display_data"
    }
   ],
   "source": [
    "# Show xgb_df in a sortable, interactive table\n",
    "display(xgb_df)"
   ]
  },
  {
   "cell_type": "code",
   "execution_count": 18,
   "id": "c47207d9",
   "metadata": {},
   "outputs": [
    {
     "data": {
      "application/vnd.plotly.v1+json": {
       "config": {
        "plotlyServerURL": "https://plot.ly"
       },
       "data": [
        {
         "hovertemplate": "AMD Ryzen 5 9600X + Nvidia RTX 5060 16GB<br>%{y} righe · GPU<br>%{x:.2f} s<extra></extra>",
         "marker": {
          "color": "rgb(102, 197, 204)",
          "pattern": {
           "shape": ""
          }
         },
         "orientation": "h",
         "showlegend": false,
         "text": [
          "0.80",
          "1.60",
          "9.93"
         ],
         "textposition": "outside",
         "type": "bar",
         "x": {
          "bdata": "mpmZmZmZ6T+amZmZmZn5P1yPwvUo3CNA",
          "dtype": "f8"
         },
         "y": [
          "100.000",
          "1.000.000",
          "full"
         ]
        },
        {
         "hovertemplate": "AMD Ryzen 5 9600X + Nvidia RTX 5060 16GB<br>%{y} righe · CPU<br>%{x:.2f} s<extra></extra>",
         "marker": {
          "color": "rgb(246, 207, 113)",
          "pattern": {
           "shape": ""
          }
         },
         "orientation": "h",
         "showlegend": false,
         "text": [
          "0.59",
          "3.99",
          "50.37"
         ],
         "textposition": "outside",
         "type": "bar",
         "x": {
          "bdata": "4XoUrkfh4j/sUbgehesPQI/C9ShcL0lA",
          "dtype": "f8"
         },
         "y": [
          "100.000",
          "1.000.000",
          "full"
         ]
        },
        {
         "hovertemplate": "AMD Ryzen 7 9800X3D + Nvidia GTX 4080 SUPER<br>%{y} righe · GPU<br>%{x:.2f} s<extra></extra>",
         "marker": {
          "color": "rgb(102, 197, 204)",
          "pattern": {
           "shape": "/"
          }
         },
         "orientation": "h",
         "showlegend": false,
         "text": [
          "0.88",
          "1.15",
          "5.42"
         ],
         "textposition": "outside",
         "type": "bar",
         "x": {
          "bdata": "KVyPwvUo7D9mZmZmZmbyP65H4XoUrhVA",
          "dtype": "f8"
         },
         "y": [
          "100.000",
          "1.000.000",
          "full"
         ]
        },
        {
         "hovertemplate": "AMD Ryzen 7 9800X3D + Nvidia GTX 4080 SUPER<br>%{y} righe · CPU<br>%{x:.2f} s<extra></extra>",
         "marker": {
          "color": "rgb(246, 207, 113)",
          "pattern": {
           "shape": "/"
          }
         },
         "orientation": "h",
         "showlegend": false,
         "text": [
          "1.66",
          "1.67",
          "31.07"
         ],
         "textposition": "outside",
         "type": "bar",
         "x": {
          "bdata": "j8L1KFyP+j+4HoXrUbj6P1K4HoXrET9A",
          "dtype": "f8"
         },
         "y": [
          "100.000",
          "1.000.000",
          "full"
         ]
        },
        {
         "hovertemplate": "Intel i5-4690K + Nvidia GTX 1060 6GB<br>%{y} righe · GPU<br>%{x:.2f} s<extra></extra>",
         "marker": {
          "color": "rgb(102, 197, 204)",
          "pattern": {
           "shape": "x"
          }
         },
         "orientation": "h",
         "showlegend": false,
         "text": [
          "1.66",
          "5.80",
          "45.20"
         ],
         "textposition": "outside",
         "type": "bar",
         "x": {
          "bdata": "j8L1KFyP+j8zMzMzMzMXQJqZmZmZmUZA",
          "dtype": "f8"
         },
         "y": [
          "100.000",
          "1.000.000",
          "full"
         ]
        },
        {
         "hovertemplate": "Intel i5-4690K + Nvidia GTX 1060 6GB<br>%{y} righe · CPU<br>%{x:.2f} s<extra></extra>",
         "marker": {
          "color": "rgb(246, 207, 113)",
          "pattern": {
           "shape": "x"
          }
         },
         "orientation": "h",
         "showlegend": false,
         "text": [
          "1.79",
          "13.69",
          "147.38"
         ],
         "textposition": "outside",
         "type": "bar",
         "x": {
          "bdata": "pHA9Ctej/D/hehSuR2ErQFyPwvUobGJA",
          "dtype": "f8"
         },
         "y": [
          "100.000",
          "1.000.000",
          "full"
         ]
        }
       ],
       "layout": {
        "barmode": "group",
        "margin": {
         "r": 200
        },
        "template": {
         "data": {
          "bar": [
           {
            "error_x": {
             "color": "#2a3f5f"
            },
            "error_y": {
             "color": "#2a3f5f"
            },
            "marker": {
             "line": {
              "color": "#E5ECF6",
              "width": 0.5
             },
             "pattern": {
              "fillmode": "overlay",
              "size": 10,
              "solidity": 0.2
             }
            },
            "type": "bar"
           }
          ],
          "barpolar": [
           {
            "marker": {
             "line": {
              "color": "#E5ECF6",
              "width": 0.5
             },
             "pattern": {
              "fillmode": "overlay",
              "size": 10,
              "solidity": 0.2
             }
            },
            "type": "barpolar"
           }
          ],
          "carpet": [
           {
            "aaxis": {
             "endlinecolor": "#2a3f5f",
             "gridcolor": "white",
             "linecolor": "white",
             "minorgridcolor": "white",
             "startlinecolor": "#2a3f5f"
            },
            "baxis": {
             "endlinecolor": "#2a3f5f",
             "gridcolor": "white",
             "linecolor": "white",
             "minorgridcolor": "white",
             "startlinecolor": "#2a3f5f"
            },
            "type": "carpet"
           }
          ],
          "choropleth": [
           {
            "colorbar": {
             "outlinewidth": 0,
             "ticks": ""
            },
            "type": "choropleth"
           }
          ],
          "contour": [
           {
            "colorbar": {
             "outlinewidth": 0,
             "ticks": ""
            },
            "colorscale": [
             [
              0,
              "#0d0887"
             ],
             [
              0.1111111111111111,
              "#46039f"
             ],
             [
              0.2222222222222222,
              "#7201a8"
             ],
             [
              0.3333333333333333,
              "#9c179e"
             ],
             [
              0.4444444444444444,
              "#bd3786"
             ],
             [
              0.5555555555555556,
              "#d8576b"
             ],
             [
              0.6666666666666666,
              "#ed7953"
             ],
             [
              0.7777777777777778,
              "#fb9f3a"
             ],
             [
              0.8888888888888888,
              "#fdca26"
             ],
             [
              1,
              "#f0f921"
             ]
            ],
            "type": "contour"
           }
          ],
          "contourcarpet": [
           {
            "colorbar": {
             "outlinewidth": 0,
             "ticks": ""
            },
            "type": "contourcarpet"
           }
          ],
          "heatmap": [
           {
            "colorbar": {
             "outlinewidth": 0,
             "ticks": ""
            },
            "colorscale": [
             [
              0,
              "#0d0887"
             ],
             [
              0.1111111111111111,
              "#46039f"
             ],
             [
              0.2222222222222222,
              "#7201a8"
             ],
             [
              0.3333333333333333,
              "#9c179e"
             ],
             [
              0.4444444444444444,
              "#bd3786"
             ],
             [
              0.5555555555555556,
              "#d8576b"
             ],
             [
              0.6666666666666666,
              "#ed7953"
             ],
             [
              0.7777777777777778,
              "#fb9f3a"
             ],
             [
              0.8888888888888888,
              "#fdca26"
             ],
             [
              1,
              "#f0f921"
             ]
            ],
            "type": "heatmap"
           }
          ],
          "histogram": [
           {
            "marker": {
             "pattern": {
              "fillmode": "overlay",
              "size": 10,
              "solidity": 0.2
             }
            },
            "type": "histogram"
           }
          ],
          "histogram2d": [
           {
            "colorbar": {
             "outlinewidth": 0,
             "ticks": ""
            },
            "colorscale": [
             [
              0,
              "#0d0887"
             ],
             [
              0.1111111111111111,
              "#46039f"
             ],
             [
              0.2222222222222222,
              "#7201a8"
             ],
             [
              0.3333333333333333,
              "#9c179e"
             ],
             [
              0.4444444444444444,
              "#bd3786"
             ],
             [
              0.5555555555555556,
              "#d8576b"
             ],
             [
              0.6666666666666666,
              "#ed7953"
             ],
             [
              0.7777777777777778,
              "#fb9f3a"
             ],
             [
              0.8888888888888888,
              "#fdca26"
             ],
             [
              1,
              "#f0f921"
             ]
            ],
            "type": "histogram2d"
           }
          ],
          "histogram2dcontour": [
           {
            "colorbar": {
             "outlinewidth": 0,
             "ticks": ""
            },
            "colorscale": [
             [
              0,
              "#0d0887"
             ],
             [
              0.1111111111111111,
              "#46039f"
             ],
             [
              0.2222222222222222,
              "#7201a8"
             ],
             [
              0.3333333333333333,
              "#9c179e"
             ],
             [
              0.4444444444444444,
              "#bd3786"
             ],
             [
              0.5555555555555556,
              "#d8576b"
             ],
             [
              0.6666666666666666,
              "#ed7953"
             ],
             [
              0.7777777777777778,
              "#fb9f3a"
             ],
             [
              0.8888888888888888,
              "#fdca26"
             ],
             [
              1,
              "#f0f921"
             ]
            ],
            "type": "histogram2dcontour"
           }
          ],
          "mesh3d": [
           {
            "colorbar": {
             "outlinewidth": 0,
             "ticks": ""
            },
            "type": "mesh3d"
           }
          ],
          "parcoords": [
           {
            "line": {
             "colorbar": {
              "outlinewidth": 0,
              "ticks": ""
             }
            },
            "type": "parcoords"
           }
          ],
          "pie": [
           {
            "automargin": true,
            "type": "pie"
           }
          ],
          "scatter": [
           {
            "fillpattern": {
             "fillmode": "overlay",
             "size": 10,
             "solidity": 0.2
            },
            "type": "scatter"
           }
          ],
          "scatter3d": [
           {
            "line": {
             "colorbar": {
              "outlinewidth": 0,
              "ticks": ""
             }
            },
            "marker": {
             "colorbar": {
              "outlinewidth": 0,
              "ticks": ""
             }
            },
            "type": "scatter3d"
           }
          ],
          "scattercarpet": [
           {
            "marker": {
             "colorbar": {
              "outlinewidth": 0,
              "ticks": ""
             }
            },
            "type": "scattercarpet"
           }
          ],
          "scattergeo": [
           {
            "marker": {
             "colorbar": {
              "outlinewidth": 0,
              "ticks": ""
             }
            },
            "type": "scattergeo"
           }
          ],
          "scattergl": [
           {
            "marker": {
             "colorbar": {
              "outlinewidth": 0,
              "ticks": ""
             }
            },
            "type": "scattergl"
           }
          ],
          "scattermap": [
           {
            "marker": {
             "colorbar": {
              "outlinewidth": 0,
              "ticks": ""
             }
            },
            "type": "scattermap"
           }
          ],
          "scattermapbox": [
           {
            "marker": {
             "colorbar": {
              "outlinewidth": 0,
              "ticks": ""
             }
            },
            "type": "scattermapbox"
           }
          ],
          "scatterpolar": [
           {
            "marker": {
             "colorbar": {
              "outlinewidth": 0,
              "ticks": ""
             }
            },
            "type": "scatterpolar"
           }
          ],
          "scatterpolargl": [
           {
            "marker": {
             "colorbar": {
              "outlinewidth": 0,
              "ticks": ""
             }
            },
            "type": "scatterpolargl"
           }
          ],
          "scatterternary": [
           {
            "marker": {
             "colorbar": {
              "outlinewidth": 0,
              "ticks": ""
             }
            },
            "type": "scatterternary"
           }
          ],
          "surface": [
           {
            "colorbar": {
             "outlinewidth": 0,
             "ticks": ""
            },
            "colorscale": [
             [
              0,
              "#0d0887"
             ],
             [
              0.1111111111111111,
              "#46039f"
             ],
             [
              0.2222222222222222,
              "#7201a8"
             ],
             [
              0.3333333333333333,
              "#9c179e"
             ],
             [
              0.4444444444444444,
              "#bd3786"
             ],
             [
              0.5555555555555556,
              "#d8576b"
             ],
             [
              0.6666666666666666,
              "#ed7953"
             ],
             [
              0.7777777777777778,
              "#fb9f3a"
             ],
             [
              0.8888888888888888,
              "#fdca26"
             ],
             [
              1,
              "#f0f921"
             ]
            ],
            "type": "surface"
           }
          ],
          "table": [
           {
            "cells": {
             "fill": {
              "color": "#EBF0F8"
             },
             "line": {
              "color": "white"
             }
            },
            "header": {
             "fill": {
              "color": "#C8D4E3"
             },
             "line": {
              "color": "white"
             }
            },
            "type": "table"
           }
          ]
         },
         "layout": {
          "annotationdefaults": {
           "arrowcolor": "#2a3f5f",
           "arrowhead": 0,
           "arrowwidth": 1
          },
          "autotypenumbers": "strict",
          "coloraxis": {
           "colorbar": {
            "outlinewidth": 0,
            "ticks": ""
           }
          },
          "colorscale": {
           "diverging": [
            [
             0,
             "#8e0152"
            ],
            [
             0.1,
             "#c51b7d"
            ],
            [
             0.2,
             "#de77ae"
            ],
            [
             0.3,
             "#f1b6da"
            ],
            [
             0.4,
             "#fde0ef"
            ],
            [
             0.5,
             "#f7f7f7"
            ],
            [
             0.6,
             "#e6f5d0"
            ],
            [
             0.7,
             "#b8e186"
            ],
            [
             0.8,
             "#7fbc41"
            ],
            [
             0.9,
             "#4d9221"
            ],
            [
             1,
             "#276419"
            ]
           ],
           "sequential": [
            [
             0,
             "#0d0887"
            ],
            [
             0.1111111111111111,
             "#46039f"
            ],
            [
             0.2222222222222222,
             "#7201a8"
            ],
            [
             0.3333333333333333,
             "#9c179e"
            ],
            [
             0.4444444444444444,
             "#bd3786"
            ],
            [
             0.5555555555555556,
             "#d8576b"
            ],
            [
             0.6666666666666666,
             "#ed7953"
            ],
            [
             0.7777777777777778,
             "#fb9f3a"
            ],
            [
             0.8888888888888888,
             "#fdca26"
            ],
            [
             1,
             "#f0f921"
            ]
           ],
           "sequentialminus": [
            [
             0,
             "#0d0887"
            ],
            [
             0.1111111111111111,
             "#46039f"
            ],
            [
             0.2222222222222222,
             "#7201a8"
            ],
            [
             0.3333333333333333,
             "#9c179e"
            ],
            [
             0.4444444444444444,
             "#bd3786"
            ],
            [
             0.5555555555555556,
             "#d8576b"
            ],
            [
             0.6666666666666666,
             "#ed7953"
            ],
            [
             0.7777777777777778,
             "#fb9f3a"
            ],
            [
             0.8888888888888888,
             "#fdca26"
            ],
            [
             1,
             "#f0f921"
            ]
           ]
          },
          "colorway": [
           "#636efa",
           "#EF553B",
           "#00cc96",
           "#ab63fa",
           "#FFA15A",
           "#19d3f3",
           "#FF6692",
           "#B6E880",
           "#FF97FF",
           "#FECB52"
          ],
          "font": {
           "color": "#2a3f5f"
          },
          "geo": {
           "bgcolor": "white",
           "lakecolor": "white",
           "landcolor": "#E5ECF6",
           "showlakes": true,
           "showland": true,
           "subunitcolor": "white"
          },
          "hoverlabel": {
           "align": "left"
          },
          "hovermode": "closest",
          "mapbox": {
           "style": "light"
          },
          "paper_bgcolor": "white",
          "plot_bgcolor": "#E5ECF6",
          "polar": {
           "angularaxis": {
            "gridcolor": "white",
            "linecolor": "white",
            "ticks": ""
           },
           "bgcolor": "#E5ECF6",
           "radialaxis": {
            "gridcolor": "white",
            "linecolor": "white",
            "ticks": ""
           }
          },
          "scene": {
           "xaxis": {
            "backgroundcolor": "#E5ECF6",
            "gridcolor": "white",
            "gridwidth": 2,
            "linecolor": "white",
            "showbackground": true,
            "ticks": "",
            "zerolinecolor": "white"
           },
           "yaxis": {
            "backgroundcolor": "#E5ECF6",
            "gridcolor": "white",
            "gridwidth": 2,
            "linecolor": "white",
            "showbackground": true,
            "ticks": "",
            "zerolinecolor": "white"
           },
           "zaxis": {
            "backgroundcolor": "#E5ECF6",
            "gridcolor": "white",
            "gridwidth": 2,
            "linecolor": "white",
            "showbackground": true,
            "ticks": "",
            "zerolinecolor": "white"
           }
          },
          "shapedefaults": {
           "line": {
            "color": "#2a3f5f"
           }
          },
          "ternary": {
           "aaxis": {
            "gridcolor": "white",
            "linecolor": "white",
            "ticks": ""
           },
           "baxis": {
            "gridcolor": "white",
            "linecolor": "white",
            "ticks": ""
           },
           "bgcolor": "#E5ECF6",
           "caxis": {
            "gridcolor": "white",
            "linecolor": "white",
            "ticks": ""
           }
          },
          "title": {
           "x": 0.05
          },
          "xaxis": {
           "automargin": true,
           "gridcolor": "white",
           "linecolor": "white",
           "ticks": "",
           "title": {
            "standoff": 15
           },
           "zerolinecolor": "white",
           "zerolinewidth": 2
          },
          "yaxis": {
           "automargin": true,
           "gridcolor": "white",
           "linecolor": "white",
           "ticks": "",
           "title": {
            "standoff": 15
           },
           "zerolinecolor": "white",
           "zerolinewidth": 2
          }
         }
        },
        "title": {
         "text": "Tempo di training – tutte le accelerazioni e macchine"
        },
        "updatemenus": [
         {
          "bgcolor": "white",
          "bordercolor": "lightgray",
          "buttons": [
           {
            "args": [
             {
              "visible": [
               true,
               true,
               true,
               true,
               true,
               true
              ]
             },
             {
              "title": "Tempo di training – tutte le accelerazioni"
             }
            ],
            "label": "Tutte le accelerazioni",
            "method": "update"
           },
           {
            "args": [
             {
              "visible": [
               true,
               false,
               true,
               false,
               true,
               false
              ]
             },
             {
              "title": "Tempo di training – solo GPU"
             }
            ],
            "label": "Solo GPU",
            "method": "update"
           },
           {
            "args": [
             {
              "visible": [
               false,
               true,
               false,
               true,
               false,
               true
              ]
             },
             {
              "title": "Tempo di training – solo CPU"
             }
            ],
            "label": "Solo CPU",
            "method": "update"
           }
          ],
          "direction": "down",
          "showactive": true,
          "x": 1.02,
          "xanchor": "left",
          "y": 1,
          "yanchor": "top"
         },
         {
          "bgcolor": "white",
          "bordercolor": "lightgray",
          "buttons": [
           {
            "args": [
             {
              "visible": [
               true,
               true,
               true,
               true,
               true,
               true
              ]
             },
             {
              "title": "Tempo di training – tutte le macchine"
             }
            ],
            "label": "Tutte le macchine",
            "method": "update"
           },
           {
            "args": [
             {
              "visible": [
               true,
               true,
               false,
               false,
               false,
               false
              ]
             },
             {
              "title": "Tempo di training – AMD Ryzen 5 9600X + Nvidia RTX 5060 16GB"
             }
            ],
            "label": "AMD Ryzen 5 9600X + Nvidia RTX 5060 16GB",
            "method": "update"
           },
           {
            "args": [
             {
              "visible": [
               false,
               false,
               true,
               true,
               false,
               false
              ]
             },
             {
              "title": "Tempo di training – AMD Ryzen 7 9800X3D + Nvidia GTX 4080 SUPER"
             }
            ],
            "label": "AMD Ryzen 7 9800X3D + Nvidia GTX 4080 SUPER",
            "method": "update"
           },
           {
            "args": [
             {
              "visible": [
               false,
               false,
               false,
               false,
               true,
               true
              ]
             },
             {
              "title": "Tempo di training – Intel i5-4690K + Nvidia GTX 1060 6GB"
             }
            ],
            "label": "Intel i5-4690K + Nvidia GTX 1060 6GB",
            "method": "update"
           }
          ],
          "direction": "down",
          "showactive": true,
          "x": 1.02,
          "xanchor": "left",
          "y": 0.8,
          "yanchor": "top"
         }
        ],
        "xaxis": {
         "title": {
          "text": "Train time [s]"
         }
        },
        "yaxis": {
         "categoryarray": [
          "100.000",
          "1.000.000",
          "full"
         ],
         "categoryorder": "array",
         "title": {
          "text": "Numero di righe del dataset"
         }
        }
       }
      }
     },
     "metadata": {},
     "output_type": "display_data"
    }
   ],
   "source": [
    "# Build machine label dynamically (CPU + GPU)\n",
    "xgb_df[\"machine_label\"] = xgb_df[\"CPU\"] + \" + \" + xgb_df[\"GPU\"]\n",
    "\n",
    "# Acceleration label\n",
    "xgb_df[\"acc_label\"] = xgb_df[\"gpu\"].astype(str).replace({\"True\": \"GPU\", \"False\": \"CPU\"})\n",
    "\n",
    "# ------------------ Build dynamic and formatted dataset_rows labels -------------\n",
    "def format_thousands(s: str) -> str:\n",
    "    n = int(s)\n",
    "    # thousands separator '.'\n",
    "    return f\"{n:,}\".replace(\",\", \".\")\n",
    "\n",
    "unique_rows = xgb_df[\"dataset_rows\"].astype(str).unique()\n",
    "\n",
    "numeric_vals = sorted([int(v) for v in unique_rows if re.fullmatch(r\"\\d+\", v)])\n",
    "labels_formatted = [format_thousands(str(v)) for v in numeric_vals]\n",
    "\n",
    "# ensure 'full' appears last\n",
    "if \"full\" in unique_rows:\n",
    "    labels_formatted.append(\"full\")\n",
    "\n",
    "# Map original rows to formatted label\n",
    "mapping_label = {str(v): format_thousands(str(v)) for v in numeric_vals}\n",
    "mapping_label[\"full\"] = \"full\"\n",
    "\n",
    "xgb_df[\"rows_label\"] = xgb_df[\"dataset_rows\"].astype(str).map(mapping_label)\n",
    "\n",
    "# Make categorical for ordering (ascending numeric then 'full')\n",
    "xgb_df[\"rows_label\"] = pd.Categorical(xgb_df[\"rows_label\"], categories=labels_formatted, ordered=True)\n",
    "\n",
    "# ------------------ Machine-related dynamic parts ------------------\n",
    "machine_labels = sorted(xgb_df[\"machine_label\"].unique())\n",
    "\n",
    "# pattern shapes cycled\n",
    "patterns_cycle = [\"\", \"/\", \"x\", \"\\\\\", \"-\", \"|\", \"+\", \".\"]\n",
    "pattern_map = {machine: patterns_cycle[i % len(patterns_cycle)]\n",
    "               for i, machine in enumerate(machine_labels)}\n",
    "\n",
    "# Color map for acceleration\n",
    "color_map = {\"GPU\": px.colors.qualitative.Pastel[0],\n",
    "             \"CPU\": px.colors.qualitative.Pastel[1]}\n",
    "\n",
    "# ------------------ Build traces ------------------\n",
    "traces = []\n",
    "meta = []  # store metadata per trace\n",
    "\n",
    "for machine in machine_labels:\n",
    "    for acc in [\"GPU\", \"CPU\"]:\n",
    "        subset = xgb_df[(xgb_df[\"machine_label\"] == machine) & (xgb_df[\"acc_label\"] == acc)]\n",
    "        if subset.empty:\n",
    "            continue\n",
    "        traces.append(\n",
    "            go.Bar(\n",
    "                y=subset[\"rows_label\"],\n",
    "                x=subset[\"train_median_s\"],\n",
    "                orientation=\"h\",\n",
    "                showlegend=False,\n",
    "                marker=dict(color=color_map[acc], pattern=dict(shape=pattern_map[machine])),\n",
    "                text=[f\"{t:.2f}\" for t in subset[\"train_median_s\"]],\n",
    "                textposition=\"outside\",\n",
    "                hovertemplate=(\n",
    "                    f\"{machine}<br>%{{y}} righe · {acc}<br>%{{x:.2f}} s\"\n",
    "                    \"<extra></extra>\"\n",
    "                ),\n",
    "            )\n",
    "        )\n",
    "        meta.append({\"machine\": machine, \"acc\": acc})\n",
    "\n",
    "fig = go.Figure(data=traces)\n",
    "\n",
    "# ------------------ Visibility masks ------------------\n",
    "n = len(traces)\n",
    "vis_all = [True]*n\n",
    "vis_gpu_only = [m[\"acc\"] == \"GPU\" for m in meta]\n",
    "vis_cpu_only = [m[\"acc\"] == \"CPU\" for m in meta]\n",
    "\n",
    "machine_vis_dict = {machine: [m[\"machine\"] == machine for m in meta]\n",
    "                    for machine in machine_labels}\n",
    "\n",
    "# ------------------ Dropdowns ------------------\n",
    "dropdown_acc = dict(\n",
    "    buttons=[\n",
    "        dict(label=\"Tutte le accelerazioni\", method=\"update\",\n",
    "             args=[{\"visible\": vis_all},\n",
    "                   {\"title\": \"Tempo di training – tutte le accelerazioni\"}]),\n",
    "        dict(label=\"Solo GPU\", method=\"update\",\n",
    "             args=[{\"visible\": vis_gpu_only},\n",
    "                   {\"title\": \"Tempo di training – solo GPU\"}]),\n",
    "        dict(label=\"Solo CPU\", method=\"update\",\n",
    "             args=[{\"visible\": vis_cpu_only},\n",
    "                   {\"title\": \"Tempo di training – solo CPU\"}]),\n",
    "    ],\n",
    "    direction=\"down\",\n",
    "    x=1.02,\n",
    "    y=1,\n",
    "    xanchor=\"left\",\n",
    "    yanchor=\"top\",\n",
    "    showactive=True,\n",
    "    bgcolor=\"white\",\n",
    "    bordercolor=\"lightgray\"\n",
    ")\n",
    "\n",
    "machine_buttons = [\n",
    "    dict(label=\"Tutte le macchine\", method=\"update\",\n",
    "         args=[{\"visible\": vis_all},\n",
    "               {\"title\": \"Tempo di training – tutte le macchine\"}])\n",
    "]\n",
    "for machine in machine_labels:\n",
    "    machine_buttons.append(\n",
    "        dict(label=machine, method=\"update\",\n",
    "             args=[{\"visible\": machine_vis_dict[machine]},\n",
    "                   {\"title\": f\"Tempo di training – {machine}\"}])\n",
    "    )\n",
    "\n",
    "dropdown_machine = dict(\n",
    "    buttons=machine_buttons,\n",
    "    direction=\"down\",\n",
    "    x=1.02,\n",
    "    y=0.8,\n",
    "    xanchor=\"left\",\n",
    "    yanchor=\"top\",\n",
    "    showactive=True,\n",
    "    bgcolor=\"white\",\n",
    "    bordercolor=\"lightgray\"\n",
    ")\n",
    "\n",
    "# ------------------ Layout updates ------------------\n",
    "fig.update_layout(\n",
    "    barmode=\"group\",\n",
    "    title=\"Tempo di training – tutte le accelerazioni e macchine\",\n",
    "    xaxis_title=\"Train time [s]\",\n",
    "    yaxis_title=\"Numero di righe del dataset\",\n",
    "    updatemenus=[dropdown_acc, dropdown_machine],\n",
    "    margin=dict(r=200)  # space for menus\n",
    ")\n",
    "\n",
    "fig.update_yaxes(categoryorder='array', categoryarray=labels_formatted)\n",
    "\n",
    "fig.show()"
   ]
  },
  {
   "cell_type": "code",
   "execution_count": 19,
   "id": "c7f6ed91",
   "metadata": {},
   "outputs": [
    {
     "data": {
      "text/html": [
       "<div>\n",
       "<style scoped>\n",
       "    .dataframe tbody tr th:only-of-type {\n",
       "        vertical-align: middle;\n",
       "    }\n",
       "\n",
       "    .dataframe tbody tr th {\n",
       "        vertical-align: top;\n",
       "    }\n",
       "\n",
       "    .dataframe thead th {\n",
       "        text-align: right;\n",
       "    }\n",
       "</style>\n",
       "<table border=\"1\" class=\"dataframe\">\n",
       "  <thead>\n",
       "    <tr style=\"text-align: right;\">\n",
       "      <th></th>\n",
       "      <th>machine</th>\n",
       "      <th>CPU</th>\n",
       "      <th>GPU</th>\n",
       "      <th>python</th>\n",
       "      <th>platform</th>\n",
       "      <th>bench</th>\n",
       "      <th>model</th>\n",
       "      <th>gpu</th>\n",
       "      <th>wall_min_s</th>\n",
       "      <th>wall_med_s</th>\n",
       "      <th>wall_max_s</th>\n",
       "      <th>tok_min_s</th>\n",
       "      <th>tok_med_s</th>\n",
       "      <th>tok_max_s</th>\n",
       "      <th>seed</th>\n",
       "      <th>timestamp</th>\n",
       "    </tr>\n",
       "  </thead>\n",
       "  <tbody>\n",
       "    <tr>\n",
       "      <th>0</th>\n",
       "      <td>PC_AL_2025</td>\n",
       "      <td>AMD Ryzen 5 9600X</td>\n",
       "      <td>Nvidia RTX 5060 16GB</td>\n",
       "      <td>3.13.5</td>\n",
       "      <td>Windows-11-10.0.26100-SP0</td>\n",
       "      <td>ollama</td>\n",
       "      <td>phi3:3.8b</td>\n",
       "      <td>True</td>\n",
       "      <td>6.37</td>\n",
       "      <td>6.45</td>\n",
       "      <td>14.81</td>\n",
       "      <td>133.99</td>\n",
       "      <td>136.25</td>\n",
       "      <td>136.62</td>\n",
       "      <td>42</td>\n",
       "      <td>2025-07-23T21:08:10</td>\n",
       "    </tr>\n",
       "    <tr>\n",
       "      <th>1</th>\n",
       "      <td>PC_AL_2025</td>\n",
       "      <td>AMD Ryzen 5 9600X</td>\n",
       "      <td>Nvidia RTX 5060 16GB</td>\n",
       "      <td>3.13.5</td>\n",
       "      <td>Windows-11-10.0.26100-SP0</td>\n",
       "      <td>ollama</td>\n",
       "      <td>phi3:3.8b</td>\n",
       "      <td>False</td>\n",
       "      <td>31.59</td>\n",
       "      <td>34.68</td>\n",
       "      <td>34.70</td>\n",
       "      <td>21.43</td>\n",
       "      <td>21.44</td>\n",
       "      <td>21.55</td>\n",
       "      <td>42</td>\n",
       "      <td>2025-07-23T21:09:52</td>\n",
       "    </tr>\n",
       "    <tr>\n",
       "      <th>2</th>\n",
       "      <td>PC_AL_2025</td>\n",
       "      <td>AMD Ryzen 5 9600X</td>\n",
       "      <td>Nvidia RTX 5060 16GB</td>\n",
       "      <td>3.13.5</td>\n",
       "      <td>Windows-11-10.0.26100-SP0</td>\n",
       "      <td>ollama</td>\n",
       "      <td>qwen3:4b</td>\n",
       "      <td>True</td>\n",
       "      <td>13.93</td>\n",
       "      <td>14.19</td>\n",
       "      <td>19.01</td>\n",
       "      <td>105.24</td>\n",
       "      <td>106.41</td>\n",
       "      <td>107.55</td>\n",
       "      <td>42</td>\n",
       "      <td>2025-07-23T21:10:39</td>\n",
       "    </tr>\n",
       "    <tr>\n",
       "      <th>3</th>\n",
       "      <td>PC_AL_2025</td>\n",
       "      <td>AMD Ryzen 5 9600X</td>\n",
       "      <td>Nvidia RTX 5060 16GB</td>\n",
       "      <td>3.13.5</td>\n",
       "      <td>Windows-11-10.0.26100-SP0</td>\n",
       "      <td>ollama</td>\n",
       "      <td>qwen3:4b</td>\n",
       "      <td>False</td>\n",
       "      <td>92.86</td>\n",
       "      <td>92.92</td>\n",
       "      <td>142.73</td>\n",
       "      <td>12.89</td>\n",
       "      <td>13.18</td>\n",
       "      <td>13.19</td>\n",
       "      <td>42</td>\n",
       "      <td>2025-07-23T21:16:08</td>\n",
       "    </tr>\n",
       "    <tr>\n",
       "      <th>4</th>\n",
       "      <td>PC_AL_2025</td>\n",
       "      <td>AMD Ryzen 5 9600X</td>\n",
       "      <td>Nvidia RTX 5060 16GB</td>\n",
       "      <td>3.13.5</td>\n",
       "      <td>Windows-11-10.0.26100-SP0</td>\n",
       "      <td>ollama</td>\n",
       "      <td>qwen3:14b</td>\n",
       "      <td>True</td>\n",
       "      <td>26.28</td>\n",
       "      <td>26.34</td>\n",
       "      <td>29.25</td>\n",
       "      <td>40.56</td>\n",
       "      <td>40.74</td>\n",
       "      <td>40.75</td>\n",
       "      <td>42</td>\n",
       "      <td>2025-07-23T21:17:30</td>\n",
       "    </tr>\n",
       "    <tr>\n",
       "      <th>5</th>\n",
       "      <td>PC_AL_2025</td>\n",
       "      <td>AMD Ryzen 5 9600X</td>\n",
       "      <td>Nvidia RTX 5060 16GB</td>\n",
       "      <td>3.13.5</td>\n",
       "      <td>Windows-11-10.0.26100-SP0</td>\n",
       "      <td>ollama</td>\n",
       "      <td>qwen3:14b</td>\n",
       "      <td>False</td>\n",
       "      <td>232.64</td>\n",
       "      <td>232.64</td>\n",
       "      <td>258.10</td>\n",
       "      <td>4.85</td>\n",
       "      <td>4.85</td>\n",
       "      <td>4.85</td>\n",
       "      <td>42</td>\n",
       "      <td>2025-07-23T21:29:34</td>\n",
       "    </tr>\n",
       "    <tr>\n",
       "      <th>6</th>\n",
       "      <td>PC_AL_2025</td>\n",
       "      <td>AMD Ryzen 5 9600X</td>\n",
       "      <td>Nvidia RTX 5060 16GB</td>\n",
       "      <td>3.13.5</td>\n",
       "      <td>Windows-11-10.0.26100-SP0</td>\n",
       "      <td>ollama</td>\n",
       "      <td>gemma3:4b</td>\n",
       "      <td>True</td>\n",
       "      <td>5.55</td>\n",
       "      <td>5.55</td>\n",
       "      <td>7.44</td>\n",
       "      <td>108.46</td>\n",
       "      <td>109.05</td>\n",
       "      <td>109.22</td>\n",
       "      <td>42</td>\n",
       "      <td>2025-07-23T21:29:53</td>\n",
       "    </tr>\n",
       "    <tr>\n",
       "      <th>7</th>\n",
       "      <td>PC_AL_2025</td>\n",
       "      <td>AMD Ryzen 5 9600X</td>\n",
       "      <td>Nvidia RTX 5060 16GB</td>\n",
       "      <td>3.13.5</td>\n",
       "      <td>Windows-11-10.0.26100-SP0</td>\n",
       "      <td>ollama</td>\n",
       "      <td>gemma3:4b</td>\n",
       "      <td>False</td>\n",
       "      <td>26.23</td>\n",
       "      <td>27.92</td>\n",
       "      <td>28.35</td>\n",
       "      <td>18.41</td>\n",
       "      <td>18.60</td>\n",
       "      <td>18.74</td>\n",
       "      <td>42</td>\n",
       "      <td>2025-07-23T21:31:16</td>\n",
       "    </tr>\n",
       "    <tr>\n",
       "      <th>8</th>\n",
       "      <td>PC_AL_2025</td>\n",
       "      <td>AMD Ryzen 5 9600X</td>\n",
       "      <td>Nvidia RTX 5060 16GB</td>\n",
       "      <td>3.13.5</td>\n",
       "      <td>Windows-11-10.0.26100-SP0</td>\n",
       "      <td>ollama</td>\n",
       "      <td>gemma3:12b</td>\n",
       "      <td>True</td>\n",
       "      <td>11.89</td>\n",
       "      <td>11.91</td>\n",
       "      <td>13.64</td>\n",
       "      <td>44.15</td>\n",
       "      <td>44.31</td>\n",
       "      <td>44.51</td>\n",
       "      <td>42</td>\n",
       "      <td>2025-07-23T21:31:54</td>\n",
       "    </tr>\n",
       "    <tr>\n",
       "      <th>9</th>\n",
       "      <td>PC_AL_2025</td>\n",
       "      <td>AMD Ryzen 5 9600X</td>\n",
       "      <td>Nvidia RTX 5060 16GB</td>\n",
       "      <td>3.13.5</td>\n",
       "      <td>Windows-11-10.0.26100-SP0</td>\n",
       "      <td>ollama</td>\n",
       "      <td>gemma3:12b</td>\n",
       "      <td>False</td>\n",
       "      <td>63.53</td>\n",
       "      <td>64.72</td>\n",
       "      <td>66.10</td>\n",
       "      <td>6.63</td>\n",
       "      <td>6.75</td>\n",
       "      <td>6.76</td>\n",
       "      <td>42</td>\n",
       "      <td>2025-07-23T21:35:09</td>\n",
       "    </tr>\n",
       "    <tr>\n",
       "      <th>10</th>\n",
       "      <td>PC_AL_2025</td>\n",
       "      <td>AMD Ryzen 5 9600X</td>\n",
       "      <td>Nvidia RTX 5060 16GB</td>\n",
       "      <td>3.13.5</td>\n",
       "      <td>Windows-11-10.0.26100-SP0</td>\n",
       "      <td>ollama</td>\n",
       "      <td>gemma3n:e2b</td>\n",
       "      <td>True</td>\n",
       "      <td>6.29</td>\n",
       "      <td>6.31</td>\n",
       "      <td>9.13</td>\n",
       "      <td>48.85</td>\n",
       "      <td>49.05</td>\n",
       "      <td>49.06</td>\n",
       "      <td>42</td>\n",
       "      <td>2025-07-23T21:35:31</td>\n",
       "    </tr>\n",
       "    <tr>\n",
       "      <th>11</th>\n",
       "      <td>PC_AL_2025</td>\n",
       "      <td>AMD Ryzen 5 9600X</td>\n",
       "      <td>Nvidia RTX 5060 16GB</td>\n",
       "      <td>3.13.5</td>\n",
       "      <td>Windows-11-10.0.26100-SP0</td>\n",
       "      <td>ollama</td>\n",
       "      <td>gemma3n:e2b</td>\n",
       "      <td>False</td>\n",
       "      <td>11.77</td>\n",
       "      <td>11.77</td>\n",
       "      <td>13.48</td>\n",
       "      <td>27.46</td>\n",
       "      <td>27.65</td>\n",
       "      <td>27.67</td>\n",
       "      <td>42</td>\n",
       "      <td>2025-07-23T21:36:08</td>\n",
       "    </tr>\n",
       "    <tr>\n",
       "      <th>12</th>\n",
       "      <td>PC_AL_2025</td>\n",
       "      <td>AMD Ryzen 5 9600X</td>\n",
       "      <td>Nvidia RTX 5060 16GB</td>\n",
       "      <td>3.13.5</td>\n",
       "      <td>Windows-11-10.0.26100-SP0</td>\n",
       "      <td>ollama</td>\n",
       "      <td>deepseek-r1:8b</td>\n",
       "      <td>True</td>\n",
       "      <td>19.29</td>\n",
       "      <td>20.58</td>\n",
       "      <td>20.58</td>\n",
       "      <td>67.25</td>\n",
       "      <td>67.28</td>\n",
       "      <td>67.45</td>\n",
       "      <td>42</td>\n",
       "      <td>2025-07-23T21:37:09</td>\n",
       "    </tr>\n",
       "    <tr>\n",
       "      <th>13</th>\n",
       "      <td>PC_AL_2025</td>\n",
       "      <td>AMD Ryzen 5 9600X</td>\n",
       "      <td>Nvidia RTX 5060 16GB</td>\n",
       "      <td>3.13.5</td>\n",
       "      <td>Windows-11-10.0.26100-SP0</td>\n",
       "      <td>ollama</td>\n",
       "      <td>deepseek-r1:8b</td>\n",
       "      <td>False</td>\n",
       "      <td>111.03</td>\n",
       "      <td>111.16</td>\n",
       "      <td>161.64</td>\n",
       "      <td>8.36</td>\n",
       "      <td>8.57</td>\n",
       "      <td>8.58</td>\n",
       "      <td>42</td>\n",
       "      <td>2025-07-23T21:43:33</td>\n",
       "    </tr>\n",
       "    <tr>\n",
       "      <th>14</th>\n",
       "      <td>PC_AL_2025</td>\n",
       "      <td>AMD Ryzen 5 9600X</td>\n",
       "      <td>Nvidia RTX 5060 16GB</td>\n",
       "      <td>3.13.5</td>\n",
       "      <td>Windows-11-10.0.26100-SP0</td>\n",
       "      <td>ollama</td>\n",
       "      <td>deepseek-r1:14b</td>\n",
       "      <td>True</td>\n",
       "      <td>15.93</td>\n",
       "      <td>16.02</td>\n",
       "      <td>23.60</td>\n",
       "      <td>39.58</td>\n",
       "      <td>39.83</td>\n",
       "      <td>39.86</td>\n",
       "      <td>42</td>\n",
       "      <td>2025-07-23T21:44:29</td>\n",
       "    </tr>\n",
       "    <tr>\n",
       "      <th>15</th>\n",
       "      <td>PC_AL_2025</td>\n",
       "      <td>AMD Ryzen 5 9600X</td>\n",
       "      <td>Nvidia RTX 5060 16GB</td>\n",
       "      <td>3.13.5</td>\n",
       "      <td>Windows-11-10.0.26100-SP0</td>\n",
       "      <td>ollama</td>\n",
       "      <td>deepseek-r1:14b</td>\n",
       "      <td>False</td>\n",
       "      <td>94.89</td>\n",
       "      <td>94.93</td>\n",
       "      <td>128.77</td>\n",
       "      <td>5.86</td>\n",
       "      <td>5.89</td>\n",
       "      <td>5.89</td>\n",
       "      <td>42</td>\n",
       "      <td>2025-07-23T21:49:48</td>\n",
       "    </tr>\n",
       "    <tr>\n",
       "      <th>16</th>\n",
       "      <td>PC_AL_2015</td>\n",
       "      <td>Intel i5-4690K</td>\n",
       "      <td>Nvidia GTX 1060 6GB</td>\n",
       "      <td>3.13.5</td>\n",
       "      <td>Windows-10-10.0.19045-SP0</td>\n",
       "      <td>ollama</td>\n",
       "      <td>phi3:3.8b</td>\n",
       "      <td>True</td>\n",
       "      <td>16.83</td>\n",
       "      <td>16.85</td>\n",
       "      <td>25.75</td>\n",
       "      <td>37.95</td>\n",
       "      <td>38.54</td>\n",
       "      <td>38.69</td>\n",
       "      <td>42</td>\n",
       "      <td>2025-07-24T06:55:41</td>\n",
       "    </tr>\n",
       "    <tr>\n",
       "      <th>17</th>\n",
       "      <td>PC_AL_2015</td>\n",
       "      <td>Intel i5-4690K</td>\n",
       "      <td>Nvidia GTX 1060 6GB</td>\n",
       "      <td>3.13.5</td>\n",
       "      <td>Windows-10-10.0.19045-SP0</td>\n",
       "      <td>ollama</td>\n",
       "      <td>phi3:3.8b</td>\n",
       "      <td>False</td>\n",
       "      <td>58.86</td>\n",
       "      <td>81.91</td>\n",
       "      <td>83.21</td>\n",
       "      <td>11.16</td>\n",
       "      <td>11.34</td>\n",
       "      <td>11.35</td>\n",
       "      <td>42</td>\n",
       "      <td>2025-07-24T06:59:25</td>\n",
       "    </tr>\n",
       "    <tr>\n",
       "      <th>18</th>\n",
       "      <td>PC_AL_2015</td>\n",
       "      <td>Intel i5-4690K</td>\n",
       "      <td>Nvidia GTX 1060 6GB</td>\n",
       "      <td>3.13.5</td>\n",
       "      <td>Windows-10-10.0.19045-SP0</td>\n",
       "      <td>ollama</td>\n",
       "      <td>qwen3:4b</td>\n",
       "      <td>True</td>\n",
       "      <td>60.96</td>\n",
       "      <td>61.38</td>\n",
       "      <td>61.43</td>\n",
       "      <td>22.96</td>\n",
       "      <td>23.10</td>\n",
       "      <td>23.67</td>\n",
       "      <td>42</td>\n",
       "      <td>2025-07-24T07:02:31</td>\n",
       "    </tr>\n",
       "    <tr>\n",
       "      <th>19</th>\n",
       "      <td>PC_AL_2015</td>\n",
       "      <td>Intel i5-4690K</td>\n",
       "      <td>Nvidia GTX 1060 6GB</td>\n",
       "      <td>3.13.5</td>\n",
       "      <td>Windows-10-10.0.19045-SP0</td>\n",
       "      <td>ollama</td>\n",
       "      <td>qwen3:4b</td>\n",
       "      <td>False</td>\n",
       "      <td>188.92</td>\n",
       "      <td>191.80</td>\n",
       "      <td>191.98</td>\n",
       "      <td>7.18</td>\n",
       "      <td>7.25</td>\n",
       "      <td>7.30</td>\n",
       "      <td>42</td>\n",
       "      <td>2025-07-24T07:12:36</td>\n",
       "    </tr>\n",
       "    <tr>\n",
       "      <th>20</th>\n",
       "      <td>PC_AL_2015</td>\n",
       "      <td>Intel i5-4690K</td>\n",
       "      <td>Nvidia GTX 1060 6GB</td>\n",
       "      <td>3.13.5</td>\n",
       "      <td>Windows-10-10.0.19045-SP0</td>\n",
       "      <td>ollama</td>\n",
       "      <td>qwen3:14b</td>\n",
       "      <td>True</td>\n",
       "      <td>355.40</td>\n",
       "      <td>396.04</td>\n",
       "      <td>397.49</td>\n",
       "      <td>3.72</td>\n",
       "      <td>3.73</td>\n",
       "      <td>3.78</td>\n",
       "      <td>42</td>\n",
       "      <td>2025-07-24T07:31:45</td>\n",
       "    </tr>\n",
       "    <tr>\n",
       "      <th>21</th>\n",
       "      <td>PC_AL_2015</td>\n",
       "      <td>Intel i5-4690K</td>\n",
       "      <td>Nvidia GTX 1060 6GB</td>\n",
       "      <td>3.13.5</td>\n",
       "      <td>Windows-10-10.0.19045-SP0</td>\n",
       "      <td>ollama</td>\n",
       "      <td>qwen3:14b</td>\n",
       "      <td>False</td>\n",
       "      <td>402.11</td>\n",
       "      <td>403.33</td>\n",
       "      <td>522.01</td>\n",
       "      <td>2.78</td>\n",
       "      <td>2.83</td>\n",
       "      <td>2.84</td>\n",
       "      <td>42</td>\n",
       "      <td>2025-07-24T07:53:53</td>\n",
       "    </tr>\n",
       "    <tr>\n",
       "      <th>22</th>\n",
       "      <td>PC_AL_2015</td>\n",
       "      <td>Intel i5-4690K</td>\n",
       "      <td>Nvidia GTX 1060 6GB</td>\n",
       "      <td>3.13.5</td>\n",
       "      <td>Windows-10-10.0.19045-SP0</td>\n",
       "      <td>ollama</td>\n",
       "      <td>gemma3:4b</td>\n",
       "      <td>True</td>\n",
       "      <td>26.94</td>\n",
       "      <td>26.97</td>\n",
       "      <td>34.40</td>\n",
       "      <td>20.44</td>\n",
       "      <td>20.50</td>\n",
       "      <td>20.52</td>\n",
       "      <td>42</td>\n",
       "      <td>2025-07-24T07:55:22</td>\n",
       "    </tr>\n",
       "    <tr>\n",
       "      <th>23</th>\n",
       "      <td>PC_AL_2015</td>\n",
       "      <td>Intel i5-4690K</td>\n",
       "      <td>Nvidia GTX 1060 6GB</td>\n",
       "      <td>3.13.5</td>\n",
       "      <td>Windows-10-10.0.19045-SP0</td>\n",
       "      <td>ollama</td>\n",
       "      <td>gemma3:4b</td>\n",
       "      <td>False</td>\n",
       "      <td>53.87</td>\n",
       "      <td>54.19</td>\n",
       "      <td>54.29</td>\n",
       "      <td>10.91</td>\n",
       "      <td>10.96</td>\n",
       "      <td>10.96</td>\n",
       "      <td>42</td>\n",
       "      <td>2025-07-24T07:58:05</td>\n",
       "    </tr>\n",
       "    <tr>\n",
       "      <th>24</th>\n",
       "      <td>PC_AL_2015</td>\n",
       "      <td>Intel i5-4690K</td>\n",
       "      <td>Nvidia GTX 1060 6GB</td>\n",
       "      <td>3.13.5</td>\n",
       "      <td>Windows-10-10.0.19045-SP0</td>\n",
       "      <td>ollama</td>\n",
       "      <td>gemma3:12b</td>\n",
       "      <td>True</td>\n",
       "      <td>80.74</td>\n",
       "      <td>84.19</td>\n",
       "      <td>101.65</td>\n",
       "      <td>4.97</td>\n",
       "      <td>5.01</td>\n",
       "      <td>5.19</td>\n",
       "      <td>42</td>\n",
       "      <td>2025-07-24T08:02:33</td>\n",
       "    </tr>\n",
       "    <tr>\n",
       "      <th>25</th>\n",
       "      <td>PC_AL_2015</td>\n",
       "      <td>Intel i5-4690K</td>\n",
       "      <td>Nvidia GTX 1060 6GB</td>\n",
       "      <td>3.13.5</td>\n",
       "      <td>Windows-10-10.0.19045-SP0</td>\n",
       "      <td>ollama</td>\n",
       "      <td>gemma3:12b</td>\n",
       "      <td>False</td>\n",
       "      <td>108.36</td>\n",
       "      <td>113.44</td>\n",
       "      <td>114.68</td>\n",
       "      <td>3.89</td>\n",
       "      <td>3.94</td>\n",
       "      <td>3.94</td>\n",
       "      <td>42</td>\n",
       "      <td>2025-07-24T08:08:10</td>\n",
       "    </tr>\n",
       "    <tr>\n",
       "      <th>26</th>\n",
       "      <td>PC_AL_2015</td>\n",
       "      <td>Intel i5-4690K</td>\n",
       "      <td>Nvidia GTX 1060 6GB</td>\n",
       "      <td>3.13.5</td>\n",
       "      <td>Windows-10-10.0.19045-SP0</td>\n",
       "      <td>ollama</td>\n",
       "      <td>gemma3n:e2b</td>\n",
       "      <td>True</td>\n",
       "      <td>15.05</td>\n",
       "      <td>15.07</td>\n",
       "      <td>27.44</td>\n",
       "      <td>18.82</td>\n",
       "      <td>18.97</td>\n",
       "      <td>19.02</td>\n",
       "      <td>42</td>\n",
       "      <td>2025-07-24T08:09:08</td>\n",
       "    </tr>\n",
       "    <tr>\n",
       "      <th>27</th>\n",
       "      <td>PC_AL_2015</td>\n",
       "      <td>Intel i5-4690K</td>\n",
       "      <td>Nvidia GTX 1060 6GB</td>\n",
       "      <td>3.13.5</td>\n",
       "      <td>Windows-10-10.0.19045-SP0</td>\n",
       "      <td>ollama</td>\n",
       "      <td>gemma3n:e2b</td>\n",
       "      <td>False</td>\n",
       "      <td>16.63</td>\n",
       "      <td>16.65</td>\n",
       "      <td>23.38</td>\n",
       "      <td>15.83</td>\n",
       "      <td>15.87</td>\n",
       "      <td>15.98</td>\n",
       "      <td>42</td>\n",
       "      <td>2025-07-24T08:10:05</td>\n",
       "    </tr>\n",
       "    <tr>\n",
       "      <th>28</th>\n",
       "      <td>PC_AL_2015</td>\n",
       "      <td>Intel i5-4690K</td>\n",
       "      <td>Nvidia GTX 1060 6GB</td>\n",
       "      <td>3.13.5</td>\n",
       "      <td>Windows-10-10.0.19045-SP0</td>\n",
       "      <td>ollama</td>\n",
       "      <td>deepseek-r1:8b</td>\n",
       "      <td>True</td>\n",
       "      <td>103.55</td>\n",
       "      <td>123.61</td>\n",
       "      <td>125.39</td>\n",
       "      <td>10.89</td>\n",
       "      <td>11.05</td>\n",
       "      <td>11.29</td>\n",
       "      <td>42</td>\n",
       "      <td>2025-07-24T08:15:58</td>\n",
       "    </tr>\n",
       "    <tr>\n",
       "      <th>29</th>\n",
       "      <td>PC_AL_2015</td>\n",
       "      <td>Intel i5-4690K</td>\n",
       "      <td>Nvidia GTX 1060 6GB</td>\n",
       "      <td>3.13.5</td>\n",
       "      <td>Windows-10-10.0.19045-SP0</td>\n",
       "      <td>ollama</td>\n",
       "      <td>deepseek-r1:8b</td>\n",
       "      <td>False</td>\n",
       "      <td>227.26</td>\n",
       "      <td>228.08</td>\n",
       "      <td>290.00</td>\n",
       "      <td>4.57</td>\n",
       "      <td>4.77</td>\n",
       "      <td>4.79</td>\n",
       "      <td>42</td>\n",
       "      <td>2025-07-24T08:28:24</td>\n",
       "    </tr>\n",
       "    <tr>\n",
       "      <th>30</th>\n",
       "      <td>PC_AL_2015</td>\n",
       "      <td>Intel i5-4690K</td>\n",
       "      <td>Nvidia GTX 1060 6GB</td>\n",
       "      <td>3.13.5</td>\n",
       "      <td>Windows-10-10.0.19045-SP0</td>\n",
       "      <td>ollama</td>\n",
       "      <td>deepseek-r1:14b</td>\n",
       "      <td>True</td>\n",
       "      <td>132.83</td>\n",
       "      <td>133.45</td>\n",
       "      <td>190.80</td>\n",
       "      <td>4.05</td>\n",
       "      <td>4.07</td>\n",
       "      <td>4.14</td>\n",
       "      <td>42</td>\n",
       "      <td>2025-07-24T08:36:02</td>\n",
       "    </tr>\n",
       "    <tr>\n",
       "      <th>31</th>\n",
       "      <td>PC_AL_2015</td>\n",
       "      <td>Intel i5-4690K</td>\n",
       "      <td>Nvidia GTX 1060 6GB</td>\n",
       "      <td>3.13.5</td>\n",
       "      <td>Windows-10-10.0.19045-SP0</td>\n",
       "      <td>ollama</td>\n",
       "      <td>deepseek-r1:14b</td>\n",
       "      <td>False</td>\n",
       "      <td>167.46</td>\n",
       "      <td>176.99</td>\n",
       "      <td>177.67</td>\n",
       "      <td>3.39</td>\n",
       "      <td>3.40</td>\n",
       "      <td>3.42</td>\n",
       "      <td>42</td>\n",
       "      <td>2025-07-24T08:44:45</td>\n",
       "    </tr>\n",
       "    <tr>\n",
       "      <th>32</th>\n",
       "      <td>Mark1</td>\n",
       "      <td>AMD Ryzen 7 9800X3D</td>\n",
       "      <td>Nvidia GTX 4080 SUPER</td>\n",
       "      <td>3.13.5</td>\n",
       "      <td>Linux-5.15.167.4-microsoft-standard-WSL2-x86_6...</td>\n",
       "      <td>ollama</td>\n",
       "      <td>phi3:3.8b</td>\n",
       "      <td>True</td>\n",
       "      <td>3.04</td>\n",
       "      <td>3.05</td>\n",
       "      <td>4.79</td>\n",
       "      <td>210.60</td>\n",
       "      <td>210.74</td>\n",
       "      <td>210.82</td>\n",
       "      <td>42</td>\n",
       "      <td>2025-07-26T12:08:53</td>\n",
       "    </tr>\n",
       "    <tr>\n",
       "      <th>33</th>\n",
       "      <td>Mark1</td>\n",
       "      <td>AMD Ryzen 7 9800X3D</td>\n",
       "      <td>Nvidia GTX 4080 SUPER</td>\n",
       "      <td>3.13.5</td>\n",
       "      <td>Linux-5.15.167.4-microsoft-standard-WSL2-x86_6...</td>\n",
       "      <td>ollama</td>\n",
       "      <td>phi3:3.8b</td>\n",
       "      <td>False</td>\n",
       "      <td>27.07</td>\n",
       "      <td>27.21</td>\n",
       "      <td>51.25</td>\n",
       "      <td>21.72</td>\n",
       "      <td>22.35</td>\n",
       "      <td>22.47</td>\n",
       "      <td>42</td>\n",
       "      <td>2025-07-26T12:10:47</td>\n",
       "    </tr>\n",
       "    <tr>\n",
       "      <th>34</th>\n",
       "      <td>Mark1</td>\n",
       "      <td>AMD Ryzen 7 9800X3D</td>\n",
       "      <td>Nvidia GTX 4080 SUPER</td>\n",
       "      <td>3.13.5</td>\n",
       "      <td>Linux-5.15.167.4-microsoft-standard-WSL2-x86_6...</td>\n",
       "      <td>ollama</td>\n",
       "      <td>qwen3:4b</td>\n",
       "      <td>True</td>\n",
       "      <td>7.67</td>\n",
       "      <td>7.69</td>\n",
       "      <td>10.03</td>\n",
       "      <td>167.70</td>\n",
       "      <td>167.86</td>\n",
       "      <td>168.18</td>\n",
       "      <td>42</td>\n",
       "      <td>2025-07-26T12:11:16</td>\n",
       "    </tr>\n",
       "    <tr>\n",
       "      <th>35</th>\n",
       "      <td>Mark1</td>\n",
       "      <td>AMD Ryzen 7 9800X3D</td>\n",
       "      <td>Nvidia GTX 4080 SUPER</td>\n",
       "      <td>3.13.5</td>\n",
       "      <td>Linux-5.15.167.4-microsoft-standard-WSL2-x86_6...</td>\n",
       "      <td>ollama</td>\n",
       "      <td>qwen3:4b</td>\n",
       "      <td>False</td>\n",
       "      <td>87.69</td>\n",
       "      <td>87.93</td>\n",
       "      <td>109.43</td>\n",
       "      <td>13.49</td>\n",
       "      <td>13.53</td>\n",
       "      <td>13.70</td>\n",
       "      <td>42</td>\n",
       "      <td>2025-07-26T12:16:27</td>\n",
       "    </tr>\n",
       "    <tr>\n",
       "      <th>36</th>\n",
       "      <td>Mark1</td>\n",
       "      <td>AMD Ryzen 7 9800X3D</td>\n",
       "      <td>Nvidia GTX 4080 SUPER</td>\n",
       "      <td>3.13.5</td>\n",
       "      <td>Linux-5.15.167.4-microsoft-standard-WSL2-x86_6...</td>\n",
       "      <td>ollama</td>\n",
       "      <td>qwen3:14b</td>\n",
       "      <td>True</td>\n",
       "      <td>14.41</td>\n",
       "      <td>14.44</td>\n",
       "      <td>16.37</td>\n",
       "      <td>68.66</td>\n",
       "      <td>68.82</td>\n",
       "      <td>69.15</td>\n",
       "      <td>42</td>\n",
       "      <td>2025-07-26T12:17:18</td>\n",
       "    </tr>\n",
       "    <tr>\n",
       "      <th>37</th>\n",
       "      <td>Mark1</td>\n",
       "      <td>AMD Ryzen 7 9800X3D</td>\n",
       "      <td>Nvidia GTX 4080 SUPER</td>\n",
       "      <td>3.13.5</td>\n",
       "      <td>Linux-5.15.167.4-microsoft-standard-WSL2-x86_6...</td>\n",
       "      <td>ollama</td>\n",
       "      <td>qwen3:14b</td>\n",
       "      <td>False</td>\n",
       "      <td>204.46</td>\n",
       "      <td>211.33</td>\n",
       "      <td>214.87</td>\n",
       "      <td>4.47</td>\n",
       "      <td>4.53</td>\n",
       "      <td>4.60</td>\n",
       "      <td>42</td>\n",
       "      <td>2025-07-26T12:28:51</td>\n",
       "    </tr>\n",
       "    <tr>\n",
       "      <th>38</th>\n",
       "      <td>Mark1</td>\n",
       "      <td>AMD Ryzen 7 9800X3D</td>\n",
       "      <td>Nvidia GTX 4080 SUPER</td>\n",
       "      <td>3.13.5</td>\n",
       "      <td>Linux-5.15.167.4-microsoft-standard-WSL2-x86_6...</td>\n",
       "      <td>ollama</td>\n",
       "      <td>gemma3:4b</td>\n",
       "      <td>True</td>\n",
       "      <td>2.53</td>\n",
       "      <td>2.54</td>\n",
       "      <td>5.63</td>\n",
       "      <td>167.40</td>\n",
       "      <td>171.22</td>\n",
       "      <td>171.55</td>\n",
       "      <td>42</td>\n",
       "      <td>2025-07-26T12:29:02</td>\n",
       "    </tr>\n",
       "    <tr>\n",
       "      <th>39</th>\n",
       "      <td>Mark1</td>\n",
       "      <td>AMD Ryzen 7 9800X3D</td>\n",
       "      <td>Nvidia GTX 4080 SUPER</td>\n",
       "      <td>3.13.5</td>\n",
       "      <td>Linux-5.15.167.4-microsoft-standard-WSL2-x86_6...</td>\n",
       "      <td>ollama</td>\n",
       "      <td>gemma3:4b</td>\n",
       "      <td>False</td>\n",
       "      <td>19.86</td>\n",
       "      <td>20.36</td>\n",
       "      <td>25.59</td>\n",
       "      <td>19.69</td>\n",
       "      <td>19.71</td>\n",
       "      <td>20.18</td>\n",
       "      <td>42</td>\n",
       "      <td>2025-07-26T12:30:15</td>\n",
       "    </tr>\n",
       "    <tr>\n",
       "      <th>40</th>\n",
       "      <td>Mark1</td>\n",
       "      <td>AMD Ryzen 7 9800X3D</td>\n",
       "      <td>Nvidia GTX 4080 SUPER</td>\n",
       "      <td>3.13.5</td>\n",
       "      <td>Linux-5.15.167.4-microsoft-standard-WSL2-x86_6...</td>\n",
       "      <td>ollama</td>\n",
       "      <td>gemma3:12b</td>\n",
       "      <td>True</td>\n",
       "      <td>5.51</td>\n",
       "      <td>5.52</td>\n",
       "      <td>8.74</td>\n",
       "      <td>74.54</td>\n",
       "      <td>75.85</td>\n",
       "      <td>75.88</td>\n",
       "      <td>42</td>\n",
       "      <td>2025-07-26T12:30:39</td>\n",
       "    </tr>\n",
       "    <tr>\n",
       "      <th>41</th>\n",
       "      <td>Mark1</td>\n",
       "      <td>AMD Ryzen 7 9800X3D</td>\n",
       "      <td>Nvidia GTX 4080 SUPER</td>\n",
       "      <td>3.13.5</td>\n",
       "      <td>Linux-5.15.167.4-microsoft-standard-WSL2-x86_6...</td>\n",
       "      <td>ollama</td>\n",
       "      <td>gemma3:12b</td>\n",
       "      <td>False</td>\n",
       "      <td>56.68</td>\n",
       "      <td>56.73</td>\n",
       "      <td>67.17</td>\n",
       "      <td>7.27</td>\n",
       "      <td>7.32</td>\n",
       "      <td>7.33</td>\n",
       "      <td>42</td>\n",
       "      <td>2025-07-26T12:33:57</td>\n",
       "    </tr>\n",
       "    <tr>\n",
       "      <th>42</th>\n",
       "      <td>Mark1</td>\n",
       "      <td>AMD Ryzen 7 9800X3D</td>\n",
       "      <td>Nvidia GTX 4080 SUPER</td>\n",
       "      <td>3.13.5</td>\n",
       "      <td>Linux-5.15.167.4-microsoft-standard-WSL2-x86_6...</td>\n",
       "      <td>ollama</td>\n",
       "      <td>gemma3n:e2b</td>\n",
       "      <td>True</td>\n",
       "      <td>3.32</td>\n",
       "      <td>3.34</td>\n",
       "      <td>9.01</td>\n",
       "      <td>60.29</td>\n",
       "      <td>63.48</td>\n",
       "      <td>63.94</td>\n",
       "      <td>42</td>\n",
       "      <td>2025-07-26T12:34:18</td>\n",
       "    </tr>\n",
       "    <tr>\n",
       "      <th>43</th>\n",
       "      <td>Mark1</td>\n",
       "      <td>AMD Ryzen 7 9800X3D</td>\n",
       "      <td>Nvidia GTX 4080 SUPER</td>\n",
       "      <td>3.13.5</td>\n",
       "      <td>Linux-5.15.167.4-microsoft-standard-WSL2-x86_6...</td>\n",
       "      <td>ollama</td>\n",
       "      <td>gemma3n:e2b</td>\n",
       "      <td>False</td>\n",
       "      <td>9.90</td>\n",
       "      <td>9.95</td>\n",
       "      <td>19.39</td>\n",
       "      <td>26.84</td>\n",
       "      <td>26.90</td>\n",
       "      <td>28.21</td>\n",
       "      <td>42</td>\n",
       "      <td>2025-07-26T12:35:00</td>\n",
       "    </tr>\n",
       "    <tr>\n",
       "      <th>44</th>\n",
       "      <td>Mark1</td>\n",
       "      <td>AMD Ryzen 7 9800X3D</td>\n",
       "      <td>Nvidia GTX 4080 SUPER</td>\n",
       "      <td>3.13.5</td>\n",
       "      <td>Linux-5.15.167.4-microsoft-standard-WSL2-x86_6...</td>\n",
       "      <td>ollama</td>\n",
       "      <td>deepseek-r1:8b</td>\n",
       "      <td>True</td>\n",
       "      <td>7.86</td>\n",
       "      <td>7.89</td>\n",
       "      <td>13.82</td>\n",
       "      <td>102.33</td>\n",
       "      <td>109.16</td>\n",
       "      <td>109.25</td>\n",
       "      <td>42</td>\n",
       "      <td>2025-07-26T12:35:30</td>\n",
       "    </tr>\n",
       "    <tr>\n",
       "      <th>45</th>\n",
       "      <td>Mark1</td>\n",
       "      <td>AMD Ryzen 7 9800X3D</td>\n",
       "      <td>Nvidia GTX 4080 SUPER</td>\n",
       "      <td>3.13.5</td>\n",
       "      <td>Linux-5.15.167.4-microsoft-standard-WSL2-x86_6...</td>\n",
       "      <td>ollama</td>\n",
       "      <td>deepseek-r1:8b</td>\n",
       "      <td>False</td>\n",
       "      <td>137.44</td>\n",
       "      <td>157.61</td>\n",
       "      <td>165.19</td>\n",
       "      <td>7.22</td>\n",
       "      <td>7.67</td>\n",
       "      <td>8.79</td>\n",
       "      <td>42</td>\n",
       "      <td>2025-07-26T12:43:52</td>\n",
       "    </tr>\n",
       "    <tr>\n",
       "      <th>46</th>\n",
       "      <td>Mark1</td>\n",
       "      <td>AMD Ryzen 7 9800X3D</td>\n",
       "      <td>Nvidia GTX 4080 SUPER</td>\n",
       "      <td>3.13.5</td>\n",
       "      <td>Linux-5.15.167.4-microsoft-standard-WSL2-x86_6...</td>\n",
       "      <td>ollama</td>\n",
       "      <td>deepseek-r1:14b</td>\n",
       "      <td>True</td>\n",
       "      <td>9.86</td>\n",
       "      <td>9.87</td>\n",
       "      <td>12.47</td>\n",
       "      <td>67.42</td>\n",
       "      <td>67.43</td>\n",
       "      <td>67.47</td>\n",
       "      <td>42</td>\n",
       "      <td>2025-07-26T12:44:27</td>\n",
       "    </tr>\n",
       "    <tr>\n",
       "      <th>47</th>\n",
       "      <td>Mark1</td>\n",
       "      <td>AMD Ryzen 7 9800X3D</td>\n",
       "      <td>Nvidia GTX 4080 SUPER</td>\n",
       "      <td>3.13.5</td>\n",
       "      <td>Linux-5.15.167.4-microsoft-standard-WSL2-x86_6...</td>\n",
       "      <td>ollama</td>\n",
       "      <td>deepseek-r1:14b</td>\n",
       "      <td>False</td>\n",
       "      <td>130.34</td>\n",
       "      <td>147.44</td>\n",
       "      <td>150.00</td>\n",
       "      <td>5.57</td>\n",
       "      <td>5.67</td>\n",
       "      <td>6.02</td>\n",
       "      <td>42</td>\n",
       "      <td>2025-07-26T12:52:13</td>\n",
       "    </tr>\n",
       "  </tbody>\n",
       "</table>\n",
       "</div>"
      ],
      "text/plain": [
       "       machine                  CPU                    GPU  python  \\\n",
       "0   PC_AL_2025    AMD Ryzen 5 9600X   Nvidia RTX 5060 16GB  3.13.5   \n",
       "1   PC_AL_2025    AMD Ryzen 5 9600X   Nvidia RTX 5060 16GB  3.13.5   \n",
       "2   PC_AL_2025    AMD Ryzen 5 9600X   Nvidia RTX 5060 16GB  3.13.5   \n",
       "3   PC_AL_2025    AMD Ryzen 5 9600X   Nvidia RTX 5060 16GB  3.13.5   \n",
       "4   PC_AL_2025    AMD Ryzen 5 9600X   Nvidia RTX 5060 16GB  3.13.5   \n",
       "5   PC_AL_2025    AMD Ryzen 5 9600X   Nvidia RTX 5060 16GB  3.13.5   \n",
       "6   PC_AL_2025    AMD Ryzen 5 9600X   Nvidia RTX 5060 16GB  3.13.5   \n",
       "7   PC_AL_2025    AMD Ryzen 5 9600X   Nvidia RTX 5060 16GB  3.13.5   \n",
       "8   PC_AL_2025    AMD Ryzen 5 9600X   Nvidia RTX 5060 16GB  3.13.5   \n",
       "9   PC_AL_2025    AMD Ryzen 5 9600X   Nvidia RTX 5060 16GB  3.13.5   \n",
       "10  PC_AL_2025    AMD Ryzen 5 9600X   Nvidia RTX 5060 16GB  3.13.5   \n",
       "11  PC_AL_2025    AMD Ryzen 5 9600X   Nvidia RTX 5060 16GB  3.13.5   \n",
       "12  PC_AL_2025    AMD Ryzen 5 9600X   Nvidia RTX 5060 16GB  3.13.5   \n",
       "13  PC_AL_2025    AMD Ryzen 5 9600X   Nvidia RTX 5060 16GB  3.13.5   \n",
       "14  PC_AL_2025    AMD Ryzen 5 9600X   Nvidia RTX 5060 16GB  3.13.5   \n",
       "15  PC_AL_2025    AMD Ryzen 5 9600X   Nvidia RTX 5060 16GB  3.13.5   \n",
       "16  PC_AL_2015       Intel i5-4690K    Nvidia GTX 1060 6GB  3.13.5   \n",
       "17  PC_AL_2015       Intel i5-4690K    Nvidia GTX 1060 6GB  3.13.5   \n",
       "18  PC_AL_2015       Intel i5-4690K    Nvidia GTX 1060 6GB  3.13.5   \n",
       "19  PC_AL_2015       Intel i5-4690K    Nvidia GTX 1060 6GB  3.13.5   \n",
       "20  PC_AL_2015       Intel i5-4690K    Nvidia GTX 1060 6GB  3.13.5   \n",
       "21  PC_AL_2015       Intel i5-4690K    Nvidia GTX 1060 6GB  3.13.5   \n",
       "22  PC_AL_2015       Intel i5-4690K    Nvidia GTX 1060 6GB  3.13.5   \n",
       "23  PC_AL_2015       Intel i5-4690K    Nvidia GTX 1060 6GB  3.13.5   \n",
       "24  PC_AL_2015       Intel i5-4690K    Nvidia GTX 1060 6GB  3.13.5   \n",
       "25  PC_AL_2015       Intel i5-4690K    Nvidia GTX 1060 6GB  3.13.5   \n",
       "26  PC_AL_2015       Intel i5-4690K    Nvidia GTX 1060 6GB  3.13.5   \n",
       "27  PC_AL_2015       Intel i5-4690K    Nvidia GTX 1060 6GB  3.13.5   \n",
       "28  PC_AL_2015       Intel i5-4690K    Nvidia GTX 1060 6GB  3.13.5   \n",
       "29  PC_AL_2015       Intel i5-4690K    Nvidia GTX 1060 6GB  3.13.5   \n",
       "30  PC_AL_2015       Intel i5-4690K    Nvidia GTX 1060 6GB  3.13.5   \n",
       "31  PC_AL_2015       Intel i5-4690K    Nvidia GTX 1060 6GB  3.13.5   \n",
       "32       Mark1  AMD Ryzen 7 9800X3D  Nvidia GTX 4080 SUPER  3.13.5   \n",
       "33       Mark1  AMD Ryzen 7 9800X3D  Nvidia GTX 4080 SUPER  3.13.5   \n",
       "34       Mark1  AMD Ryzen 7 9800X3D  Nvidia GTX 4080 SUPER  3.13.5   \n",
       "35       Mark1  AMD Ryzen 7 9800X3D  Nvidia GTX 4080 SUPER  3.13.5   \n",
       "36       Mark1  AMD Ryzen 7 9800X3D  Nvidia GTX 4080 SUPER  3.13.5   \n",
       "37       Mark1  AMD Ryzen 7 9800X3D  Nvidia GTX 4080 SUPER  3.13.5   \n",
       "38       Mark1  AMD Ryzen 7 9800X3D  Nvidia GTX 4080 SUPER  3.13.5   \n",
       "39       Mark1  AMD Ryzen 7 9800X3D  Nvidia GTX 4080 SUPER  3.13.5   \n",
       "40       Mark1  AMD Ryzen 7 9800X3D  Nvidia GTX 4080 SUPER  3.13.5   \n",
       "41       Mark1  AMD Ryzen 7 9800X3D  Nvidia GTX 4080 SUPER  3.13.5   \n",
       "42       Mark1  AMD Ryzen 7 9800X3D  Nvidia GTX 4080 SUPER  3.13.5   \n",
       "43       Mark1  AMD Ryzen 7 9800X3D  Nvidia GTX 4080 SUPER  3.13.5   \n",
       "44       Mark1  AMD Ryzen 7 9800X3D  Nvidia GTX 4080 SUPER  3.13.5   \n",
       "45       Mark1  AMD Ryzen 7 9800X3D  Nvidia GTX 4080 SUPER  3.13.5   \n",
       "46       Mark1  AMD Ryzen 7 9800X3D  Nvidia GTX 4080 SUPER  3.13.5   \n",
       "47       Mark1  AMD Ryzen 7 9800X3D  Nvidia GTX 4080 SUPER  3.13.5   \n",
       "\n",
       "                                             platform   bench  \\\n",
       "0                           Windows-11-10.0.26100-SP0  ollama   \n",
       "1                           Windows-11-10.0.26100-SP0  ollama   \n",
       "2                           Windows-11-10.0.26100-SP0  ollama   \n",
       "3                           Windows-11-10.0.26100-SP0  ollama   \n",
       "4                           Windows-11-10.0.26100-SP0  ollama   \n",
       "5                           Windows-11-10.0.26100-SP0  ollama   \n",
       "6                           Windows-11-10.0.26100-SP0  ollama   \n",
       "7                           Windows-11-10.0.26100-SP0  ollama   \n",
       "8                           Windows-11-10.0.26100-SP0  ollama   \n",
       "9                           Windows-11-10.0.26100-SP0  ollama   \n",
       "10                          Windows-11-10.0.26100-SP0  ollama   \n",
       "11                          Windows-11-10.0.26100-SP0  ollama   \n",
       "12                          Windows-11-10.0.26100-SP0  ollama   \n",
       "13                          Windows-11-10.0.26100-SP0  ollama   \n",
       "14                          Windows-11-10.0.26100-SP0  ollama   \n",
       "15                          Windows-11-10.0.26100-SP0  ollama   \n",
       "16                          Windows-10-10.0.19045-SP0  ollama   \n",
       "17                          Windows-10-10.0.19045-SP0  ollama   \n",
       "18                          Windows-10-10.0.19045-SP0  ollama   \n",
       "19                          Windows-10-10.0.19045-SP0  ollama   \n",
       "20                          Windows-10-10.0.19045-SP0  ollama   \n",
       "21                          Windows-10-10.0.19045-SP0  ollama   \n",
       "22                          Windows-10-10.0.19045-SP0  ollama   \n",
       "23                          Windows-10-10.0.19045-SP0  ollama   \n",
       "24                          Windows-10-10.0.19045-SP0  ollama   \n",
       "25                          Windows-10-10.0.19045-SP0  ollama   \n",
       "26                          Windows-10-10.0.19045-SP0  ollama   \n",
       "27                          Windows-10-10.0.19045-SP0  ollama   \n",
       "28                          Windows-10-10.0.19045-SP0  ollama   \n",
       "29                          Windows-10-10.0.19045-SP0  ollama   \n",
       "30                          Windows-10-10.0.19045-SP0  ollama   \n",
       "31                          Windows-10-10.0.19045-SP0  ollama   \n",
       "32  Linux-5.15.167.4-microsoft-standard-WSL2-x86_6...  ollama   \n",
       "33  Linux-5.15.167.4-microsoft-standard-WSL2-x86_6...  ollama   \n",
       "34  Linux-5.15.167.4-microsoft-standard-WSL2-x86_6...  ollama   \n",
       "35  Linux-5.15.167.4-microsoft-standard-WSL2-x86_6...  ollama   \n",
       "36  Linux-5.15.167.4-microsoft-standard-WSL2-x86_6...  ollama   \n",
       "37  Linux-5.15.167.4-microsoft-standard-WSL2-x86_6...  ollama   \n",
       "38  Linux-5.15.167.4-microsoft-standard-WSL2-x86_6...  ollama   \n",
       "39  Linux-5.15.167.4-microsoft-standard-WSL2-x86_6...  ollama   \n",
       "40  Linux-5.15.167.4-microsoft-standard-WSL2-x86_6...  ollama   \n",
       "41  Linux-5.15.167.4-microsoft-standard-WSL2-x86_6...  ollama   \n",
       "42  Linux-5.15.167.4-microsoft-standard-WSL2-x86_6...  ollama   \n",
       "43  Linux-5.15.167.4-microsoft-standard-WSL2-x86_6...  ollama   \n",
       "44  Linux-5.15.167.4-microsoft-standard-WSL2-x86_6...  ollama   \n",
       "45  Linux-5.15.167.4-microsoft-standard-WSL2-x86_6...  ollama   \n",
       "46  Linux-5.15.167.4-microsoft-standard-WSL2-x86_6...  ollama   \n",
       "47  Linux-5.15.167.4-microsoft-standard-WSL2-x86_6...  ollama   \n",
       "\n",
       "              model    gpu  wall_min_s  wall_med_s  wall_max_s  tok_min_s  \\\n",
       "0         phi3:3.8b   True        6.37        6.45       14.81     133.99   \n",
       "1         phi3:3.8b  False       31.59       34.68       34.70      21.43   \n",
       "2          qwen3:4b   True       13.93       14.19       19.01     105.24   \n",
       "3          qwen3:4b  False       92.86       92.92      142.73      12.89   \n",
       "4         qwen3:14b   True       26.28       26.34       29.25      40.56   \n",
       "5         qwen3:14b  False      232.64      232.64      258.10       4.85   \n",
       "6         gemma3:4b   True        5.55        5.55        7.44     108.46   \n",
       "7         gemma3:4b  False       26.23       27.92       28.35      18.41   \n",
       "8        gemma3:12b   True       11.89       11.91       13.64      44.15   \n",
       "9        gemma3:12b  False       63.53       64.72       66.10       6.63   \n",
       "10      gemma3n:e2b   True        6.29        6.31        9.13      48.85   \n",
       "11      gemma3n:e2b  False       11.77       11.77       13.48      27.46   \n",
       "12   deepseek-r1:8b   True       19.29       20.58       20.58      67.25   \n",
       "13   deepseek-r1:8b  False      111.03      111.16      161.64       8.36   \n",
       "14  deepseek-r1:14b   True       15.93       16.02       23.60      39.58   \n",
       "15  deepseek-r1:14b  False       94.89       94.93      128.77       5.86   \n",
       "16        phi3:3.8b   True       16.83       16.85       25.75      37.95   \n",
       "17        phi3:3.8b  False       58.86       81.91       83.21      11.16   \n",
       "18         qwen3:4b   True       60.96       61.38       61.43      22.96   \n",
       "19         qwen3:4b  False      188.92      191.80      191.98       7.18   \n",
       "20        qwen3:14b   True      355.40      396.04      397.49       3.72   \n",
       "21        qwen3:14b  False      402.11      403.33      522.01       2.78   \n",
       "22        gemma3:4b   True       26.94       26.97       34.40      20.44   \n",
       "23        gemma3:4b  False       53.87       54.19       54.29      10.91   \n",
       "24       gemma3:12b   True       80.74       84.19      101.65       4.97   \n",
       "25       gemma3:12b  False      108.36      113.44      114.68       3.89   \n",
       "26      gemma3n:e2b   True       15.05       15.07       27.44      18.82   \n",
       "27      gemma3n:e2b  False       16.63       16.65       23.38      15.83   \n",
       "28   deepseek-r1:8b   True      103.55      123.61      125.39      10.89   \n",
       "29   deepseek-r1:8b  False      227.26      228.08      290.00       4.57   \n",
       "30  deepseek-r1:14b   True      132.83      133.45      190.80       4.05   \n",
       "31  deepseek-r1:14b  False      167.46      176.99      177.67       3.39   \n",
       "32        phi3:3.8b   True        3.04        3.05        4.79     210.60   \n",
       "33        phi3:3.8b  False       27.07       27.21       51.25      21.72   \n",
       "34         qwen3:4b   True        7.67        7.69       10.03     167.70   \n",
       "35         qwen3:4b  False       87.69       87.93      109.43      13.49   \n",
       "36        qwen3:14b   True       14.41       14.44       16.37      68.66   \n",
       "37        qwen3:14b  False      204.46      211.33      214.87       4.47   \n",
       "38        gemma3:4b   True        2.53        2.54        5.63     167.40   \n",
       "39        gemma3:4b  False       19.86       20.36       25.59      19.69   \n",
       "40       gemma3:12b   True        5.51        5.52        8.74      74.54   \n",
       "41       gemma3:12b  False       56.68       56.73       67.17       7.27   \n",
       "42      gemma3n:e2b   True        3.32        3.34        9.01      60.29   \n",
       "43      gemma3n:e2b  False        9.90        9.95       19.39      26.84   \n",
       "44   deepseek-r1:8b   True        7.86        7.89       13.82     102.33   \n",
       "45   deepseek-r1:8b  False      137.44      157.61      165.19       7.22   \n",
       "46  deepseek-r1:14b   True        9.86        9.87       12.47      67.42   \n",
       "47  deepseek-r1:14b  False      130.34      147.44      150.00       5.57   \n",
       "\n",
       "    tok_med_s  tok_max_s  seed            timestamp  \n",
       "0      136.25     136.62    42  2025-07-23T21:08:10  \n",
       "1       21.44      21.55    42  2025-07-23T21:09:52  \n",
       "2      106.41     107.55    42  2025-07-23T21:10:39  \n",
       "3       13.18      13.19    42  2025-07-23T21:16:08  \n",
       "4       40.74      40.75    42  2025-07-23T21:17:30  \n",
       "5        4.85       4.85    42  2025-07-23T21:29:34  \n",
       "6      109.05     109.22    42  2025-07-23T21:29:53  \n",
       "7       18.60      18.74    42  2025-07-23T21:31:16  \n",
       "8       44.31      44.51    42  2025-07-23T21:31:54  \n",
       "9        6.75       6.76    42  2025-07-23T21:35:09  \n",
       "10      49.05      49.06    42  2025-07-23T21:35:31  \n",
       "11      27.65      27.67    42  2025-07-23T21:36:08  \n",
       "12      67.28      67.45    42  2025-07-23T21:37:09  \n",
       "13       8.57       8.58    42  2025-07-23T21:43:33  \n",
       "14      39.83      39.86    42  2025-07-23T21:44:29  \n",
       "15       5.89       5.89    42  2025-07-23T21:49:48  \n",
       "16      38.54      38.69    42  2025-07-24T06:55:41  \n",
       "17      11.34      11.35    42  2025-07-24T06:59:25  \n",
       "18      23.10      23.67    42  2025-07-24T07:02:31  \n",
       "19       7.25       7.30    42  2025-07-24T07:12:36  \n",
       "20       3.73       3.78    42  2025-07-24T07:31:45  \n",
       "21       2.83       2.84    42  2025-07-24T07:53:53  \n",
       "22      20.50      20.52    42  2025-07-24T07:55:22  \n",
       "23      10.96      10.96    42  2025-07-24T07:58:05  \n",
       "24       5.01       5.19    42  2025-07-24T08:02:33  \n",
       "25       3.94       3.94    42  2025-07-24T08:08:10  \n",
       "26      18.97      19.02    42  2025-07-24T08:09:08  \n",
       "27      15.87      15.98    42  2025-07-24T08:10:05  \n",
       "28      11.05      11.29    42  2025-07-24T08:15:58  \n",
       "29       4.77       4.79    42  2025-07-24T08:28:24  \n",
       "30       4.07       4.14    42  2025-07-24T08:36:02  \n",
       "31       3.40       3.42    42  2025-07-24T08:44:45  \n",
       "32     210.74     210.82    42  2025-07-26T12:08:53  \n",
       "33      22.35      22.47    42  2025-07-26T12:10:47  \n",
       "34     167.86     168.18    42  2025-07-26T12:11:16  \n",
       "35      13.53      13.70    42  2025-07-26T12:16:27  \n",
       "36      68.82      69.15    42  2025-07-26T12:17:18  \n",
       "37       4.53       4.60    42  2025-07-26T12:28:51  \n",
       "38     171.22     171.55    42  2025-07-26T12:29:02  \n",
       "39      19.71      20.18    42  2025-07-26T12:30:15  \n",
       "40      75.85      75.88    42  2025-07-26T12:30:39  \n",
       "41       7.32       7.33    42  2025-07-26T12:33:57  \n",
       "42      63.48      63.94    42  2025-07-26T12:34:18  \n",
       "43      26.90      28.21    42  2025-07-26T12:35:00  \n",
       "44     109.16     109.25    42  2025-07-26T12:35:30  \n",
       "45       7.67       8.79    42  2025-07-26T12:43:52  \n",
       "46      67.43      67.47    42  2025-07-26T12:44:27  \n",
       "47       5.67       6.02    42  2025-07-26T12:52:13  "
      ]
     },
     "metadata": {},
     "output_type": "display_data"
    }
   ],
   "source": [
    "# Show ollama_df with tabulate\n",
    "display(ollama_df)"
   ]
  },
  {
   "cell_type": "code",
   "execution_count": 20,
   "id": "66c00c3c",
   "metadata": {},
   "outputs": [
    {
     "data": {
      "application/vnd.plotly.v1+json": {
       "config": {
        "plotlyServerURL": "https://plot.ly"
       },
       "data": [
        {
         "hovertemplate": "AMD Ryzen 5 9600X + Nvidia RTX 5060 16GB<br>Modello: %{y} · GPU<br>%{x:.2f} token/s<extra></extra>",
         "marker": {
          "color": "rgb(102, 197, 204)",
          "pattern": {
           "shape": ""
          }
         },
         "orientation": "h",
         "showlegend": false,
         "text": [
          "136.25",
          "106.41",
          "40.74",
          "109.05",
          "44.31",
          "49.05",
          "67.28",
          "39.83"
         ],
         "textposition": "outside",
         "type": "bar",
         "x": {
          "bdata": "AAAAAAAIYUAK16NwPZpaQB+F61G4XkRAMzMzMzNDW0BI4XoUridGQGZmZmZmhkhAUrgehevRUEAK16NwPepDQA==",
          "dtype": "f8"
         },
         "y": [
          "phi3:3.8b",
          "qwen3:4b",
          "qwen3:14b",
          "gemma3:4b",
          "gemma3:12b",
          "gemma3n:e2b",
          "deepseek-r1:8b",
          "deepseek-r1:14b"
         ]
        },
        {
         "hovertemplate": "AMD Ryzen 5 9600X + Nvidia RTX 5060 16GB<br>Modello: %{y} · CPU<br>%{x:.2f} token/s<extra></extra>",
         "marker": {
          "color": "rgb(246, 207, 113)",
          "pattern": {
           "shape": ""
          }
         },
         "orientation": "h",
         "showlegend": false,
         "text": [
          "21.44",
          "13.18",
          "4.85",
          "18.60",
          "6.75",
          "27.65",
          "8.57",
          "5.89"
         ],
         "textposition": "outside",
         "type": "bar",
         "x": {
          "bdata": "cT0K16NwNUBcj8L1KFwqQGZmZmZmZhNAmpmZmZmZMkAAAAAAAAAbQGZmZmZmpjtApHA9CtcjIUCPwvUoXI8XQA==",
          "dtype": "f8"
         },
         "y": [
          "phi3:3.8b",
          "qwen3:4b",
          "qwen3:14b",
          "gemma3:4b",
          "gemma3:12b",
          "gemma3n:e2b",
          "deepseek-r1:8b",
          "deepseek-r1:14b"
         ]
        },
        {
         "hovertemplate": "Intel i5-4690K + Nvidia GTX 1060 6GB<br>Modello: %{y} · GPU<br>%{x:.2f} token/s<extra></extra>",
         "marker": {
          "color": "rgb(102, 197, 204)",
          "pattern": {
           "shape": "/"
          }
         },
         "orientation": "h",
         "showlegend": false,
         "text": [
          "38.54",
          "23.10",
          "3.73",
          "20.50",
          "5.01",
          "18.97",
          "11.05",
          "4.07"
         ],
         "textposition": "outside",
         "type": "bar",
         "x": {
          "bdata": "hetRuB5FQ0CamZmZmRk3QNejcD0K1w1AAAAAAACANEAK16NwPQoUQLgehetR+DJAmpmZmZkZJkBI4XoUrkcQQA==",
          "dtype": "f8"
         },
         "y": [
          "phi3:3.8b",
          "qwen3:4b",
          "qwen3:14b",
          "gemma3:4b",
          "gemma3:12b",
          "gemma3n:e2b",
          "deepseek-r1:8b",
          "deepseek-r1:14b"
         ]
        },
        {
         "hovertemplate": "Intel i5-4690K + Nvidia GTX 1060 6GB<br>Modello: %{y} · CPU<br>%{x:.2f} token/s<extra></extra>",
         "marker": {
          "color": "rgb(246, 207, 113)",
          "pattern": {
           "shape": "/"
          }
         },
         "orientation": "h",
         "showlegend": false,
         "text": [
          "11.34",
          "7.25",
          "2.83",
          "10.96",
          "3.94",
          "15.87",
          "4.77",
          "3.40"
         ],
         "textposition": "outside",
         "type": "bar",
         "x": {
          "bdata": "rkfhehSuJkAAAAAAAAAdQKRwPQrXowZA7FG4HoXrJUCF61G4HoUPQD0K16NwvS9AFK5H4XoUE0AzMzMzMzMLQA==",
          "dtype": "f8"
         },
         "y": [
          "phi3:3.8b",
          "qwen3:4b",
          "qwen3:14b",
          "gemma3:4b",
          "gemma3:12b",
          "gemma3n:e2b",
          "deepseek-r1:8b",
          "deepseek-r1:14b"
         ]
        },
        {
         "hovertemplate": "AMD Ryzen 7 9800X3D + Nvidia GTX 4080 SUPER<br>Modello: %{y} · GPU<br>%{x:.2f} token/s<extra></extra>",
         "marker": {
          "color": "rgb(102, 197, 204)",
          "pattern": {
           "shape": "x"
          }
         },
         "orientation": "h",
         "showlegend": false,
         "text": [
          "210.74",
          "167.86",
          "68.82",
          "171.22",
          "75.85",
          "63.48",
          "109.16",
          "67.43"
         ],
         "textposition": "outside",
         "type": "bar",
         "x": {
          "bdata": "SOF6FK5XakDsUbgehftkQBSuR+F6NFFA16NwPQpnZUBmZmZmZvZSQD0K16NwvU9ACtejcD1KW0DsUbgehdtQQA==",
          "dtype": "f8"
         },
         "y": [
          "phi3:3.8b",
          "qwen3:4b",
          "qwen3:14b",
          "gemma3:4b",
          "gemma3:12b",
          "gemma3n:e2b",
          "deepseek-r1:8b",
          "deepseek-r1:14b"
         ]
        },
        {
         "hovertemplate": "AMD Ryzen 7 9800X3D + Nvidia GTX 4080 SUPER<br>Modello: %{y} · CPU<br>%{x:.2f} token/s<extra></extra>",
         "marker": {
          "color": "rgb(246, 207, 113)",
          "pattern": {
           "shape": "x"
          }
         },
         "orientation": "h",
         "showlegend": false,
         "text": [
          "22.35",
          "13.53",
          "4.53",
          "19.71",
          "7.32",
          "26.90",
          "7.67",
          "5.67"
         ],
         "textposition": "outside",
         "type": "bar",
         "x": {
          "bdata": "mpmZmZlZNkCPwvUoXA8rQB+F61G4HhJA9ihcj8K1M0BI4XoUrkcdQGZmZmZm5jpArkfhehSuHkCuR+F6FK4WQA==",
          "dtype": "f8"
         },
         "y": [
          "phi3:3.8b",
          "qwen3:4b",
          "qwen3:14b",
          "gemma3:4b",
          "gemma3:12b",
          "gemma3n:e2b",
          "deepseek-r1:8b",
          "deepseek-r1:14b"
         ]
        }
       ],
       "layout": {
        "barmode": "group",
        "height": 1920,
        "margin": {
         "r": 220
        },
        "template": {
         "data": {
          "bar": [
           {
            "error_x": {
             "color": "#2a3f5f"
            },
            "error_y": {
             "color": "#2a3f5f"
            },
            "marker": {
             "line": {
              "color": "#E5ECF6",
              "width": 0.5
             },
             "pattern": {
              "fillmode": "overlay",
              "size": 10,
              "solidity": 0.2
             }
            },
            "type": "bar"
           }
          ],
          "barpolar": [
           {
            "marker": {
             "line": {
              "color": "#E5ECF6",
              "width": 0.5
             },
             "pattern": {
              "fillmode": "overlay",
              "size": 10,
              "solidity": 0.2
             }
            },
            "type": "barpolar"
           }
          ],
          "carpet": [
           {
            "aaxis": {
             "endlinecolor": "#2a3f5f",
             "gridcolor": "white",
             "linecolor": "white",
             "minorgridcolor": "white",
             "startlinecolor": "#2a3f5f"
            },
            "baxis": {
             "endlinecolor": "#2a3f5f",
             "gridcolor": "white",
             "linecolor": "white",
             "minorgridcolor": "white",
             "startlinecolor": "#2a3f5f"
            },
            "type": "carpet"
           }
          ],
          "choropleth": [
           {
            "colorbar": {
             "outlinewidth": 0,
             "ticks": ""
            },
            "type": "choropleth"
           }
          ],
          "contour": [
           {
            "colorbar": {
             "outlinewidth": 0,
             "ticks": ""
            },
            "colorscale": [
             [
              0,
              "#0d0887"
             ],
             [
              0.1111111111111111,
              "#46039f"
             ],
             [
              0.2222222222222222,
              "#7201a8"
             ],
             [
              0.3333333333333333,
              "#9c179e"
             ],
             [
              0.4444444444444444,
              "#bd3786"
             ],
             [
              0.5555555555555556,
              "#d8576b"
             ],
             [
              0.6666666666666666,
              "#ed7953"
             ],
             [
              0.7777777777777778,
              "#fb9f3a"
             ],
             [
              0.8888888888888888,
              "#fdca26"
             ],
             [
              1,
              "#f0f921"
             ]
            ],
            "type": "contour"
           }
          ],
          "contourcarpet": [
           {
            "colorbar": {
             "outlinewidth": 0,
             "ticks": ""
            },
            "type": "contourcarpet"
           }
          ],
          "heatmap": [
           {
            "colorbar": {
             "outlinewidth": 0,
             "ticks": ""
            },
            "colorscale": [
             [
              0,
              "#0d0887"
             ],
             [
              0.1111111111111111,
              "#46039f"
             ],
             [
              0.2222222222222222,
              "#7201a8"
             ],
             [
              0.3333333333333333,
              "#9c179e"
             ],
             [
              0.4444444444444444,
              "#bd3786"
             ],
             [
              0.5555555555555556,
              "#d8576b"
             ],
             [
              0.6666666666666666,
              "#ed7953"
             ],
             [
              0.7777777777777778,
              "#fb9f3a"
             ],
             [
              0.8888888888888888,
              "#fdca26"
             ],
             [
              1,
              "#f0f921"
             ]
            ],
            "type": "heatmap"
           }
          ],
          "histogram": [
           {
            "marker": {
             "pattern": {
              "fillmode": "overlay",
              "size": 10,
              "solidity": 0.2
             }
            },
            "type": "histogram"
           }
          ],
          "histogram2d": [
           {
            "colorbar": {
             "outlinewidth": 0,
             "ticks": ""
            },
            "colorscale": [
             [
              0,
              "#0d0887"
             ],
             [
              0.1111111111111111,
              "#46039f"
             ],
             [
              0.2222222222222222,
              "#7201a8"
             ],
             [
              0.3333333333333333,
              "#9c179e"
             ],
             [
              0.4444444444444444,
              "#bd3786"
             ],
             [
              0.5555555555555556,
              "#d8576b"
             ],
             [
              0.6666666666666666,
              "#ed7953"
             ],
             [
              0.7777777777777778,
              "#fb9f3a"
             ],
             [
              0.8888888888888888,
              "#fdca26"
             ],
             [
              1,
              "#f0f921"
             ]
            ],
            "type": "histogram2d"
           }
          ],
          "histogram2dcontour": [
           {
            "colorbar": {
             "outlinewidth": 0,
             "ticks": ""
            },
            "colorscale": [
             [
              0,
              "#0d0887"
             ],
             [
              0.1111111111111111,
              "#46039f"
             ],
             [
              0.2222222222222222,
              "#7201a8"
             ],
             [
              0.3333333333333333,
              "#9c179e"
             ],
             [
              0.4444444444444444,
              "#bd3786"
             ],
             [
              0.5555555555555556,
              "#d8576b"
             ],
             [
              0.6666666666666666,
              "#ed7953"
             ],
             [
              0.7777777777777778,
              "#fb9f3a"
             ],
             [
              0.8888888888888888,
              "#fdca26"
             ],
             [
              1,
              "#f0f921"
             ]
            ],
            "type": "histogram2dcontour"
           }
          ],
          "mesh3d": [
           {
            "colorbar": {
             "outlinewidth": 0,
             "ticks": ""
            },
            "type": "mesh3d"
           }
          ],
          "parcoords": [
           {
            "line": {
             "colorbar": {
              "outlinewidth": 0,
              "ticks": ""
             }
            },
            "type": "parcoords"
           }
          ],
          "pie": [
           {
            "automargin": true,
            "type": "pie"
           }
          ],
          "scatter": [
           {
            "fillpattern": {
             "fillmode": "overlay",
             "size": 10,
             "solidity": 0.2
            },
            "type": "scatter"
           }
          ],
          "scatter3d": [
           {
            "line": {
             "colorbar": {
              "outlinewidth": 0,
              "ticks": ""
             }
            },
            "marker": {
             "colorbar": {
              "outlinewidth": 0,
              "ticks": ""
             }
            },
            "type": "scatter3d"
           }
          ],
          "scattercarpet": [
           {
            "marker": {
             "colorbar": {
              "outlinewidth": 0,
              "ticks": ""
             }
            },
            "type": "scattercarpet"
           }
          ],
          "scattergeo": [
           {
            "marker": {
             "colorbar": {
              "outlinewidth": 0,
              "ticks": ""
             }
            },
            "type": "scattergeo"
           }
          ],
          "scattergl": [
           {
            "marker": {
             "colorbar": {
              "outlinewidth": 0,
              "ticks": ""
             }
            },
            "type": "scattergl"
           }
          ],
          "scattermap": [
           {
            "marker": {
             "colorbar": {
              "outlinewidth": 0,
              "ticks": ""
             }
            },
            "type": "scattermap"
           }
          ],
          "scattermapbox": [
           {
            "marker": {
             "colorbar": {
              "outlinewidth": 0,
              "ticks": ""
             }
            },
            "type": "scattermapbox"
           }
          ],
          "scatterpolar": [
           {
            "marker": {
             "colorbar": {
              "outlinewidth": 0,
              "ticks": ""
             }
            },
            "type": "scatterpolar"
           }
          ],
          "scatterpolargl": [
           {
            "marker": {
             "colorbar": {
              "outlinewidth": 0,
              "ticks": ""
             }
            },
            "type": "scatterpolargl"
           }
          ],
          "scatterternary": [
           {
            "marker": {
             "colorbar": {
              "outlinewidth": 0,
              "ticks": ""
             }
            },
            "type": "scatterternary"
           }
          ],
          "surface": [
           {
            "colorbar": {
             "outlinewidth": 0,
             "ticks": ""
            },
            "colorscale": [
             [
              0,
              "#0d0887"
             ],
             [
              0.1111111111111111,
              "#46039f"
             ],
             [
              0.2222222222222222,
              "#7201a8"
             ],
             [
              0.3333333333333333,
              "#9c179e"
             ],
             [
              0.4444444444444444,
              "#bd3786"
             ],
             [
              0.5555555555555556,
              "#d8576b"
             ],
             [
              0.6666666666666666,
              "#ed7953"
             ],
             [
              0.7777777777777778,
              "#fb9f3a"
             ],
             [
              0.8888888888888888,
              "#fdca26"
             ],
             [
              1,
              "#f0f921"
             ]
            ],
            "type": "surface"
           }
          ],
          "table": [
           {
            "cells": {
             "fill": {
              "color": "#EBF0F8"
             },
             "line": {
              "color": "white"
             }
            },
            "header": {
             "fill": {
              "color": "#C8D4E3"
             },
             "line": {
              "color": "white"
             }
            },
            "type": "table"
           }
          ]
         },
         "layout": {
          "annotationdefaults": {
           "arrowcolor": "#2a3f5f",
           "arrowhead": 0,
           "arrowwidth": 1
          },
          "autotypenumbers": "strict",
          "coloraxis": {
           "colorbar": {
            "outlinewidth": 0,
            "ticks": ""
           }
          },
          "colorscale": {
           "diverging": [
            [
             0,
             "#8e0152"
            ],
            [
             0.1,
             "#c51b7d"
            ],
            [
             0.2,
             "#de77ae"
            ],
            [
             0.3,
             "#f1b6da"
            ],
            [
             0.4,
             "#fde0ef"
            ],
            [
             0.5,
             "#f7f7f7"
            ],
            [
             0.6,
             "#e6f5d0"
            ],
            [
             0.7,
             "#b8e186"
            ],
            [
             0.8,
             "#7fbc41"
            ],
            [
             0.9,
             "#4d9221"
            ],
            [
             1,
             "#276419"
            ]
           ],
           "sequential": [
            [
             0,
             "#0d0887"
            ],
            [
             0.1111111111111111,
             "#46039f"
            ],
            [
             0.2222222222222222,
             "#7201a8"
            ],
            [
             0.3333333333333333,
             "#9c179e"
            ],
            [
             0.4444444444444444,
             "#bd3786"
            ],
            [
             0.5555555555555556,
             "#d8576b"
            ],
            [
             0.6666666666666666,
             "#ed7953"
            ],
            [
             0.7777777777777778,
             "#fb9f3a"
            ],
            [
             0.8888888888888888,
             "#fdca26"
            ],
            [
             1,
             "#f0f921"
            ]
           ],
           "sequentialminus": [
            [
             0,
             "#0d0887"
            ],
            [
             0.1111111111111111,
             "#46039f"
            ],
            [
             0.2222222222222222,
             "#7201a8"
            ],
            [
             0.3333333333333333,
             "#9c179e"
            ],
            [
             0.4444444444444444,
             "#bd3786"
            ],
            [
             0.5555555555555556,
             "#d8576b"
            ],
            [
             0.6666666666666666,
             "#ed7953"
            ],
            [
             0.7777777777777778,
             "#fb9f3a"
            ],
            [
             0.8888888888888888,
             "#fdca26"
            ],
            [
             1,
             "#f0f921"
            ]
           ]
          },
          "colorway": [
           "#636efa",
           "#EF553B",
           "#00cc96",
           "#ab63fa",
           "#FFA15A",
           "#19d3f3",
           "#FF6692",
           "#B6E880",
           "#FF97FF",
           "#FECB52"
          ],
          "font": {
           "color": "#2a3f5f"
          },
          "geo": {
           "bgcolor": "white",
           "lakecolor": "white",
           "landcolor": "#E5ECF6",
           "showlakes": true,
           "showland": true,
           "subunitcolor": "white"
          },
          "hoverlabel": {
           "align": "left"
          },
          "hovermode": "closest",
          "mapbox": {
           "style": "light"
          },
          "paper_bgcolor": "white",
          "plot_bgcolor": "#E5ECF6",
          "polar": {
           "angularaxis": {
            "gridcolor": "white",
            "linecolor": "white",
            "ticks": ""
           },
           "bgcolor": "#E5ECF6",
           "radialaxis": {
            "gridcolor": "white",
            "linecolor": "white",
            "ticks": ""
           }
          },
          "scene": {
           "xaxis": {
            "backgroundcolor": "#E5ECF6",
            "gridcolor": "white",
            "gridwidth": 2,
            "linecolor": "white",
            "showbackground": true,
            "ticks": "",
            "zerolinecolor": "white"
           },
           "yaxis": {
            "backgroundcolor": "#E5ECF6",
            "gridcolor": "white",
            "gridwidth": 2,
            "linecolor": "white",
            "showbackground": true,
            "ticks": "",
            "zerolinecolor": "white"
           },
           "zaxis": {
            "backgroundcolor": "#E5ECF6",
            "gridcolor": "white",
            "gridwidth": 2,
            "linecolor": "white",
            "showbackground": true,
            "ticks": "",
            "zerolinecolor": "white"
           }
          },
          "shapedefaults": {
           "line": {
            "color": "#2a3f5f"
           }
          },
          "ternary": {
           "aaxis": {
            "gridcolor": "white",
            "linecolor": "white",
            "ticks": ""
           },
           "baxis": {
            "gridcolor": "white",
            "linecolor": "white",
            "ticks": ""
           },
           "bgcolor": "#E5ECF6",
           "caxis": {
            "gridcolor": "white",
            "linecolor": "white",
            "ticks": ""
           }
          },
          "title": {
           "x": 0.05
          },
          "xaxis": {
           "automargin": true,
           "gridcolor": "white",
           "linecolor": "white",
           "ticks": "",
           "title": {
            "standoff": 15
           },
           "zerolinecolor": "white",
           "zerolinewidth": 2
          },
          "yaxis": {
           "automargin": true,
           "gridcolor": "white",
           "linecolor": "white",
           "ticks": "",
           "title": {
            "standoff": 15
           },
           "zerolinecolor": "white",
           "zerolinewidth": 2
          }
         }
        },
        "title": {
         "text": "Token al secondo – tutte le accelerazioni e macchine"
        },
        "updatemenus": [
         {
          "bgcolor": "white",
          "bordercolor": "lightgray",
          "buttons": [
           {
            "args": [
             {
              "visible": [
               true,
               true,
               true,
               true,
               true,
               true
              ]
             },
             {
              "title": "Token al secondo – tutte le accelerazioni"
             }
            ],
            "label": "Tutte le accelerazioni",
            "method": "update"
           },
           {
            "args": [
             {
              "visible": [
               true,
               false,
               true,
               false,
               true,
               false
              ]
             },
             {
              "title": "Token al secondo – solo GPU"
             }
            ],
            "label": "Solo GPU",
            "method": "update"
           },
           {
            "args": [
             {
              "visible": [
               false,
               true,
               false,
               true,
               false,
               true
              ]
             },
             {
              "title": "Token al secondo – solo CPU"
             }
            ],
            "label": "Solo CPU",
            "method": "update"
           }
          ],
          "direction": "down",
          "showactive": true,
          "x": 1.02,
          "xanchor": "left",
          "y": 1,
          "yanchor": "top"
         },
         {
          "bgcolor": "white",
          "bordercolor": "lightgray",
          "buttons": [
           {
            "args": [
             {
              "visible": [
               true,
               true,
               true,
               true,
               true,
               true
              ]
             },
             {
              "title": "Token al secondo – tutte le macchine"
             }
            ],
            "label": "Tutte le macchine",
            "method": "update"
           },
           {
            "args": [
             {
              "visible": [
               true,
               true,
               false,
               false,
               false,
               false
              ]
             },
             {
              "title": "Token al secondo – AMD Ryzen 5 9600X + Nvidia RTX 5060 16GB"
             }
            ],
            "label": "AMD Ryzen 5 9600X + Nvidia RTX 5060 16GB",
            "method": "update"
           },
           {
            "args": [
             {
              "visible": [
               false,
               false,
               true,
               true,
               false,
               false
              ]
             },
             {
              "title": "Token al secondo – Intel i5-4690K + Nvidia GTX 1060 6GB"
             }
            ],
            "label": "Intel i5-4690K + Nvidia GTX 1060 6GB",
            "method": "update"
           },
           {
            "args": [
             {
              "visible": [
               false,
               false,
               false,
               false,
               true,
               true
              ]
             },
             {
              "title": "Token al secondo – AMD Ryzen 7 9800X3D + Nvidia GTX 4080 SUPER"
             }
            ],
            "label": "AMD Ryzen 7 9800X3D + Nvidia GTX 4080 SUPER",
            "method": "update"
           }
          ],
          "direction": "down",
          "showactive": true,
          "x": 1.02,
          "xanchor": "left",
          "y": 0.8,
          "yanchor": "top"
         }
        ],
        "xaxis": {
         "title": {
          "text": "Token/s"
         }
        },
        "yaxis": {
         "title": {
          "text": "Modello LLM"
         }
        }
       }
      }
     },
     "metadata": {},
     "output_type": "display_data"
    }
   ],
   "source": [
    "# Acceleration label\n",
    "ollama_df[\"acc_label\"] = ollama_df[\"gpu\"].astype(str).replace({\"True\": \"GPU\", \"False\": \"CPU\"})\n",
    "\n",
    "# Machine label = CPU + GPU (dynamic)\n",
    "ollama_df[\"machine_label\"] = ollama_df[\"CPU\"] + \" + \" + ollama_df[\"GPU\"]\n",
    "\n",
    "# Sorted list of unique models (appearance order preserved)\n",
    "model_order = list(dict.fromkeys(ollama_df[\"model\"].tolist()))  # preserve first appearance order\n",
    "ollama_df[\"model\"] = pd.Categorical(ollama_df[\"model\"], categories=model_order, ordered=True)\n",
    "\n",
    "# Sorted list of unique machines\n",
    "machine_labels = list(dict.fromkeys(ollama_df[\"machine_label\"].tolist()))\n",
    "\n",
    "# Pattern shapes (cycle if more machines)\n",
    "patterns_cycle = [\"\", \"/\", \"x\", \"\\\\\", \"-\", \"|\", \"+\", \".\"]\n",
    "pattern_map = {\n",
    "    machine: patterns_cycle[i % len(patterns_cycle)]\n",
    "    for i, machine in enumerate(machine_labels)\n",
    "}\n",
    "\n",
    "# Colour mapping for GPU/CPU\n",
    "color_map = {\"GPU\": px.colors.qualitative.Pastel[0], \"CPU\": px.colors.qualitative.Pastel[1]}\n",
    "\n",
    "# ------------------ Build traces ------------------\n",
    "traces = []\n",
    "meta = []\n",
    "\n",
    "for machine in machine_labels:\n",
    "    for acc in [\"GPU\", \"CPU\"]:  # fixed order\n",
    "        subset = ollama_df[(ollama_df[\"machine_label\"] == machine) & (ollama_df[\"acc_label\"] == acc)]\n",
    "        if subset.empty:\n",
    "            continue\n",
    "        traces.append(\n",
    "            go.Bar(\n",
    "                y=subset[\"model\"],\n",
    "                x=subset[\"tok_med_s\"],   # average tokens per second\n",
    "                orientation=\"h\",\n",
    "                showlegend=False,\n",
    "                marker=dict(color=color_map[acc], pattern=dict(shape=pattern_map[machine])),\n",
    "                text=[f\"{t:.2f}\" for t in subset[\"tok_med_s\"]],\n",
    "                textposition=\"outside\",\n",
    "                hovertemplate=(\n",
    "                    f\"{machine}<br>Modello: %{{y}} · {acc}<br>%{{x:.2f}} token/s\"\n",
    "                    \"<extra></extra>\"\n",
    "                ),\n",
    "            )\n",
    "        )\n",
    "        meta.append({\"machine\": machine, \"acc\": acc})\n",
    "\n",
    "fig = go.Figure(data=traces)\n",
    "\n",
    "# ------------------ Visibility masks ------------------\n",
    "n = len(traces)\n",
    "vis_all = [True]*n\n",
    "vis_gpu_only = [m[\"acc\"] == \"GPU\" for m in meta]\n",
    "vis_cpu_only = [m[\"acc\"] == \"CPU\" for m in meta]\n",
    "\n",
    "machine_vis_dict = {machine: [m[\"machine\"] == machine for m in meta]\n",
    "                    for machine in machine_labels}\n",
    "\n",
    "# ------------------ Dropdowns ------------------\n",
    "dropdown_acc = dict(\n",
    "    buttons=[\n",
    "        dict(label=\"Tutte le accelerazioni\", method=\"update\",\n",
    "             args=[{\"visible\": vis_all},\n",
    "                   {\"title\": \"Token al secondo – tutte le accelerazioni\"}]),\n",
    "        dict(label=\"Solo GPU\", method=\"update\",\n",
    "             args=[{\"visible\": vis_gpu_only},\n",
    "                   {\"title\": \"Token al secondo – solo GPU\"}]),\n",
    "        dict(label=\"Solo CPU\", method=\"update\",\n",
    "             args=[{\"visible\": vis_cpu_only},\n",
    "                   {\"title\": \"Token al secondo – solo CPU\"}]),\n",
    "    ],\n",
    "    direction=\"down\",\n",
    "    x=1.02,\n",
    "    y=1,\n",
    "    xanchor=\"left\",\n",
    "    yanchor=\"top\",\n",
    "    showactive=True,\n",
    "    bgcolor=\"white\",\n",
    "    bordercolor=\"lightgray\"\n",
    ")\n",
    "\n",
    "machine_buttons = [\n",
    "    dict(label=\"Tutte le macchine\", method=\"update\",\n",
    "         args=[{\"visible\": vis_all},\n",
    "               {\"title\": \"Token al secondo – tutte le macchine\"}])\n",
    "]\n",
    "for machine in machine_labels:\n",
    "    machine_buttons.append(\n",
    "        dict(label=machine, method=\"update\",\n",
    "             args=[{\"visible\": machine_vis_dict[machine]},\n",
    "                   {\"title\": f\"Token al secondo – {machine}\"}])\n",
    "    )\n",
    "\n",
    "dropdown_machine = dict(\n",
    "    buttons=machine_buttons,\n",
    "    direction=\"down\",\n",
    "    x=1.02,\n",
    "    y=0.8,\n",
    "    xanchor=\"left\",\n",
    "    yanchor=\"top\",\n",
    "    showactive=True,\n",
    "    bgcolor=\"white\",\n",
    "    bordercolor=\"lightgray\"\n",
    ")\n",
    "\n",
    "# ------------------ Layout ------------------\n",
    "fig.update_layout(\n",
    "    barmode=\"group\",\n",
    "    title=\"Token al secondo – tutte le accelerazioni e macchine\",\n",
    "    xaxis_title=\"Token/s\",\n",
    "    yaxis_title=\"Modello LLM\",\n",
    "    updatemenus=[dropdown_acc, dropdown_machine],\n",
    "    height = len(ollama_df) * 40,\n",
    "    margin=dict(r=220)\n",
    ")\n",
    "\n",
    "fig.show()"
   ]
  }
 ],
 "metadata": {
  "kernelspec": {
   "display_name": "ai-ml-gpu-bench",
   "language": "python",
   "name": "python3"
  },
  "language_info": {
   "codemirror_mode": {
    "name": "ipython",
    "version": 3
   },
   "file_extension": ".py",
   "mimetype": "text/x-python",
   "name": "python",
   "nbconvert_exporter": "python",
   "pygments_lexer": "ipython3",
   "version": "3.13.5"
  }
 },
 "nbformat": 4,
 "nbformat_minor": 5
}
